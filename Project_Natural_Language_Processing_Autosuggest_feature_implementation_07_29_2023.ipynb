{
 "cells": [
  {
   "cell_type": "markdown",
   "metadata": {
    "id": "NzEI7kZnCIU7"
   },
   "source": [
    "# **Project Description: Autosuggest Feature Implementation with N-gram Models & Markov Chains**\n"
   ]
  },
  {
   "cell_type": "markdown",
   "metadata": {
    "id": "yDw_sK6YCUU2"
   },
   "source": [
    "## **Context**"
   ]
  },
  {
   "cell_type": "markdown",
   "metadata": {
    "id": "UCSw-J62CxIW"
   },
   "source": [
    "In this project, we will solve an NLP problem category - **Autosuggesting text**.\n",
    "\n",
    "We have been given a dataset which consists of emails sent by different users from the Enron corporation, so we are expected to create an Autosuggest engine that can suggest the next word to the user for a given input."
   ]
  },
  {
   "cell_type": "markdown",
   "metadata": {
    "id": "S7b__zR5C3ce"
   },
   "source": [
    "To create a text Autosuggest Engine, it is sufficient for our solution to the problem at this point, to merely predict the next word the user might enter using probabilistic approaches. This of course could result in increased convenience and ease of typing for the user. We will be solving this problem using 2 methods:\n",
    "\n",
    "* Using N-grams and Probabilistic NLP\n",
    "\n",
    "* Using N-Grams and the concept of Markov Chains"
   ]
  },
  {
   "cell_type": "markdown",
   "metadata": {
    "id": "LpDMiaxTA9rU"
   },
   "source": [
    "## **Notebook Content & Flow**\n",
    "\n",
    "1. [Importing the Libraries 🚀](#import)\n",
    "\n",
    "\n",
    "2. [Reading The Dataset 📖](#read_df)\n",
    "    * [2.1 - Fetching the data of a particular user 👨](#fetch_user_data)\n",
    "    \n",
    "\n",
    "3. [Data Cleaning & Preprocessing 🧹](#clean_data)\n",
    "    * [3.1 - Joining all the text as a single string 🕸️](#join)\n",
    "    * [3.2 - Tokenizing the text 🔪](#tokenize)\n",
    "    \n",
    "\n",
    "4. [Implementing Autosuggest Using N-Grams and Probabilistic NLP 📊](#probability)\n",
    "    * [4.1 - Suggesting Text 📜](#suggest_probability)\n",
    "    \n",
    "\n",
    "5. [Implementing Autosuggest Using N-Grams and the concept of Markov Chains ⛓️](#markov)\n",
    "    * [5.1 - Suggesting Text 📜](#suggest_markov)"
   ]
  },
  {
   "cell_type": "markdown",
   "metadata": {
    "id": "2CbUDcd-DC6G"
   },
   "source": [
    "## **Setting up the notebook view**"
   ]
  },
  {
   "cell_type": "code",
   "execution_count": 1,
   "metadata": {
    "colab": {
     "base_uri": "https://localhost:8080/",
     "height": 17
    },
    "id": "hSB2LK_A1ltn",
    "outputId": "b500298d-26fd-4246-df3e-0be7d01113cb"
   },
   "outputs": [
    {
     "data": {
      "text/html": [
       "<style>\n",
       "\n",
       "    div #notebook {\n",
       "    background-color: white;\n",
       "    line-height: 20px;\n",
       "    }\n",
       "\n",
       "    #notebook-container {\n",
       "    width: 95%;\n",
       "    margin-top: 2em;\n",
       "    padding-top: 2em;\n",
       "    border-top: 4px solid #6166B3; /* light orange */\n",
       "    -webkit-box-shadow: 0px 0px 8px 2px rgba(224, 212, 226, 0.5); /* pink */\n",
       "    box-shadow: 0px 0px 8px 2px rgba(224, 212, 226, 0.5); /* pink */\n",
       "    }\n",
       "\n",
       "    div .input {\n",
       "    margin-bottom: 1em;\n",
       "    }\n",
       "\n",
       "    .rendered_html h1, .rendered_html h2, .rendered_html h3, .rendered_html h4, .rendered_html h5, .rendered_html h6 {\n",
       "    color: #6166B3; /* light orange */\n",
       "    font-weight: 600;\n",
       "    }\n",
       "\n",
       "    div.input_area {\n",
       "    border: none;\n",
       "        background-color: rgba(97, 102, 179, 0.1); /* rgba(229, 143, 101, 0.1); light orange [exactly #E58F65] */\n",
       "        border-top: 2px solid #6166B3; /* light orange */\n",
       "    }\n",
       "\n",
       "    div.input_prompt {\n",
       "    color: #6166B3; /* light blue */\n",
       "    }\n",
       "\n",
       "    div.output_prompt {\n",
       "    color: #0b2553; /* strong orange */\n",
       "    }\n",
       "\n",
       "    div.cell.selected:before, div.cell.selected.jupyter-soft-selected:before {\n",
       "    background: #6166B3; /* light orange */\n",
       "    }\n",
       "\n",
       "    div.cell.selected, div.cell.selected.jupyter-soft-selected {\n",
       "        border-color: #6166B3; /* light orange */\n",
       "    }\n",
       "\n",
       "    .edit_mode div.cell.selected:before {\n",
       "    background: #6166B3; /* light orange */\n",
       "    }\n",
       "\n",
       "    .edit_mode div.cell.selected {\n",
       "    border-color: #6166B3; /* light orange */\n",
       "\n",
       "    }\n",
       "    </style>"
      ],
      "text/plain": [
       "<IPython.core.display.HTML object>"
      ]
     },
     "execution_count": 1,
     "metadata": {},
     "output_type": "execute_result"
    }
   ],
   "source": [
    "from IPython.core.display import display, HTML, Javascript\n",
    "\n",
    "# ----- Notebook Theme -----\n",
    "color_map = ['#6166B3', '#e8eff6', '#0b2553']\n",
    "\n",
    "prompt = color_map[-1]\n",
    "main_color = color_map[0]\n",
    "\n",
    "css_file = '''\n",
    "\n",
    "    div #notebook {\n",
    "    background-color: white;\n",
    "    line-height: 20px;\n",
    "    }\n",
    "\n",
    "    #notebook-container {\n",
    "    %s\n",
    "    margin-top: 2em;\n",
    "    padding-top: 2em;\n",
    "    border-top: 4px solid %s; /* light orange */\n",
    "    -webkit-box-shadow: 0px 0px 8px 2px rgba(224, 212, 226, 0.5); /* pink */\n",
    "    box-shadow: 0px 0px 8px 2px rgba(224, 212, 226, 0.5); /* pink */\n",
    "    }\n",
    "\n",
    "    div .input {\n",
    "    margin-bottom: 1em;\n",
    "    }\n",
    "\n",
    "    .rendered_html h1, .rendered_html h2, .rendered_html h3, .rendered_html h4, .rendered_html h5, .rendered_html h6 {\n",
    "    color: %s; /* light orange */\n",
    "    font-weight: 600;\n",
    "    }\n",
    "\n",
    "    div.input_area {\n",
    "    border: none;\n",
    "        background-color: %s; /* rgba(229, 143, 101, 0.1); light orange [exactly #E58F65] */\n",
    "        border-top: 2px solid %s; /* light orange */\n",
    "    }\n",
    "\n",
    "    div.input_prompt {\n",
    "    color: %s; /* light blue */\n",
    "    }\n",
    "\n",
    "    div.output_prompt {\n",
    "    color: %s; /* strong orange */\n",
    "    }\n",
    "\n",
    "    div.cell.selected:before, div.cell.selected.jupyter-soft-selected:before {\n",
    "    background: %s; /* light orange */\n",
    "    }\n",
    "\n",
    "    div.cell.selected, div.cell.selected.jupyter-soft-selected {\n",
    "        border-color: %s; /* light orange */\n",
    "    }\n",
    "\n",
    "    .edit_mode div.cell.selected:before {\n",
    "    background: %s; /* light orange */\n",
    "    }\n",
    "\n",
    "    .edit_mode div.cell.selected {\n",
    "    border-color: %s; /* light orange */\n",
    "\n",
    "    }\n",
    "    '''\n",
    "def to_rgb(h):\n",
    "    return tuple(int(h[i:i+2], 16) for i in [0, 2, 4])\n",
    "\n",
    "main_color_rgba = 'rgba(%s, %s, %s, 0.1)' % (to_rgb(main_color[1:]))\n",
    "open('notebook.css', 'w').write(css_file % ('width: 95%;', main_color, main_color, main_color_rgba, main_color,  main_color, prompt, main_color, main_color, main_color, main_color))\n",
    "\n",
    "def nb():\n",
    "    return HTML(\"<style>\" + open(\"notebook.css\", \"r\").read() + \"</style>\")\n",
    "nb()"
   ]
  },
  {
   "cell_type": "markdown",
   "metadata": {
    "id": "xcpf204Q-79Y"
   },
   "source": [
    "## **GitHub repository URL**\n",
    "## **https://github.com/GreatLearningAIML1/gl-pgp-aiml-uta-intl-apr20-SubratMuruni.git**"
   ]
  },
  {
   "cell_type": "markdown",
   "metadata": {
    "id": "KnkbwL1jDTqS"
   },
   "source": [
    "<a id='import'></a>\n",
    "## **Importing Libraries**\n",
    "\n",
    "### **Q1: Import the necessary libraries and briefly explain the use of each library (10 marks)**"
   ]
  },
  {
   "cell_type": "code",
   "execution_count": 2,
   "metadata": {
    "colab": {
     "base_uri": "https://localhost:8080/"
    },
    "id": "mUub6t7oDJf6",
    "outputId": "168a4186-c39e-47a2-fbff-61976ea6cc7a"
   },
   "outputs": [
    {
     "name": "stderr",
     "output_type": "stream",
     "text": [
      "[nltk_data] Downloading package punkt to /root/nltk_data...\n",
      "[nltk_data]   Unzipping tokenizers/punkt.zip.\n"
     ]
    },
    {
     "data": {
      "text/plain": [
       "True"
      ]
     },
     "execution_count": 2,
     "metadata": {},
     "output_type": "execute_result"
    }
   ],
   "source": [
    "import pandas as pd\n",
    "\n",
    "# Importing the numpy library\n",
    "import numpy as np\n",
    "\n",
    "import seaborn as sns\n",
    "import matplotlib.pyplot as plt\n",
    "\n",
    "from tqdm import tqdm\n",
    "\n",
    "import regex as re\n",
    "\n",
    "# Import Count Vectorizer from sklearn\n",
    "\n",
    "from sklearn.feature_extraction.text import CountVectorizer\n",
    "\n",
    "# From NLTK's tokenize subpackage import word_tokenize\n",
    "\n",
    "from nltk.tokenize import word_tokenize\n",
    "\n",
    "import networkx as nx\n",
    "\n",
    "import warnings\n",
    "warnings.filterwarnings('ignore')\n",
    "\n",
    "import nltk\n",
    "nltk.download('punkt')"
   ]
  },
  {
   "cell_type": "markdown",
   "metadata": {
    "id": "oxr_GbWDXExr"
   },
   "source": [
    "## **Reading the DataFrame**\n",
    "\n",
    "<a id='read_df'></a>\n",
    "### **Q2: Read in the Dataframe using Pandas (5 marks)**"
   ]
  },
  {
   "cell_type": "code",
   "execution_count": 3,
   "metadata": {
    "colab": {
     "base_uri": "https://localhost:8080/"
    },
    "id": "MyGaXDUMXBOb",
    "outputId": "01968b1b-199f-4f9f-bab2-9983c7e8dbc9"
   },
   "outputs": [
    {
     "name": "stdout",
     "output_type": "stream",
     "text": [
      "Mounted at /content/drive\n"
     ]
    }
   ],
   "source": [
    "# Connect to google drive from Colab\n",
    "from google.colab import drive\n",
    "drive.mount('/content/drive')"
   ]
  },
  {
   "cell_type": "code",
   "execution_count": 4,
   "metadata": {
    "id": "caytjiaiZxYk"
   },
   "outputs": [],
   "source": [
    "# Read the dataframe\n",
    "\n",
    "df = pd.read_csv('/content/drive/My Drive/Artificial Neural Networks/DataSets/emaildata_100000_0.csv')"
   ]
  },
  {
   "cell_type": "code",
   "execution_count": 5,
   "metadata": {
    "colab": {
     "base_uri": "https://localhost:8080/",
     "height": 206
    },
    "id": "NHTU9GdnZ8OM",
    "outputId": "7f25dff1-12d1-4747-9b99-3afafe320a29"
   },
   "outputs": [
    {
     "data": {
      "text/html": [
       "\n",
       "\n",
       "  <div id=\"df-33942a34-b4b9-4b80-8cd1-4a2b66afe18a\">\n",
       "    <div class=\"colab-df-container\">\n",
       "      <div>\n",
       "<style scoped>\n",
       "    .dataframe tbody tr th:only-of-type {\n",
       "        vertical-align: middle;\n",
       "    }\n",
       "\n",
       "    .dataframe tbody tr th {\n",
       "        vertical-align: top;\n",
       "    }\n",
       "\n",
       "    .dataframe thead th {\n",
       "        text-align: right;\n",
       "    }\n",
       "</style>\n",
       "<table border=\"1\" class=\"dataframe\">\n",
       "  <thead>\n",
       "    <tr style=\"text-align: right;\">\n",
       "      <th></th>\n",
       "      <th>Unnamed: 0</th>\n",
       "      <th>date</th>\n",
       "      <th>sender</th>\n",
       "      <th>recipient1</th>\n",
       "      <th>subject</th>\n",
       "      <th>text</th>\n",
       "    </tr>\n",
       "  </thead>\n",
       "  <tbody>\n",
       "    <tr>\n",
       "      <th>0</th>\n",
       "      <td>0</td>\n",
       "      <td>2001-05-14 16:39:00-07:00</td>\n",
       "      <td>phillip.allen@enron.com</td>\n",
       "      <td>tim.belden@enron.com</td>\n",
       "      <td>NaN</td>\n",
       "      <td>['', 'Here is our forecast', '', ' ']</td>\n",
       "    </tr>\n",
       "    <tr>\n",
       "      <th>1</th>\n",
       "      <td>1</td>\n",
       "      <td>2001-05-04 13:51:00-07:00</td>\n",
       "      <td>phillip.allen@enron.com</td>\n",
       "      <td>john.lavorato@enron.com</td>\n",
       "      <td>Re:</td>\n",
       "      <td>['', 'Traveling to have a business meeting tak...</td>\n",
       "    </tr>\n",
       "    <tr>\n",
       "      <th>2</th>\n",
       "      <td>2</td>\n",
       "      <td>2000-10-18 03:00:00-07:00</td>\n",
       "      <td>phillip.allen@enron.com</td>\n",
       "      <td>leah.arsdall@enron.com</td>\n",
       "      <td>Re: test</td>\n",
       "      <td>['', 'test successful.  way to go!!!']</td>\n",
       "    </tr>\n",
       "    <tr>\n",
       "      <th>3</th>\n",
       "      <td>3</td>\n",
       "      <td>2000-10-23 06:13:00-07:00</td>\n",
       "      <td>phillip.allen@enron.com</td>\n",
       "      <td>randall.gay@enron.com</td>\n",
       "      <td>NaN</td>\n",
       "      <td>['', 'Randy,', '', ' Can you send me a schedul...</td>\n",
       "    </tr>\n",
       "    <tr>\n",
       "      <th>4</th>\n",
       "      <td>4</td>\n",
       "      <td>2000-08-31 05:07:00-07:00</td>\n",
       "      <td>phillip.allen@enron.com</td>\n",
       "      <td>greg.piper@enron.com</td>\n",
       "      <td>Re: Hello</td>\n",
       "      <td>['', \"Let's shoot for Tuesday at 11:45.  \"]</td>\n",
       "    </tr>\n",
       "  </tbody>\n",
       "</table>\n",
       "</div>\n",
       "      <button class=\"colab-df-convert\" onclick=\"convertToInteractive('df-33942a34-b4b9-4b80-8cd1-4a2b66afe18a')\"\n",
       "              title=\"Convert this dataframe to an interactive table.\"\n",
       "              style=\"display:none;\">\n",
       "\n",
       "  <svg xmlns=\"http://www.w3.org/2000/svg\" height=\"24px\"viewBox=\"0 0 24 24\"\n",
       "       width=\"24px\">\n",
       "    <path d=\"M0 0h24v24H0V0z\" fill=\"none\"/>\n",
       "    <path d=\"M18.56 5.44l.94 2.06.94-2.06 2.06-.94-2.06-.94-.94-2.06-.94 2.06-2.06.94zm-11 1L8.5 8.5l.94-2.06 2.06-.94-2.06-.94L8.5 2.5l-.94 2.06-2.06.94zm10 10l.94 2.06.94-2.06 2.06-.94-2.06-.94-.94-2.06-.94 2.06-2.06.94z\"/><path d=\"M17.41 7.96l-1.37-1.37c-.4-.4-.92-.59-1.43-.59-.52 0-1.04.2-1.43.59L10.3 9.45l-7.72 7.72c-.78.78-.78 2.05 0 2.83L4 21.41c.39.39.9.59 1.41.59.51 0 1.02-.2 1.41-.59l7.78-7.78 2.81-2.81c.8-.78.8-2.07 0-2.86zM5.41 20L4 18.59l7.72-7.72 1.47 1.35L5.41 20z\"/>\n",
       "  </svg>\n",
       "      </button>\n",
       "\n",
       "\n",
       "\n",
       "    <div id=\"df-eb3a8727-ff0d-4a34-9421-baf2ab4a62c3\">\n",
       "      <button class=\"colab-df-quickchart\" onclick=\"quickchart('df-eb3a8727-ff0d-4a34-9421-baf2ab4a62c3')\"\n",
       "              title=\"Suggest charts.\"\n",
       "              style=\"display:none;\">\n",
       "\n",
       "<svg xmlns=\"http://www.w3.org/2000/svg\" height=\"24px\"viewBox=\"0 0 24 24\"\n",
       "     width=\"24px\">\n",
       "    <g>\n",
       "        <path d=\"M19 3H5c-1.1 0-2 .9-2 2v14c0 1.1.9 2 2 2h14c1.1 0 2-.9 2-2V5c0-1.1-.9-2-2-2zM9 17H7v-7h2v7zm4 0h-2V7h2v10zm4 0h-2v-4h2v4z\"/>\n",
       "    </g>\n",
       "</svg>\n",
       "      </button>\n",
       "    </div>\n",
       "\n",
       "<style>\n",
       "  .colab-df-quickchart {\n",
       "    background-color: #E8F0FE;\n",
       "    border: none;\n",
       "    border-radius: 50%;\n",
       "    cursor: pointer;\n",
       "    display: none;\n",
       "    fill: #1967D2;\n",
       "    height: 32px;\n",
       "    padding: 0 0 0 0;\n",
       "    width: 32px;\n",
       "  }\n",
       "\n",
       "  .colab-df-quickchart:hover {\n",
       "    background-color: #E2EBFA;\n",
       "    box-shadow: 0px 1px 2px rgba(60, 64, 67, 0.3), 0px 1px 3px 1px rgba(60, 64, 67, 0.15);\n",
       "    fill: #174EA6;\n",
       "  }\n",
       "\n",
       "  [theme=dark] .colab-df-quickchart {\n",
       "    background-color: #3B4455;\n",
       "    fill: #D2E3FC;\n",
       "  }\n",
       "\n",
       "  [theme=dark] .colab-df-quickchart:hover {\n",
       "    background-color: #434B5C;\n",
       "    box-shadow: 0px 1px 3px 1px rgba(0, 0, 0, 0.15);\n",
       "    filter: drop-shadow(0px 1px 2px rgba(0, 0, 0, 0.3));\n",
       "    fill: #FFFFFF;\n",
       "  }\n",
       "</style>\n",
       "\n",
       "    <script>\n",
       "      async function quickchart(key) {\n",
       "        const containerElement = document.querySelector('#' + key);\n",
       "        const charts = await google.colab.kernel.invokeFunction(\n",
       "            'suggestCharts', [key], {});\n",
       "      }\n",
       "    </script>\n",
       "\n",
       "      <script>\n",
       "\n",
       "function displayQuickchartButton(domScope) {\n",
       "  let quickchartButtonEl =\n",
       "    domScope.querySelector('#df-eb3a8727-ff0d-4a34-9421-baf2ab4a62c3 button.colab-df-quickchart');\n",
       "  quickchartButtonEl.style.display =\n",
       "    google.colab.kernel.accessAllowed ? 'block' : 'none';\n",
       "}\n",
       "\n",
       "        displayQuickchartButton(document);\n",
       "      </script>\n",
       "      <style>\n",
       "    .colab-df-container {\n",
       "      display:flex;\n",
       "      flex-wrap:wrap;\n",
       "      gap: 12px;\n",
       "    }\n",
       "\n",
       "    .colab-df-convert {\n",
       "      background-color: #E8F0FE;\n",
       "      border: none;\n",
       "      border-radius: 50%;\n",
       "      cursor: pointer;\n",
       "      display: none;\n",
       "      fill: #1967D2;\n",
       "      height: 32px;\n",
       "      padding: 0 0 0 0;\n",
       "      width: 32px;\n",
       "    }\n",
       "\n",
       "    .colab-df-convert:hover {\n",
       "      background-color: #E2EBFA;\n",
       "      box-shadow: 0px 1px 2px rgba(60, 64, 67, 0.3), 0px 1px 3px 1px rgba(60, 64, 67, 0.15);\n",
       "      fill: #174EA6;\n",
       "    }\n",
       "\n",
       "    [theme=dark] .colab-df-convert {\n",
       "      background-color: #3B4455;\n",
       "      fill: #D2E3FC;\n",
       "    }\n",
       "\n",
       "    [theme=dark] .colab-df-convert:hover {\n",
       "      background-color: #434B5C;\n",
       "      box-shadow: 0px 1px 3px 1px rgba(0, 0, 0, 0.15);\n",
       "      filter: drop-shadow(0px 1px 2px rgba(0, 0, 0, 0.3));\n",
       "      fill: #FFFFFF;\n",
       "    }\n",
       "  </style>\n",
       "\n",
       "      <script>\n",
       "        const buttonEl =\n",
       "          document.querySelector('#df-33942a34-b4b9-4b80-8cd1-4a2b66afe18a button.colab-df-convert');\n",
       "        buttonEl.style.display =\n",
       "          google.colab.kernel.accessAllowed ? 'block' : 'none';\n",
       "\n",
       "        async function convertToInteractive(key) {\n",
       "          const element = document.querySelector('#df-33942a34-b4b9-4b80-8cd1-4a2b66afe18a');\n",
       "          const dataTable =\n",
       "            await google.colab.kernel.invokeFunction('convertToInteractive',\n",
       "                                                     [key], {});\n",
       "          if (!dataTable) return;\n",
       "\n",
       "          const docLinkHtml = 'Like what you see? Visit the ' +\n",
       "            '<a target=\"_blank\" href=https://colab.research.google.com/notebooks/data_table.ipynb>data table notebook</a>'\n",
       "            + ' to learn more about interactive tables.';\n",
       "          element.innerHTML = '';\n",
       "          dataTable['output_type'] = 'display_data';\n",
       "          await google.colab.output.renderOutput(dataTable, element);\n",
       "          const docLink = document.createElement('div');\n",
       "          docLink.innerHTML = docLinkHtml;\n",
       "          element.appendChild(docLink);\n",
       "        }\n",
       "      </script>\n",
       "    </div>\n",
       "  </div>\n"
      ],
      "text/plain": [
       "   Unnamed: 0                       date                   sender  \\\n",
       "0           0  2001-05-14 16:39:00-07:00  phillip.allen@enron.com   \n",
       "1           1  2001-05-04 13:51:00-07:00  phillip.allen@enron.com   \n",
       "2           2  2000-10-18 03:00:00-07:00  phillip.allen@enron.com   \n",
       "3           3  2000-10-23 06:13:00-07:00  phillip.allen@enron.com   \n",
       "4           4  2000-08-31 05:07:00-07:00  phillip.allen@enron.com   \n",
       "\n",
       "                recipient1    subject  \\\n",
       "0     tim.belden@enron.com        NaN   \n",
       "1  john.lavorato@enron.com        Re:   \n",
       "2   leah.arsdall@enron.com   Re: test   \n",
       "3    randall.gay@enron.com        NaN   \n",
       "4     greg.piper@enron.com  Re: Hello   \n",
       "\n",
       "                                                text  \n",
       "0              ['', 'Here is our forecast', '', ' ']  \n",
       "1  ['', 'Traveling to have a business meeting tak...  \n",
       "2             ['', 'test successful.  way to go!!!']  \n",
       "3  ['', 'Randy,', '', ' Can you send me a schedul...  \n",
       "4        ['', \"Let's shoot for Tuesday at 11:45.  \"]  "
      ]
     },
     "execution_count": 5,
     "metadata": {},
     "output_type": "execute_result"
    }
   ],
   "source": [
    "# Read the first 5 rows of the dataframe\n",
    "df.head(5)"
   ]
  },
  {
   "cell_type": "code",
   "execution_count": 6,
   "metadata": {
    "colab": {
     "base_uri": "https://localhost:8080/"
    },
    "id": "wj9Igw-ede-i",
    "outputId": "6006c7c8-a9a7-4b5f-c149-8d338a29f654"
   },
   "outputs": [
    {
     "name": "stdout",
     "output_type": "stream",
     "text": [
      "<class 'pandas.core.frame.DataFrame'>\n",
      "RangeIndex: 72932 entries, 0 to 72931\n",
      "Data columns (total 6 columns):\n",
      " #   Column      Non-Null Count  Dtype \n",
      "---  ------      --------------  ----- \n",
      " 0   Unnamed: 0  72932 non-null  int64 \n",
      " 1   date        72932 non-null  object\n",
      " 2   sender      72932 non-null  object\n",
      " 3   recipient1  72932 non-null  object\n",
      " 4   subject     68075 non-null  object\n",
      " 5   text        72932 non-null  object\n",
      "dtypes: int64(1), object(5)\n",
      "memory usage: 3.3+ MB\n"
     ]
    }
   ],
   "source": [
    "# find information about the dataset\n",
    "df.info()"
   ]
  },
  {
   "cell_type": "markdown",
   "metadata": {
    "id": "UrxbHHq1ZtPA"
   },
   "source": [
    "The dataframe has 6 columns. The column of interest for our work is \"Text\"."
   ]
  },
  {
   "cell_type": "code",
   "execution_count": 7,
   "metadata": {
    "colab": {
     "base_uri": "https://localhost:8080/"
    },
    "id": "4e9dZB0adpxx",
    "outputId": "50366e3a-b319-4d56-f87f-26b6843d9c75"
   },
   "outputs": [
    {
     "data": {
      "text/plain": [
       "Unnamed: 0       0\n",
       "date             0\n",
       "sender           0\n",
       "recipient1       0\n",
       "subject       4857\n",
       "text             0\n",
       "dtype: int64"
      ]
     },
     "execution_count": 7,
     "metadata": {},
     "output_type": "execute_result"
    }
   ],
   "source": [
    "# check the missing values/null in the dataset, which constists of mostly subjects.\n",
    "df.isnull().sum()"
   ]
  },
  {
   "cell_type": "markdown",
   "metadata": {
    "id": "DsuIq1tDZmrp"
   },
   "source": [
    "we will not drop any null values as the column \"Text\" is our variable column."
   ]
  },
  {
   "cell_type": "code",
   "execution_count": 8,
   "metadata": {
    "colab": {
     "base_uri": "https://localhost:8080/"
    },
    "id": "VajQ4VDfeJHT",
    "outputId": "3c9a9482-6f12-4fd7-cf04-c06c9cd49585"
   },
   "outputs": [
    {
     "data": {
      "text/plain": [
       "False"
      ]
     },
     "execution_count": 8,
     "metadata": {},
     "output_type": "execute_result"
    }
   ],
   "source": [
    "# find null values in the dataset\n",
    "df['text'].isna().any()"
   ]
  },
  {
   "cell_type": "code",
   "execution_count": 9,
   "metadata": {
    "colab": {
     "base_uri": "https://localhost:8080/"
    },
    "id": "nsFFSY-belNz",
    "outputId": "7754072f-5b86-4420-c457-b1f48f43c34d"
   },
   "outputs": [
    {
     "data": {
      "text/plain": [
       "30797"
      ]
     },
     "execution_count": 9,
     "metadata": {},
     "output_type": "execute_result"
    }
   ],
   "source": [
    "# find duplicate values in the text\n",
    "df['text'].duplicated().sum()"
   ]
  },
  {
   "cell_type": "code",
   "execution_count": 10,
   "metadata": {
    "colab": {
     "base_uri": "https://localhost:8080/"
    },
    "id": "h5bw4ETcatMH",
    "outputId": "891607c7-2ad7-4d7a-fc1d-935b4878ab77"
   },
   "outputs": [
    {
     "data": {
      "text/plain": [
       "array(['phillip.allen@enron.com', 'ina.rangel@enron.com',\n",
       "       '1.11913372.-2@multexinvestornetwork.com', ...,\n",
       "       'info@energyinformation.org', 'mog.heu@enron.com',\n",
       "       'daren.farmer@enron.com'], dtype=object)"
      ]
     },
     "execution_count": 10,
     "metadata": {},
     "output_type": "execute_result"
    }
   ],
   "source": [
    "# Check for the unique values of the sender\n",
    "df.sender.unique()"
   ]
  },
  {
   "cell_type": "markdown",
   "metadata": {
    "id": "NGv-8UMlfGXK"
   },
   "source": [
    "<a id='fetch_user_data'></a>\n",
    "### Q2.1 Fetching the text data of a particular user"
   ]
  },
  {
   "cell_type": "markdown",
   "metadata": {
    "id": "MMrirrPKfHpF"
   },
   "source": [
    "Please find the text related to the sender email address - 'phillip.allen@enron.com'by completing the code below"
   ]
  },
  {
   "cell_type": "code",
   "execution_count": 11,
   "metadata": {
    "colab": {
     "base_uri": "https://localhost:8080/",
     "height": 206
    },
    "id": "0yIfbM_gcl1x",
    "outputId": "f93bbecd-ebb4-4692-ea5c-bc86c8022178"
   },
   "outputs": [
    {
     "data": {
      "text/html": [
       "\n",
       "\n",
       "  <div id=\"df-3bb9d063-5f89-4d36-98f4-2c53e563910c\">\n",
       "    <div class=\"colab-df-container\">\n",
       "      <div>\n",
       "<style scoped>\n",
       "    .dataframe tbody tr th:only-of-type {\n",
       "        vertical-align: middle;\n",
       "    }\n",
       "\n",
       "    .dataframe tbody tr th {\n",
       "        vertical-align: top;\n",
       "    }\n",
       "\n",
       "    .dataframe thead th {\n",
       "        text-align: right;\n",
       "    }\n",
       "</style>\n",
       "<table border=\"1\" class=\"dataframe\">\n",
       "  <thead>\n",
       "    <tr style=\"text-align: right;\">\n",
       "      <th></th>\n",
       "      <th>text</th>\n",
       "    </tr>\n",
       "  </thead>\n",
       "  <tbody>\n",
       "    <tr>\n",
       "      <th>0</th>\n",
       "      <td>['', 'Here is our forecast', '', ' ']</td>\n",
       "    </tr>\n",
       "    <tr>\n",
       "      <th>1</th>\n",
       "      <td>['', 'Traveling to have a business meeting tak...</td>\n",
       "    </tr>\n",
       "    <tr>\n",
       "      <th>2</th>\n",
       "      <td>['', 'test successful.  way to go!!!']</td>\n",
       "    </tr>\n",
       "    <tr>\n",
       "      <th>3</th>\n",
       "      <td>['', 'Randy,', '', ' Can you send me a schedul...</td>\n",
       "    </tr>\n",
       "    <tr>\n",
       "      <th>4</th>\n",
       "      <td>['', \"Let's shoot for Tuesday at 11:45.  \"]</td>\n",
       "    </tr>\n",
       "  </tbody>\n",
       "</table>\n",
       "</div>\n",
       "      <button class=\"colab-df-convert\" onclick=\"convertToInteractive('df-3bb9d063-5f89-4d36-98f4-2c53e563910c')\"\n",
       "              title=\"Convert this dataframe to an interactive table.\"\n",
       "              style=\"display:none;\">\n",
       "\n",
       "  <svg xmlns=\"http://www.w3.org/2000/svg\" height=\"24px\"viewBox=\"0 0 24 24\"\n",
       "       width=\"24px\">\n",
       "    <path d=\"M0 0h24v24H0V0z\" fill=\"none\"/>\n",
       "    <path d=\"M18.56 5.44l.94 2.06.94-2.06 2.06-.94-2.06-.94-.94-2.06-.94 2.06-2.06.94zm-11 1L8.5 8.5l.94-2.06 2.06-.94-2.06-.94L8.5 2.5l-.94 2.06-2.06.94zm10 10l.94 2.06.94-2.06 2.06-.94-2.06-.94-.94-2.06-.94 2.06-2.06.94z\"/><path d=\"M17.41 7.96l-1.37-1.37c-.4-.4-.92-.59-1.43-.59-.52 0-1.04.2-1.43.59L10.3 9.45l-7.72 7.72c-.78.78-.78 2.05 0 2.83L4 21.41c.39.39.9.59 1.41.59.51 0 1.02-.2 1.41-.59l7.78-7.78 2.81-2.81c.8-.78.8-2.07 0-2.86zM5.41 20L4 18.59l7.72-7.72 1.47 1.35L5.41 20z\"/>\n",
       "  </svg>\n",
       "      </button>\n",
       "\n",
       "\n",
       "\n",
       "    <div id=\"df-b2277349-b059-4267-95f4-2212855342fb\">\n",
       "      <button class=\"colab-df-quickchart\" onclick=\"quickchart('df-b2277349-b059-4267-95f4-2212855342fb')\"\n",
       "              title=\"Suggest charts.\"\n",
       "              style=\"display:none;\">\n",
       "\n",
       "<svg xmlns=\"http://www.w3.org/2000/svg\" height=\"24px\"viewBox=\"0 0 24 24\"\n",
       "     width=\"24px\">\n",
       "    <g>\n",
       "        <path d=\"M19 3H5c-1.1 0-2 .9-2 2v14c0 1.1.9 2 2 2h14c1.1 0 2-.9 2-2V5c0-1.1-.9-2-2-2zM9 17H7v-7h2v7zm4 0h-2V7h2v10zm4 0h-2v-4h2v4z\"/>\n",
       "    </g>\n",
       "</svg>\n",
       "      </button>\n",
       "    </div>\n",
       "\n",
       "<style>\n",
       "  .colab-df-quickchart {\n",
       "    background-color: #E8F0FE;\n",
       "    border: none;\n",
       "    border-radius: 50%;\n",
       "    cursor: pointer;\n",
       "    display: none;\n",
       "    fill: #1967D2;\n",
       "    height: 32px;\n",
       "    padding: 0 0 0 0;\n",
       "    width: 32px;\n",
       "  }\n",
       "\n",
       "  .colab-df-quickchart:hover {\n",
       "    background-color: #E2EBFA;\n",
       "    box-shadow: 0px 1px 2px rgba(60, 64, 67, 0.3), 0px 1px 3px 1px rgba(60, 64, 67, 0.15);\n",
       "    fill: #174EA6;\n",
       "  }\n",
       "\n",
       "  [theme=dark] .colab-df-quickchart {\n",
       "    background-color: #3B4455;\n",
       "    fill: #D2E3FC;\n",
       "  }\n",
       "\n",
       "  [theme=dark] .colab-df-quickchart:hover {\n",
       "    background-color: #434B5C;\n",
       "    box-shadow: 0px 1px 3px 1px rgba(0, 0, 0, 0.15);\n",
       "    filter: drop-shadow(0px 1px 2px rgba(0, 0, 0, 0.3));\n",
       "    fill: #FFFFFF;\n",
       "  }\n",
       "</style>\n",
       "\n",
       "    <script>\n",
       "      async function quickchart(key) {\n",
       "        const containerElement = document.querySelector('#' + key);\n",
       "        const charts = await google.colab.kernel.invokeFunction(\n",
       "            'suggestCharts', [key], {});\n",
       "      }\n",
       "    </script>\n",
       "\n",
       "      <script>\n",
       "\n",
       "function displayQuickchartButton(domScope) {\n",
       "  let quickchartButtonEl =\n",
       "    domScope.querySelector('#df-b2277349-b059-4267-95f4-2212855342fb button.colab-df-quickchart');\n",
       "  quickchartButtonEl.style.display =\n",
       "    google.colab.kernel.accessAllowed ? 'block' : 'none';\n",
       "}\n",
       "\n",
       "        displayQuickchartButton(document);\n",
       "      </script>\n",
       "      <style>\n",
       "    .colab-df-container {\n",
       "      display:flex;\n",
       "      flex-wrap:wrap;\n",
       "      gap: 12px;\n",
       "    }\n",
       "\n",
       "    .colab-df-convert {\n",
       "      background-color: #E8F0FE;\n",
       "      border: none;\n",
       "      border-radius: 50%;\n",
       "      cursor: pointer;\n",
       "      display: none;\n",
       "      fill: #1967D2;\n",
       "      height: 32px;\n",
       "      padding: 0 0 0 0;\n",
       "      width: 32px;\n",
       "    }\n",
       "\n",
       "    .colab-df-convert:hover {\n",
       "      background-color: #E2EBFA;\n",
       "      box-shadow: 0px 1px 2px rgba(60, 64, 67, 0.3), 0px 1px 3px 1px rgba(60, 64, 67, 0.15);\n",
       "      fill: #174EA6;\n",
       "    }\n",
       "\n",
       "    [theme=dark] .colab-df-convert {\n",
       "      background-color: #3B4455;\n",
       "      fill: #D2E3FC;\n",
       "    }\n",
       "\n",
       "    [theme=dark] .colab-df-convert:hover {\n",
       "      background-color: #434B5C;\n",
       "      box-shadow: 0px 1px 3px 1px rgba(0, 0, 0, 0.15);\n",
       "      filter: drop-shadow(0px 1px 2px rgba(0, 0, 0, 0.3));\n",
       "      fill: #FFFFFF;\n",
       "    }\n",
       "  </style>\n",
       "\n",
       "      <script>\n",
       "        const buttonEl =\n",
       "          document.querySelector('#df-3bb9d063-5f89-4d36-98f4-2c53e563910c button.colab-df-convert');\n",
       "        buttonEl.style.display =\n",
       "          google.colab.kernel.accessAllowed ? 'block' : 'none';\n",
       "\n",
       "        async function convertToInteractive(key) {\n",
       "          const element = document.querySelector('#df-3bb9d063-5f89-4d36-98f4-2c53e563910c');\n",
       "          const dataTable =\n",
       "            await google.colab.kernel.invokeFunction('convertToInteractive',\n",
       "                                                     [key], {});\n",
       "          if (!dataTable) return;\n",
       "\n",
       "          const docLinkHtml = 'Like what you see? Visit the ' +\n",
       "            '<a target=\"_blank\" href=https://colab.research.google.com/notebooks/data_table.ipynb>data table notebook</a>'\n",
       "            + ' to learn more about interactive tables.';\n",
       "          element.innerHTML = '';\n",
       "          dataTable['output_type'] = 'display_data';\n",
       "          await google.colab.output.renderOutput(dataTable, element);\n",
       "          const docLink = document.createElement('div');\n",
       "          docLink.innerHTML = docLinkHtml;\n",
       "          element.appendChild(docLink);\n",
       "        }\n",
       "      </script>\n",
       "    </div>\n",
       "  </div>\n"
      ],
      "text/plain": [
       "                                                text\n",
       "0              ['', 'Here is our forecast', '', ' ']\n",
       "1  ['', 'Traveling to have a business meeting tak...\n",
       "2             ['', 'test successful.  way to go!!!']\n",
       "3  ['', 'Randy,', '', ' Can you send me a schedul...\n",
       "4        ['', \"Let's shoot for Tuesday at 11:45.  \"]"
      ]
     },
     "execution_count": 11,
     "metadata": {},
     "output_type": "execute_result"
    }
   ],
   "source": [
    "# Fetch the text data of a particular user\n",
    "df = df[df['sender']=='phillip.allen@enron.com'].astype(str)\n",
    "\n",
    "# Convert the series to dataframe\n",
    "df = pd.DataFrame(df, columns=['text'])\n",
    "\n",
    "# Print the head of the series\n",
    "df.head()"
   ]
  },
  {
   "cell_type": "code",
   "execution_count": 12,
   "metadata": {
    "colab": {
     "base_uri": "https://localhost:8080/"
    },
    "id": "rJtMWTSbMJTT",
    "outputId": "fd891e94-9310-4545-c860-2e764ae93290"
   },
   "outputs": [
    {
     "name": "stdout",
     "output_type": "stream",
     "text": [
      "<class 'pandas.core.frame.DataFrame'>\n",
      "Int64Index: 2086 entries, 0 to 72314\n",
      "Data columns (total 1 columns):\n",
      " #   Column  Non-Null Count  Dtype \n",
      "---  ------  --------------  ----- \n",
      " 0   text    2086 non-null   object\n",
      "dtypes: object(1)\n",
      "memory usage: 32.6+ KB\n"
     ]
    }
   ],
   "source": [
    "# find the resulting data set\n",
    "df.info()"
   ]
  },
  {
   "cell_type": "markdown",
   "metadata": {
    "id": "SS0wFE-2aL2o"
   },
   "source": [
    "The resulting dataframe with 2086 rows is being used for further model development as it is going to take a lot of time to process the entire data set."
   ]
  },
  {
   "cell_type": "markdown",
   "metadata": {
    "id": "aoTk9_mThkDY"
   },
   "source": [
    "<a id='clean_data'></a>\n",
    "## **Data Cleaning - Text Preprocessing** ( 15 Marks)\n",
    "\n",
    "### **Q3.1 : Perform Text Preprocessing in the following steps:** (5 Marks)"
   ]
  },
  {
   "cell_type": "code",
   "execution_count": 13,
   "metadata": {
    "id": "yRrlP-qQhj0m"
   },
   "outputs": [],
   "source": [
    "# function for cleaning the data.\n",
    "def clean_text(text):\n",
    "    # Remove all the elements except alphabets\n",
    "    text = re.sub(\"[^a-zA-Z]\",' ', text)\n",
    "\n",
    "    # Replace multiple white spaces into single white space\n",
    "    text = re.sub(' +', ' ', text)\n",
    "\n",
    "    # Removing the whitespaces in the beginning and the end of text\n",
    "    text = text.strip()\n",
    "\n",
    "    # Lower the text alphabets\n",
    "    text = text.lower()\n",
    "\n",
    "    # Return the text\n",
    "    return text"
   ]
  },
  {
   "cell_type": "code",
   "execution_count": 14,
   "metadata": {
    "colab": {
     "base_uri": "https://localhost:8080/",
     "height": 363
    },
    "id": "N_HswEaDiOO-",
    "outputId": "241d3d75-c35c-4426-d734-81860b9cd84e"
   },
   "outputs": [
    {
     "data": {
      "text/html": [
       "\n",
       "\n",
       "  <div id=\"df-ef28c3cd-1e79-44bc-90fd-0bdbccb04044\">\n",
       "    <div class=\"colab-df-container\">\n",
       "      <div>\n",
       "<style scoped>\n",
       "    .dataframe tbody tr th:only-of-type {\n",
       "        vertical-align: middle;\n",
       "    }\n",
       "\n",
       "    .dataframe tbody tr th {\n",
       "        vertical-align: top;\n",
       "    }\n",
       "\n",
       "    .dataframe thead th {\n",
       "        text-align: right;\n",
       "    }\n",
       "</style>\n",
       "<table border=\"1\" class=\"dataframe\">\n",
       "  <thead>\n",
       "    <tr style=\"text-align: right;\">\n",
       "      <th></th>\n",
       "      <th>text</th>\n",
       "    </tr>\n",
       "  </thead>\n",
       "  <tbody>\n",
       "    <tr>\n",
       "      <th>0</th>\n",
       "      <td>here is our forecast</td>\n",
       "    </tr>\n",
       "    <tr>\n",
       "      <th>1</th>\n",
       "      <td>traveling to have a business meeting takes the...</td>\n",
       "    </tr>\n",
       "    <tr>\n",
       "      <th>2</th>\n",
       "      <td>test successful way to go</td>\n",
       "    </tr>\n",
       "    <tr>\n",
       "      <th>3</th>\n",
       "      <td>randy can you send me a schedule of the salary...</td>\n",
       "    </tr>\n",
       "    <tr>\n",
       "      <th>4</th>\n",
       "      <td>let s shoot for tuesday at</td>\n",
       "    </tr>\n",
       "    <tr>\n",
       "      <th>5</th>\n",
       "      <td>greg how about either next tuesday or thursday...</td>\n",
       "    </tr>\n",
       "    <tr>\n",
       "      <th>6</th>\n",
       "      <td>please cc the following distribution list with...</td>\n",
       "    </tr>\n",
       "    <tr>\n",
       "      <th>7</th>\n",
       "      <td>any morning between and</td>\n",
       "    </tr>\n",
       "    <tr>\n",
       "      <th>8</th>\n",
       "      <td>login pallen pw ke davis i don t think these a...</td>\n",
       "    </tr>\n",
       "    <tr>\n",
       "      <th>9</th>\n",
       "      <td>forwarded by phillip k allen hou ect on pm buc...</td>\n",
       "    </tr>\n",
       "  </tbody>\n",
       "</table>\n",
       "</div>\n",
       "      <button class=\"colab-df-convert\" onclick=\"convertToInteractive('df-ef28c3cd-1e79-44bc-90fd-0bdbccb04044')\"\n",
       "              title=\"Convert this dataframe to an interactive table.\"\n",
       "              style=\"display:none;\">\n",
       "\n",
       "  <svg xmlns=\"http://www.w3.org/2000/svg\" height=\"24px\"viewBox=\"0 0 24 24\"\n",
       "       width=\"24px\">\n",
       "    <path d=\"M0 0h24v24H0V0z\" fill=\"none\"/>\n",
       "    <path d=\"M18.56 5.44l.94 2.06.94-2.06 2.06-.94-2.06-.94-.94-2.06-.94 2.06-2.06.94zm-11 1L8.5 8.5l.94-2.06 2.06-.94-2.06-.94L8.5 2.5l-.94 2.06-2.06.94zm10 10l.94 2.06.94-2.06 2.06-.94-2.06-.94-.94-2.06-.94 2.06-2.06.94z\"/><path d=\"M17.41 7.96l-1.37-1.37c-.4-.4-.92-.59-1.43-.59-.52 0-1.04.2-1.43.59L10.3 9.45l-7.72 7.72c-.78.78-.78 2.05 0 2.83L4 21.41c.39.39.9.59 1.41.59.51 0 1.02-.2 1.41-.59l7.78-7.78 2.81-2.81c.8-.78.8-2.07 0-2.86zM5.41 20L4 18.59l7.72-7.72 1.47 1.35L5.41 20z\"/>\n",
       "  </svg>\n",
       "      </button>\n",
       "\n",
       "\n",
       "\n",
       "    <div id=\"df-fd06c1b0-462a-46b5-a06d-91487778d74a\">\n",
       "      <button class=\"colab-df-quickchart\" onclick=\"quickchart('df-fd06c1b0-462a-46b5-a06d-91487778d74a')\"\n",
       "              title=\"Suggest charts.\"\n",
       "              style=\"display:none;\">\n",
       "\n",
       "<svg xmlns=\"http://www.w3.org/2000/svg\" height=\"24px\"viewBox=\"0 0 24 24\"\n",
       "     width=\"24px\">\n",
       "    <g>\n",
       "        <path d=\"M19 3H5c-1.1 0-2 .9-2 2v14c0 1.1.9 2 2 2h14c1.1 0 2-.9 2-2V5c0-1.1-.9-2-2-2zM9 17H7v-7h2v7zm4 0h-2V7h2v10zm4 0h-2v-4h2v4z\"/>\n",
       "    </g>\n",
       "</svg>\n",
       "      </button>\n",
       "    </div>\n",
       "\n",
       "<style>\n",
       "  .colab-df-quickchart {\n",
       "    background-color: #E8F0FE;\n",
       "    border: none;\n",
       "    border-radius: 50%;\n",
       "    cursor: pointer;\n",
       "    display: none;\n",
       "    fill: #1967D2;\n",
       "    height: 32px;\n",
       "    padding: 0 0 0 0;\n",
       "    width: 32px;\n",
       "  }\n",
       "\n",
       "  .colab-df-quickchart:hover {\n",
       "    background-color: #E2EBFA;\n",
       "    box-shadow: 0px 1px 2px rgba(60, 64, 67, 0.3), 0px 1px 3px 1px rgba(60, 64, 67, 0.15);\n",
       "    fill: #174EA6;\n",
       "  }\n",
       "\n",
       "  [theme=dark] .colab-df-quickchart {\n",
       "    background-color: #3B4455;\n",
       "    fill: #D2E3FC;\n",
       "  }\n",
       "\n",
       "  [theme=dark] .colab-df-quickchart:hover {\n",
       "    background-color: #434B5C;\n",
       "    box-shadow: 0px 1px 3px 1px rgba(0, 0, 0, 0.15);\n",
       "    filter: drop-shadow(0px 1px 2px rgba(0, 0, 0, 0.3));\n",
       "    fill: #FFFFFF;\n",
       "  }\n",
       "</style>\n",
       "\n",
       "    <script>\n",
       "      async function quickchart(key) {\n",
       "        const containerElement = document.querySelector('#' + key);\n",
       "        const charts = await google.colab.kernel.invokeFunction(\n",
       "            'suggestCharts', [key], {});\n",
       "      }\n",
       "    </script>\n",
       "\n",
       "      <script>\n",
       "\n",
       "function displayQuickchartButton(domScope) {\n",
       "  let quickchartButtonEl =\n",
       "    domScope.querySelector('#df-fd06c1b0-462a-46b5-a06d-91487778d74a button.colab-df-quickchart');\n",
       "  quickchartButtonEl.style.display =\n",
       "    google.colab.kernel.accessAllowed ? 'block' : 'none';\n",
       "}\n",
       "\n",
       "        displayQuickchartButton(document);\n",
       "      </script>\n",
       "      <style>\n",
       "    .colab-df-container {\n",
       "      display:flex;\n",
       "      flex-wrap:wrap;\n",
       "      gap: 12px;\n",
       "    }\n",
       "\n",
       "    .colab-df-convert {\n",
       "      background-color: #E8F0FE;\n",
       "      border: none;\n",
       "      border-radius: 50%;\n",
       "      cursor: pointer;\n",
       "      display: none;\n",
       "      fill: #1967D2;\n",
       "      height: 32px;\n",
       "      padding: 0 0 0 0;\n",
       "      width: 32px;\n",
       "    }\n",
       "\n",
       "    .colab-df-convert:hover {\n",
       "      background-color: #E2EBFA;\n",
       "      box-shadow: 0px 1px 2px rgba(60, 64, 67, 0.3), 0px 1px 3px 1px rgba(60, 64, 67, 0.15);\n",
       "      fill: #174EA6;\n",
       "    }\n",
       "\n",
       "    [theme=dark] .colab-df-convert {\n",
       "      background-color: #3B4455;\n",
       "      fill: #D2E3FC;\n",
       "    }\n",
       "\n",
       "    [theme=dark] .colab-df-convert:hover {\n",
       "      background-color: #434B5C;\n",
       "      box-shadow: 0px 1px 3px 1px rgba(0, 0, 0, 0.15);\n",
       "      filter: drop-shadow(0px 1px 2px rgba(0, 0, 0, 0.3));\n",
       "      fill: #FFFFFF;\n",
       "    }\n",
       "  </style>\n",
       "\n",
       "      <script>\n",
       "        const buttonEl =\n",
       "          document.querySelector('#df-ef28c3cd-1e79-44bc-90fd-0bdbccb04044 button.colab-df-convert');\n",
       "        buttonEl.style.display =\n",
       "          google.colab.kernel.accessAllowed ? 'block' : 'none';\n",
       "\n",
       "        async function convertToInteractive(key) {\n",
       "          const element = document.querySelector('#df-ef28c3cd-1e79-44bc-90fd-0bdbccb04044');\n",
       "          const dataTable =\n",
       "            await google.colab.kernel.invokeFunction('convertToInteractive',\n",
       "                                                     [key], {});\n",
       "          if (!dataTable) return;\n",
       "\n",
       "          const docLinkHtml = 'Like what you see? Visit the ' +\n",
       "            '<a target=\"_blank\" href=https://colab.research.google.com/notebooks/data_table.ipynb>data table notebook</a>'\n",
       "            + ' to learn more about interactive tables.';\n",
       "          element.innerHTML = '';\n",
       "          dataTable['output_type'] = 'display_data';\n",
       "          await google.colab.output.renderOutput(dataTable, element);\n",
       "          const docLink = document.createElement('div');\n",
       "          docLink.innerHTML = docLinkHtml;\n",
       "          element.appendChild(docLink);\n",
       "        }\n",
       "      </script>\n",
       "    </div>\n",
       "  </div>\n"
      ],
      "text/plain": [
       "                                                text\n",
       "0                               here is our forecast\n",
       "1  traveling to have a business meeting takes the...\n",
       "2                          test successful way to go\n",
       "3  randy can you send me a schedule of the salary...\n",
       "4                         let s shoot for tuesday at\n",
       "5  greg how about either next tuesday or thursday...\n",
       "6  please cc the following distribution list with...\n",
       "7                            any morning between and\n",
       "8  login pallen pw ke davis i don t think these a...\n",
       "9  forwarded by phillip k allen hou ect on pm buc..."
      ]
     },
     "execution_count": 14,
     "metadata": {},
     "output_type": "execute_result"
    }
   ],
   "source": [
    "# Clean the text\n",
    "df['text'] = df['text'].apply(clean_text)\n",
    "\n",
    "# Show the cleaned text\n",
    "df.head(10)"
   ]
  },
  {
   "cell_type": "markdown",
   "metadata": {
    "id": "VAAICkw-anll"
   },
   "source": [
    "The resulting data has no special characters or numbers, white space has been removed and the entire corpus has been converted to lower case."
   ]
  },
  {
   "cell_type": "markdown",
   "metadata": {
    "id": "tRHFnspZzbOB"
   },
   "source": [
    "<a id='join'></a>\n",
    "### **Q3.2: Join all the text into a single string (5 marks)**"
   ]
  },
  {
   "cell_type": "code",
   "execution_count": 15,
   "metadata": {
    "colab": {
     "base_uri": "https://localhost:8080/",
     "height": 36
    },
    "id": "NHLJLWdJkf5M",
    "outputId": "81619df7-7afd-4433-87a3-6c8aa11cdb05"
   },
   "outputs": [
    {
     "data": {
      "application/vnd.google.colaboratory.intrinsic+json": {
       "type": "string"
      },
      "text/plain": [
       "'here is our forecast'"
      ]
     },
     "execution_count": 15,
     "metadata": {},
     "output_type": "execute_result"
    }
   ],
   "source": [
    "# Join all the text as a single entity\n",
    "text = ' '.join(df['text'])\n",
    "\n",
    "# Show first 20 characters\n",
    "text[0:20]"
   ]
  },
  {
   "cell_type": "markdown",
   "metadata": {
    "id": "ewwCyyw6z1-S"
   },
   "source": [
    "<a id='tokenize'></a>\n",
    "### **Q3.3: Tokenize the text (5 marks)**"
   ]
  },
  {
   "cell_type": "code",
   "execution_count": 16,
   "metadata": {
    "colab": {
     "base_uri": "https://localhost:8080/"
    },
    "id": "w1ZFZR0vyznO",
    "outputId": "240cb9d8-c008-42ae-82b4-daf3b06352e3"
   },
   "outputs": [
    {
     "data": {
      "text/plain": [
       "['here',\n",
       " 'is',\n",
       " 'our',\n",
       " 'forecast',\n",
       " 'traveling',\n",
       " 'to',\n",
       " 'have',\n",
       " 'a',\n",
       " 'business',\n",
       " 'meeting']"
      ]
     },
     "execution_count": 16,
     "metadata": {},
     "output_type": "execute_result"
    }
   ],
   "source": [
    "# Tokenize the text\n",
    "tokenized_text = word_tokenize(text)\n",
    "\n",
    "# Show the first 10 tokens\n",
    "tokenized_text[:10]"
   ]
  },
  {
   "cell_type": "markdown",
   "metadata": {
    "id": "ev08svF43Nnz"
   },
   "source": [
    "<a id='probability'></a>\n",
    "## **Creating N-gram Models (with Probability)**\n",
    "\n",
    "### **Q4: Perform the following steps to create, visualize and implement N-grams to predict text:**"
   ]
  },
  {
   "cell_type": "markdown",
   "metadata": {
    "id": "K4EeParh3PRo"
   },
   "source": [
    "### **Q4.1: Complete the code to create N-grams (5 marks)**"
   ]
  },
  {
   "cell_type": "code",
   "execution_count": 18,
   "metadata": {
    "id": "e3NgN6d53KZH"
   },
   "outputs": [],
   "source": [
    "# function to create n-grams\n",
    "def create_ngrams(tokenized_text, ngrams):\n",
    "    # This creates 3 lists and zips the 3 lists element-wise\n",
    "    n_token_list = zip(*[tokenized_text[i:] for i in range(0,ngrams)])\n",
    "\n",
    "    # This will join all the elements of tuple as a string\n",
    "    ngrams_list = [' '.join(ngram) for ngram in n_token_list]\n",
    "\n",
    "    # Return the n-grams\n",
    "    return ngrams_list"
   ]
  },
  {
   "cell_type": "markdown",
   "metadata": {
    "id": "XWJaeLhz6uh1"
   },
   "source": [
    "### **Q4.2: Visualize the top 10 N-grams (5 marks)**"
   ]
  },
  {
   "cell_type": "code",
   "execution_count": 19,
   "metadata": {
    "id": "cuZpnh_X4wOU"
   },
   "outputs": [],
   "source": [
    "# Creating 1-gram, 2-gram, 3-gram and 4-gram from the existing data\n",
    "i_gram = create_ngrams(tokenized_text, 1)\n",
    "bi_gram = create_ngrams(tokenized_text, 2)\n",
    "tri_gram = create_ngrams(tokenized_text, 3)\n",
    "four_gram = create_ngrams(tokenized_text, 4)\n",
    "\n",
    "# Fetching the top 10 most repeated n-grams\n",
    "uni_gram = pd.Series(uni_gram).value_counts()[:10]\n",
    "bi_gram = pd.Series(bi_gram).value_counts()[:10]\n",
    "tri_gram = pd.Series(tri_gram).value_counts()[:10]\n",
    "four_gram = pd.Series(four_gram).value_counts()[:10]"
   ]
  },
  {
   "cell_type": "code",
   "execution_count": 20,
   "metadata": {
    "colab": {
     "base_uri": "https://localhost:8080/",
     "height": 975
    },
    "id": "5oGlK_Bm84L6",
    "outputId": "e339c58c-62aa-40ed-d66d-827512ff123e"
   },
   "outputs": [
    {
     "data": {
      "image/png": "[encoded data removed]",
      "text/plain": [
       "<Figure size 1500x1000 with 4 Axes>"
      ]
     },
     "metadata": {},
     "output_type": "display_data"
    }
   ],
   "source": [
    "# Set the subtitle\n",
    "fig, ax = plt.subplots(2,2, figsize=(15,10))\n",
    "\n",
    "# Set the suptitle - main title\n",
    "plt.suptitle(\"Top 10 Most Frequent Words Of N-Grams\")\n",
    "\n",
    "# Set the title, plot the graph and rotate the xlabels to 90 degrees\n",
    "ax[0,0].set_title(\"Top 10 1-grams in dataset\")\n",
    "sns.barplot(data = uni_gram.reset_index(),x = uni_gram.index, y = uni_gram.values, ax=ax[0,0], palette='rocket')\n",
    "ax[0,0].set_xticklabels(ax[0,0].get_xticklabels(), rotation=90)\n",
    "\n",
    "# Set the title, plot the graph and rotate the xlabels to 90 degrees\n",
    "ax[0,1].set_title(\"Top 10 2-grams in dataset\")\n",
    "sns.barplot(bi_gram.reset_index(), x= bi_gram.index, y= bi_gram.values, ax=ax[0,1], palette='rocket')\n",
    "ax[0,1].set_xticklabels(ax[0,1].get_xticklabels(), rotation=90)\n",
    "\n",
    "# Set the title, plot the graph and rotate the xlabels to 90 degrees\n",
    "ax[1,0].set_title(\"Top 10 3-grams in dataset\")\n",
    "sns.barplot(data = tri_gram.reset_index(), x = tri_gram.index, y = tri_gram.values, ax=ax[1,0], palette='rocket')\n",
    "ax[1,0].set_xticklabels(ax[1,0].get_xticklabels(), rotation=90)\n",
    "\n",
    "# Set the title, plot the graph and rotate the xlabels to 90 degrees\n",
    "ax[1,1].set_title(\"Top 10 4-grams in dataset\")\n",
    "sns.barplot(data = four_gram.reset_index(), x= four_gram.index, y = four_gram.values, ax=ax[1,1], palette='rocket')\n",
    "ax[1,1].set_xticklabels(ax[1,1].get_xticklabels(), rotation=90)\n",
    "\n",
    "# Make some space between subplots and show\n",
    "plt.tight_layout(pad=3)\n",
    "plt.show()"
   ]
  },
  {
   "cell_type": "markdown",
   "metadata": {
    "id": "HyFziMP1JL-e"
   },
   "source": [
    "The uni-gram provides data on the frequency of occurance of words, with \"the\", \"etc\",\"to\" being the 3 most communly occuring words in the corpus\n",
    "\n",
    "The bi-gram provides data on the co-occurance of two words within the corpus with hou etc, etc etc, enron enron, being the 3 most communly occuring bi-grams in the corpus.\n",
    "\n",
    "Similarly the tri-gram and four-gram provide the co-occurnace of most common 3 word combination and 4 word combination in the corpus.\n",
    "\n",
    "Looking at the data and evaluating it through our knowledge of English language, at first glance it seems that bi-gram would be a good approach for find the next context word."
   ]
  },
  {
   "cell_type": "code",
   "execution_count": 21,
   "metadata": {
    "id": "gBXLvZ-hG5w5"
   },
   "outputs": [],
   "source": [
    "# function to find the probabilities\n",
    "def get_next_word(text, text_corpus,tokenized_text, ngrams):\n",
    "    # Fetch the list of n-grams\n",
    "    ngram_list = create_ngrams(tokenized_text, ngrams)\n",
    "\n",
    "    # Fetch the ngram from input\n",
    "    ngram_wo_token = ' '.join(text.split()[-ngrams:])\n",
    "\n",
    "    # Create an empty dictionary to store word & probability\n",
    "    word_probs = {}\n",
    "\n",
    "    # Loop through each token\n",
    "    for token in tqdm(set(tokenized_text)):\n",
    "        # Create a str such that ngram + token\n",
    "        ngram_w_token = ' '.join([ngram_wo_token, token])\n",
    "\n",
    "        # Fetch the count of the created ngram with (numerator)\n",
    "        ngram_w_token_count = text_corpus.count(ngram_w_token)\n",
    "\n",
    "        # Fetch the token count(denominator)\n",
    "        token_count = text_corpus.count(token)\n",
    "\n",
    "        # Calculate the probability\n",
    "        prob_x_token = ngram_w_token_count/token_count\n",
    "\n",
    "        # Set a threshold value according to the results\n",
    "        if prob_x_token > 0.005:\n",
    "            # Add the probability to dictionary\n",
    "            word_probs[token] = prob_x_token\n",
    "\n",
    "    # Return the dictionary sorted by values in ascending manner\n",
    "    return dict(reversed(sorted(word_probs.items(), key = lambda x:x[1])))"
   ]
  },
  {
   "cell_type": "markdown",
   "metadata": {
    "id": "53-5lkmtJTwe"
   },
   "source": [
    "<a id='suggest_probability'></a>\n",
    "## **Suggesting Text using these N-gram Models**"
   ]
  },
  {
   "cell_type": "markdown",
   "metadata": {
    "id": "p_lD-XcrJb1G"
   },
   "source": [
    "### **Q 4.4: Complete the code below by removing the spaces to prompt the N-gram model for suggestions (5 marks)**"
   ]
  },
  {
   "cell_type": "code",
   "execution_count": 22,
   "metadata": {
    "colab": {
     "base_uri": "https://localhost:8080/"
    },
    "id": "mTeTC8S7JN1V",
    "outputId": "9ded0913-d036-458f-f11f-8e8b6dfc3bc5"
   },
   "outputs": [
    {
     "name": "stderr",
     "output_type": "stream",
     "text": [
      "100%|██████████| 6531/6531 [00:26<00:00, 245.96it/s]\n",
      "100%|██████████| 6531/6531 [00:24<00:00, 267.76it/s]\n",
      "100%|██████████| 6531/6531 [00:24<00:00, 270.43it/s]"
     ]
    },
    {
     "name": "stdout",
     "output_type": "stream",
     "text": [
      "---- 1-ngram predictions ---- \n",
      "\n",
      "{'redick': 1.0, 'keiser': 1.0, 'selection': 1.0, 'leaning': 1.0, 'eliason': 1.0, 'faxing': 1.0, 'excited': 1.0, 'navsetup': 1.0, 'bending': 1.0, 'arteaga': 1.0, 'burson': 1.0, 'becton': 1.0, 'booked': 1.0, 'bidding': 1.0, 'envisioning': 1.0, 'tempted': 1.0, 'sending': 0.6666666666666666, 'nguyen': 0.6097560975609756, 'cdt': 0.5454545454545454, 'mime': 0.5, 'arsystem': 0.5, 'tandy': 0.5, 'fairly': 0.5, 'carla': 0.5, 'carlson': 0.5, 'advertisement': 0.5, 'continuing': 0.5, 'envision': 0.5, 'expecting': 0.45454545454545453, 'postmaster': 0.4, 'kristian': 0.4, 'tenron': 0.38028169014084506, 'unable': 0.36363636363636365, 'developing': 0.36363636363636365, 'cst': 0.36363636363636365, 'looking': 0.34545454545454546, 'mlenhart': 0.3333333333333333, 'rome': 0.3333333333333333, 'structuring': 0.3333333333333333, 'worried': 0.3333333333333333, 'skipping': 0.3333333333333333, 'kelly': 0.3076923076923077, 'concerned': 0.3076923076923077, 'carl': 0.2894736842105263, 'surprised': 0.2857142857142857, 'pursuing': 0.2727272727272727, 'importance': 0.25, 'guerrero': 0.25, 'going': 0.24423963133640553, 'laird': 0.23529411764705882, 'unclear': 0.21428571428571427, 'ready': 0.21052631578947367, 'supposed': 0.21052631578947367, 'planning': 0.19672131147540983, 'assuming': 0.19047619047619047, 'waiting': 0.1875, 'surprise': 0.1875, 'asking': 0.18181818181818182, 'considering': 0.17391304347826086, 'members': 0.16666666666666666, 'daniel': 0.16, 'setting': 0.15384615384615385, 'trying': 0.14893617021276595, 'unsubscribe': 0.14285714285714285, 'immediate': 0.125, 'happy': 0.12121212121212122, 'glad': 0.12, 'participant': 0.11764705882352941, 'requested': 0.11594202898550725, 'lair': 0.11428571428571428, 'usually': 0.1111111111111111, 'susan': 0.1095890410958904, 'liane': 0.10526315789473684, 'willing': 0.10294117647058823, 'expect': 0.10144927536231885, 'still': 0.0984251968503937, 'hunter': 0.09803921568627451, 'post': 0.0975609756097561, 'hall': 0.09302325581395349, 'allan': 0.09090909090909091, 'hunt': 0.08733624454148471, 'concern': 0.08602150537634409, 'ray': 0.08450704225352113, 'please': 0.08323281061519903, 'plea': 0.08283313325330131, 'dba': 0.08, 'shockwave': 0.07692307692307693, 'wait': 0.075, 'fair': 0.07407407407407407, 'dexter': 0.07407407407407407, 'reporting': 0.07272727272727272, 'kristi': 0.07017543859649122, 'send': 0.06751054852320675, 'alan': 0.06217616580310881, 'speak': 0.06060606060606061, 'read': 0.05741626794258373, 'full': 0.05612244897959184, 'friday': 0.05194805194805195, 'sure': 0.04950495049504951, 'george': 0.04804804804804805, 'michael': 0.04790419161676647, 'working': 0.047619047619047616, 'anne': 0.0472972972972973, 'survey': 0.0449438202247191, 'starting': 0.04477611940298507, 'having': 0.044444444444444446, 'fri': 0.0425531914893617, 'houston': 0.041666666666666664, 'from': 0.040656763096168884, 'go': 0.040644171779141106, 'jeff': 0.04, 'kris': 0.04, 'fax': 0.039603960396039604, 'open': 0.038834951456310676, 'look': 0.03877551020408163, 'not': 0.03645116918844567, 'consider': 0.03636363636363636, 'car': 0.03618421052631579, 'james': 0.03614457831325301, 'dan': 0.035398230088495575, 'ful': 0.03353658536585366, 'lian': 0.03305785123966942, 'consi': 0.03125, 'jeffrey': 0.03125, 'http': 0.03065134099616858, 'ben': 0.030534351145038167, 'request': 0.028268551236749116, 'ski': 0.027210884353741496, 'ask': 0.02666666666666667, 'hal': 0.026490066225165563, 'tomorrow': 0.02608695652173913, 'fr': 0.026052974381241857, 'to': 0.025902864259028643, 'before': 0.025157232704402517, 'try': 0.025, 'back': 0.024691358024691357, 'bid': 0.024390243902439025, 'using': 0.021897810218978103, 'ended': 0.0196078431372549, 'bs': 0.0196078431372549, 'hap': 0.019417475728155338, 'very': 0.01928374655647383, 'supp': 0.018779342723004695, 'robert': 0.0182648401826484, 'current': 0.018018018018018018, 'rober': 0.017937219730941704, 'plan': 0.017241379310344827, 'larry': 0.01646090534979424, 'curre': 0.015384615384615385, 'no': 0.015295815295815297, 'art': 0.015060240963855422, 'ann': 0.014613778705636743, 'fa': 0.014423076923076924, 'start': 0.014285714285714285, 'set': 0.013651877133105802, 'each': 0.013289036544850499, 'red': 0.012875536480686695, 'mike': 0.012738853503184714, 'mik': 0.012658227848101266, 'star': 0.012605042016806723, 'book': 0.012295081967213115, 'tim': 0.012133468149646108, 'may': 0.011494252873563218, 'su': 0.011481056257175661, 'report': 0.011428571428571429, 'repo': 0.011363636363636364, 'ex': 0.01038819026790596, 'lia': 0.009779951100244499, 'tom': 0.00911854103343465, 'rob': 0.008771929824561403, 'just': 0.008746355685131196, 'develop': 0.00847457627118644, 'deve': 0.008403361344537815, 'john': 0.00819672131147541, 'ina': 0.007954545454545454, 'work': 0.007518796992481203, 'part': 0.006932409012131715, 'se': 0.00693148493735004, 'ke': 0.006847439057792386, 'j': 0.005477576172543649, 'ass': 0.00546448087431694, 'end': 0.005249343832020997, 'forwarded': 0.005241090146750524}\n",
      "\n",
      "\n",
      "\n",
      "---- 2-ngram predictions ---- \n",
      "\n",
      "{'leaning': 1.0, 'faxing': 1.0, 'excited': 1.0, 'bending': 1.0, 'booked': 1.0, 'bidding': 1.0, 'envisioning': 1.0, 'tempted': 1.0, 'sending': 0.6666666666666666, 'fairly': 0.5, 'continuing': 0.5, 'envision': 0.5, 'expecting': 0.45454545454545453, 'unable': 0.36363636363636365, 'developing': 0.36363636363636365, 'looking': 0.34545454545454546, 'structuring': 0.3333333333333333, 'worried': 0.3333333333333333, 'concerned': 0.3076923076923077, 'surprised': 0.2857142857142857, 'pursuing': 0.2727272727272727, 'going': 0.24423963133640553, 'unclear': 0.21428571428571427, 'ready': 0.21052631578947367, 'supposed': 0.21052631578947367, 'planning': 0.19672131147540983, 'assuming': 0.19047619047619047, 'waiting': 0.1875, 'surprise': 0.1875, 'asking': 0.18181818181818182, 'considering': 0.17391304347826086, 'setting': 0.15384615384615385, 'trying': 0.14893617021276595, 'happy': 0.12121212121212122, 'glad': 0.12, 'usually': 0.1111111111111111, 'willing': 0.10294117647058823, 'still': 0.0984251968503937, 'concern': 0.08602150537634409, 'wait': 0.075, 'fair': 0.07407407407407407, 'reporting': 0.07272727272727272, 'expect': 0.07246376811594203, 'send': 0.06751054852320675, 'read': 0.05741626794258373, 'sure': 0.04950495049504951, 'working': 0.047619047619047616, 'starting': 0.04477611940298507, 'having': 0.044444444444444446, 'go': 0.040644171779141106, 'fax': 0.039603960396039604, 'open': 0.038834951456310676, 'look': 0.03877551020408163, 'not': 0.03645116918844567, 'consider': 0.03636363636363636, 'consi': 0.03125, 'ben': 0.030534351145038167, 'ask': 0.02666666666666667, 'try': 0.025, 'back': 0.024691358024691357, 'bid': 0.024390243902439025, 'using': 0.021897810218978103, 'hap': 0.019417475728155338, 'very': 0.01928374655647383, 'supp': 0.018779342723004695, 'plan': 0.017241379310344827, 'no': 0.015295815295815297, 'fa': 0.014423076923076924, 'start': 0.014285714285714285, 'set': 0.013651877133105802, 'star': 0.012605042016806723, 'book': 0.012295081967213115, 'report': 0.011428571428571429, 'repo': 0.011363636363636364, 'just': 0.008746355685131196, 'develop': 0.00847457627118644, 'deve': 0.008403361344537815, 'ex': 0.008201202843083653, 'work': 0.007518796992481203, 'su': 0.0057405281285878304, 'ass': 0.00546448087431694}\n",
      "\n",
      "\n",
      "\n",
      "---- 3-ngram predictions ---- \n",
      "\n",
      "{'ena': 0.008620689655172414}\n",
      "\n",
      "\n",
      "\n"
     ]
    },
    {
     "name": "stderr",
     "output_type": "stream",
     "text": [
      "\n"
     ]
    }
   ],
   "source": [
    "# Calculate the probabilities of next words\n",
    "uni_word_probs = get_next_word(\"i am\", text, tokenized_text, 1)\n",
    "\n",
    "bi_word_probs = get_next_word(\"i am\", text, tokenized_text, 2)\n",
    "\n",
    "tri_word_probs = get_next_word(\"i am the\", text, tokenized_text, 3)\n",
    "\n",
    "# Print the suggestions!\n",
    "all_word_probs = [uni_word_probs, bi_word_probs, tri_word_probs]\n",
    "\n",
    "for ngram, word_probs in enumerate(all_word_probs):\n",
    "    print(f\"---- {ngram+1}-ngram predictions ---- \\n\")\n",
    "    print(word_probs)\n",
    "    print(\"\\n\\n\")"
   ]
  },
  {
   "cell_type": "markdown",
   "metadata": {
    "id": "jFp18ERFfg8Z"
   },
   "source": [
    "### **Q4.5: Write your observations below (5 marks)**"
   ]
  },
  {
   "cell_type": "markdown",
   "metadata": {
    "id": "kv8VFlMMlfYs"
   },
   "source": [
    " The predictions are made from 6531 tokenized words.\n",
    "\n",
    " The Uni-gram word probability has 16 words with probability 1. However, using these words with respect to the input does make much sense symantically.\n",
    "\n",
    " the Bi-grams word probability has 9 word with probability 1 and every other word there after when used with the input words make grammatical sense. The bi-gram output for auto-suggest seems pretty robust.\n",
    "\n",
    " The tri-gram provides probability of a single word, with minuscle probability and doesn't seem to be a good approach to use for auto suggestion task."
   ]
  },
  {
   "cell_type": "markdown",
   "metadata": {
    "id": "WUR6ZmqifjQU"
   },
   "source": [
    "<a id='markov'></a>\n",
    "## **Using the Markov Model Approach**"
   ]
  },
  {
   "cell_type": "markdown",
   "metadata": {
    "id": "rlN0HSeaf4Xu"
   },
   "source": [
    "### **Q5: Complete the following steps to build an approach that will create a Markov Chain that stores counts as transitions to implement an Autosuggest feature:**"
   ]
  },
  {
   "cell_type": "markdown",
   "metadata": {
    "id": "mcOU-HadgCPt"
   },
   "source": [
    "### **Q5.1: Complete the code by removing the blank spaces (5 marks)**"
   ]
  },
  {
   "cell_type": "code",
   "execution_count": 23,
   "metadata": {
    "id": "LHFlkf9UKq3u"
   },
   "outputs": [],
   "source": [
    "# function for creating the Markov chain\n",
    "def create_chain_w_count(tokenized_text, ngrams):\n",
    "    # Creating a chain\n",
    "    chain = {}\n",
    "\n",
    "    # Get the size of the corpus\n",
    "    n_words = len(tokenized_text)\n",
    "\n",
    "    # Iterate through entire corpus\n",
    "    for index, key1 in tqdm(enumerate(tokenized_text)):\n",
    "        # Condition to avoid out of index error\n",
    "        if n_words-index == ngrams+1:\n",
    "            break\n",
    "\n",
    "        # Fetch the next 'n' keys wrt ngrams\n",
    "        next_n_keys = tokenized_text[index+1:index+ngrams]\n",
    "\n",
    "        # Fetch the word, next to ngram, to add in the chain\n",
    "        word = tokenized_text[index+ngrams]\n",
    "\n",
    "        # Merge all the keys together\n",
    "        all_keys = tuple([key1] + next_n_keys)\n",
    "\n",
    "        # If states not in chain or if state exists and it doesn't have the word\n",
    "        if all_keys not in chain:\n",
    "            # Create an empty dictionary\n",
    "            chain[all_keys] = {}\n",
    "\n",
    "            # Add the words to the created dict\n",
    "            chain[all_keys][word] = 1\n",
    "\n",
    "        # If the state doesnot have that word\n",
    "        elif word not in chain[all_keys].keys():\n",
    "        # Add the words to the created dict\n",
    "            chain[all_keys][word] = 1\n",
    "\n",
    "        # If the state exists and the state has that word then increment\n",
    "        else:\n",
    "            chain[all_keys][word] += 1\n",
    "\n",
    "    # Print the size of the chain\n",
    "    print('Chain size: {} states, where each state is an n-gram.'.format(len(chain)))\n",
    "\n",
    "    # Return the markov chain\n",
    "    return chain"
   ]
  },
  {
   "cell_type": "markdown",
   "metadata": {
    "id": "R2983FuCo8uc"
   },
   "source": [
    "### **Q5.2: Create the Markov Chain (5 marks)**"
   ]
  },
  {
   "cell_type": "code",
   "execution_count": 24,
   "metadata": {
    "colab": {
     "base_uri": "https://localhost:8080/"
    },
    "id": "a27RM05ro0Dt",
    "outputId": "b5564e5d-8593-44a9-d5ca-ff20805c2149"
   },
   "outputs": [
    {
     "name": "stderr",
     "output_type": "stream",
     "text": [
      "297460it [00:00, 709961.28it/s]\n"
     ]
    },
    {
     "name": "stdout",
     "output_type": "stream",
     "text": [
      "Chain size: 6531 states, where each state is an n-gram.\n"
     ]
    },
    {
     "name": "stderr",
     "output_type": "stream",
     "text": [
      "297459it [00:00, 660671.99it/s]\n"
     ]
    },
    {
     "name": "stdout",
     "output_type": "stream",
     "text": [
      "Chain size: 32038 states, where each state is an n-gram.\n"
     ]
    },
    {
     "name": "stderr",
     "output_type": "stream",
     "text": [
      "297458it [00:00, 655760.68it/s]"
     ]
    },
    {
     "name": "stdout",
     "output_type": "stream",
     "text": [
      "Chain size: 47168 states, where each state is an n-gram.\n"
     ]
    },
    {
     "name": "stderr",
     "output_type": "stream",
     "text": [
      "\n"
     ]
    }
   ],
   "source": [
    "# Create a markov chain of counts using Unigrams\n",
    "mm_uni = create_chain_w_count(tokenized_text, 1)\n",
    "\n",
    "# Create a markov chain of counts  using Bigrams\n",
    "mm_bi = create_chain_w_count(tokenized_text, 2)\n",
    "\n",
    "# Create a markov chain of counts using Trigrams\n",
    "mm_tri = create_chain_w_count(tokenized_text, 3)"
   ]
  },
  {
   "cell_type": "markdown",
   "metadata": {
    "id": "Fa7CpKSrpUqU"
   },
   "source": [
    "### **This code block converts the counts of the Markov Chain into probabilities**"
   ]
  },
  {
   "cell_type": "code",
   "execution_count": 25,
   "metadata": {
    "id": "uS9Nhq3wpDtt"
   },
   "outputs": [],
   "source": [
    "# function to find the transition probabilities of the Markov chain\n",
    "def transition_for_markov_model(mm):\n",
    "    # Iterate through each state and its transition iterativey\n",
    "    for current_state, transition in tqdm(mm.items()):\n",
    "        # Get the sum of transition of state iteratively\n",
    "        total = sum(transition.values())\n",
    "\n",
    "        # For each word inside state calculate the probability/transition value\n",
    "        for state, count in transition.items():\n",
    "            mm[current_state][state] = count/total\n",
    "\n",
    "    # Return the markov_model\n",
    "    return mm"
   ]
  },
  {
   "cell_type": "markdown",
   "metadata": {
    "id": "FBqZ8HGHpb74"
   },
   "source": [
    "### **Q5.3: Complete the code below (5 marks)**"
   ]
  },
  {
   "cell_type": "code",
   "execution_count": 26,
   "metadata": {
    "colab": {
     "base_uri": "https://localhost:8080/"
    },
    "id": "2G3qcA1NpX4P",
    "outputId": "51af8b3d-8d11-479b-c555-b623a13c0dcd"
   },
   "outputs": [
    {
     "name": "stderr",
     "output_type": "stream",
     "text": [
      "100%|██████████| 6531/6531 [00:00<00:00, 253090.52it/s]\n",
      "100%|██████████| 32038/32038 [00:00<00:00, 468563.95it/s]\n",
      "100%|██████████| 47168/47168 [00:00<00:00, 542320.61it/s]\n"
     ]
    }
   ],
   "source": [
    "# Calculate the transition of the states\n",
    "mm_uni = transition_for_markov_model(mm_uni)\n",
    "\n",
    "# Calculate the transition of the states\n",
    "mm_bi = transition_for_markov_model(mm_bi)\n",
    "\n",
    "# Calculate the transition of the states\n",
    "mm_tri = transition_for_markov_model(mm_tri)"
   ]
  },
  {
   "cell_type": "markdown",
   "metadata": {
    "id": "nktz9makqrHg"
   },
   "source": [
    "<a id='suggest_markov'></a>\n",
    "### **Q5.4: Suggesting text (10 marks)**"
   ]
  },
  {
   "cell_type": "code",
   "execution_count": 27,
   "metadata": {
    "id": "Y8EihG9fpnFP"
   },
   "outputs": [],
   "source": [
    "# function for auto suggesting the next word\n",
    "def get_suggestions(text, mm, ngrams):\n",
    "    # Fetch the ngram from the input\n",
    "    key = tuple(text.split()[-ngrams:])\n",
    "\n",
    "    # Fetch the transition of the given state\n",
    "    transitions = mm[key]\n",
    "\n",
    "    # Convert to dataframe for bettwe view\n",
    "    transition_df = pd.DataFrame(transitions.values(),\n",
    "                                 index=transitions.keys(),\n",
    "                                 columns=['probability'])\n",
    "\n",
    "    # Sort the dataframe by Probability\n",
    "    transition_df = transition_df.sort_values(by='probability', ascending=False)\n",
    "\n",
    "    # Reset the index\n",
    "    transition_df.reset_index(drop=True)\n",
    "\n",
    "    # Return the suggestions\n",
    "    return transition_df"
   ]
  },
  {
   "cell_type": "code",
   "execution_count": 28,
   "metadata": {
    "colab": {
     "base_uri": "https://localhost:8080/"
    },
    "id": "wKlaqrKgrLZv",
    "outputId": "9cd9b156-05d3-4fef-e4ad-a45fcfba1be4"
   },
   "outputs": [
    {
     "name": "stdout",
     "output_type": "stream",
     "text": [
      "---- 1-grams suggestions ----\n",
      "         probability\n",
      "to          0.216216\n",
      "t           0.124909\n",
      "please      0.046749\n",
      "going       0.038714\n",
      "not         0.038714\n",
      "...              ...\n",
      "using       0.002191\n",
      "just        0.002191\n",
      "unclear     0.002191\n",
      "and         0.002191\n",
      "ended       0.001461\n",
      "\n",
      "[102 rows x 1 columns]\n",
      "\n",
      "\n",
      "\n",
      "---- 2-grams suggestions ----\n",
      "             probability\n",
      "going           0.120181\n",
      "not             0.120181\n",
      "still           0.056689\n",
      "ready           0.054422\n",
      "looking         0.043084\n",
      "in              0.038549\n",
      "sending         0.036281\n",
      "planning        0.027211\n",
      "on              0.024943\n",
      "expecting       0.022676\n",
      "sure            0.022676\n",
      "back            0.018141\n",
      "faxing          0.018141\n",
      "unable          0.018141\n",
      "concerned       0.018141\n",
      "very            0.015873\n",
      "trying          0.015873\n",
      "willing         0.015873\n",
      "out             0.013605\n",
      "surprised       0.013605\n",
      "pursuing        0.013605\n",
      "excited         0.011338\n",
      "bending         0.009070\n",
      "leaning         0.009070\n",
      "supposed        0.009070\n",
      "open            0.009070\n",
      "envisioning     0.009070\n",
      "asking          0.009070\n",
      "working         0.009070\n",
      "structuring     0.009070\n",
      "to              0.009070\n",
      "worried         0.009070\n",
      "fairly          0.009070\n",
      "developing      0.009070\n",
      "continuing      0.009070\n",
      "setting         0.009070\n",
      "considering     0.009070\n",
      "with            0.009070\n",
      "having          0.009070\n",
      "bidding         0.009070\n",
      "the             0.009070\n",
      "reporting       0.009070\n",
      "assuming        0.009070\n",
      "happy           0.009070\n",
      "just            0.006803\n",
      "tempted         0.006803\n",
      "glad            0.006803\n",
      "using           0.006803\n",
      "starting        0.006803\n",
      "usually         0.006803\n",
      "booked          0.006803\n",
      "unclear         0.006803\n",
      "waiting         0.006803\n",
      "\n",
      "\n",
      "\n",
      "---- 3-grams suggestions ----\n",
      "    probability\n",
      "on          1.0\n",
      "\n",
      "\n",
      "\n"
     ]
    }
   ],
   "source": [
    "mm_chains = [mm_uni, mm_bi, mm_tri]\n",
    "\n",
    "# Enter your input here(kindly use lower case letters)\n",
    "sentence = 'no i am'\n",
    "\n",
    "for ngrams, mm in enumerate(mm_chains):\n",
    "    print(f'---- {ngrams+1}-grams suggestions ----')\n",
    "    print(get_suggestions(sentence, mm, ngrams+1))\n",
    "    print('\\n\\n')"
   ]
  },
  {
   "cell_type": "markdown",
   "metadata": {
    "id": "w9xJMZc1r3F3"
   },
   "source": [
    "## **Observations and Recommendations**\n",
    "\n",
    "### **Q6: Given the nature of the business problem being solved, what are your observations and recommendations as a Data Scientist regarding the applicability of this model, its potential use cases and likely drawbacks that would necessitate more complex models? (20 marks)**"
   ]
  },
  {
   "cell_type": "markdown",
   "metadata": {
    "id": "rxPj5yQTsE_Y"
   },
   "source": [
    "We are trying to solve the business problem of auto suggest in email composition. The perceived benefits being.\n",
    "\n",
    "\n",
    "*   reduce time and effort to compose emails and increase communication speed\n",
    "*   reduce occurance of typos, spelling errors and grammatical mistakes\n",
    "*   Improve overall professionalism and credibility of business communication\n",
    "\n",
    "\n",
    "As our goal is to improve the efficiency of email composition by providing quick and accurate word suggestions to the user, the current methods of n-gram co-occruance and Markov chain is an introductory approach to the problem.\n",
    "\n",
    "The models do a decent job of predicting the next work with bi-grams than with uni-gram or tri-gram. The model almost exclusively used a very small size corpus and lags computational power when implemented on the entire email corpus. However, for a larger corpus, to generate a more robust and accurate model, other complex models incorporating NN or RNN must be deployed.\n",
    "\n",
    "The auto suggest feature has a number of real world application such as:\n",
    "\n",
    "\n",
    "*   Chat bots (chatGPT)\n",
    "*   Search Engines Augosuggest\n",
    "*   Phone text messenger autosuggest\n",
    "*   Source code editors\n",
    "*   Auto correction and word processors\n",
    "\n",
    "\n",
    "\n",
    "\n",
    "\n",
    "\n",
    "\n",
    "\n",
    "\n"
   ]
  }
 ],
 "metadata": {
  "accelerator": "GPU",
  "colab": {
   "gpuType": "T4",
   "provenance": []
  },
  "kernelspec": {
   "display_name": "Python 3",
   "language": "python",
   "name": "python3"
  },
  "language_info": {
   "codemirror_mode": {
    "name": "ipython",
    "version": 3
   },
   "file_extension": ".py",
   "mimetype": "text/x-python",
   "name": "python",
   "nbconvert_exporter": "python",
   "pygments_lexer": "ipython3",
   "version": "3.10.9"
  }
 },
 "nbformat": 4,
 "nbformat_minor": 1
}
