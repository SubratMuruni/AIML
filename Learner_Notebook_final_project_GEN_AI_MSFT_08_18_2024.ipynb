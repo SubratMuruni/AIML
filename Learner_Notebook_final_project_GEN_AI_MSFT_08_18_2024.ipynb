{
  "cells": [
    {
      "cell_type": "markdown",
      "metadata": {
        "id": "A-kfSgIGzgGL"
      },
      "source": [
        "# **Project : A Case Study of ExpressWay Logistics**"
      ]
    },
    {
      "cell_type": "markdown",
      "metadata": {
        "id": "O8Z-Vp4pzgGN"
      },
      "source": [
        "**Business Overview:**\n",
        "\n",
        "ExpressWay Logistics is a dynamic logistics service provider, committed to delivering efficient, reliable and cost-effective courier transportation and warehousing solutions. With a focus on speed, precision and customer satisfaction, we aim to be the go-to partner for our customers seeking seamless courier services. Our core service involves ensuring operational efficiency throughout our delivery and courier services, including inventory management, durable packaging and swift dispatch of couriers, real time tracking of shipments and on-time delivery of couriers as promised. We are committed to enhance our logistics and courier services and improve seamless connectivity for our customers."
      ]
    },
    {
      "cell_type": "markdown",
      "metadata": {
        "id": "46XFRcFTzgGN"
      },
      "source": [
        "**Current Challenge:**\n",
        "\n",
        "ExpressWay Logistics faces numerous challenges in ensuring seamless deliveries and customer satisfaction. These challenges include managing various customer demands simultaneously, addressing delays in deliveries and ensuring products arrive intact and safe. Additionally, the company struggles with complexity of efficiently storing and handling a large volume of packages and ultimately meeting customer expectations. Moreover, maintaining a skilled workforce capable of handling various aspects of logistics operations presents its own set of challenges. Overcoming these obstacles requires a comprehensive approach that integrates innovative technology, strategic planning, and continuous improvement initiatives to ensure smooth operations and exceptional service delivery."
      ]
    },
    {
      "cell_type": "markdown",
      "metadata": {
        "id": "maC1EgUJzgGO"
      },
      "source": [
        "**Objective:**\n",
        "\n",
        "Our primary objective is to conduct a sentiment analysis of user-generated reviews across various digital channels and platforms. By paying attention to their feedback, we want to find ways to make our services better - like handling different customer demands simultaneously, dealing with late deliveries, and keeping packages secured and intact. Through the application of prompt engineering methodologies and sentiment analysis, we'll figure out if sentiments expressed by users for our courier services are Positive or Negative. This will help us understand where we need to improve in order to meet customer expectations and keep them happy. With a focus on getting better all the time, we'll overcome the challenges at ExpressWay Logistics and make our services the best."
      ]
    },
    {
      "cell_type": "markdown",
      "metadata": {
        "id": "flUHF3xczgGO"
      },
      "source": [
        "**Data Description:**\n",
        "\n",
        "The dataset titled \"courier-service_reviews.csv\" is structured to facilitate sentiment analysis for courier service reviews. Here's a brief description of the data columns:\n",
        "\n",
        "1. id: This column contains unique identifiers for each review entry. It helps in distinguishing and referencing individual reviews.\n",
        "2. review: This column includes the actual text of the courier service reviews. The reviews are likely composed of customer opinions and experiences regarding different aspects of the services provided by ExpressWay Logistics.\n",
        "3. sentiment: This column provides an additional layer of classification (positive and negative) for the mentioned reviews."
      ]
    },
    {
      "cell_type": "markdown",
      "metadata": {
        "id": "0zTC8qPRPahk"
      },
      "source": [
        "##**Step 1. Setup (2 Marks)**\n",
        "\n",
        "(A) Writing/Creating the config.json file  (2 Marks)"
      ]
    },
    {
      "cell_type": "markdown",
      "metadata": {
        "id": "ykLYC3zzSr8z"
      },
      "source": [
        "### Installation"
      ]
    },
    {
      "cell_type": "code",
      "execution_count": 1,
      "metadata": {
        "colab": {
          "base_uri": "https://localhost:8080/"
        },
        "id": "keb94_PFzgGO",
        "outputId": "5622f4b5-9dd7-4780-c67c-c15531f78fbe"
      },
      "outputs": [
        {
          "output_type": "stream",
          "name": "stdout",
          "text": [
            "  Preparing metadata (setup.py) ... \u001b[?25l\u001b[?25hdone\n",
            "\u001b[2K   \u001b[90m━━━━━━━━━━━━━━━━━━━━━━━━━━━━━━━━━━━━━━━━\u001b[0m \u001b[32m219.9/219.9 kB\u001b[0m \u001b[31m5.8 MB/s\u001b[0m eta \u001b[36m0:00:00\u001b[0m\n",
            "\u001b[2K   \u001b[90m━━━━━━━━━━━━━━━━━━━━━━━━━━━━━━━━━━━━━━━━\u001b[0m \u001b[32m1.1/1.1 MB\u001b[0m \u001b[31m29.5 MB/s\u001b[0m eta \u001b[36m0:00:00\u001b[0m\n",
            "\u001b[2K   \u001b[90m━━━━━━━━━━━━━━━━━━━━━━━━━━━━━━━━━━━━━━━━\u001b[0m \u001b[32m527.3/527.3 kB\u001b[0m \u001b[31m27.7 MB/s\u001b[0m eta \u001b[36m0:00:00\u001b[0m\n",
            "\u001b[2K   \u001b[90m━━━━━━━━━━━━━━━━━━━━━━━━━━━━━━━━━━━━━━━━\u001b[0m \u001b[32m116.3/116.3 kB\u001b[0m \u001b[31m7.9 MB/s\u001b[0m eta \u001b[36m0:00:00\u001b[0m\n",
            "\u001b[2K   \u001b[90m━━━━━━━━━━━━━━━━━━━━━━━━━━━━━━━━━━━━━━━━\u001b[0m \u001b[32m75.6/75.6 kB\u001b[0m \u001b[31m5.6 MB/s\u001b[0m eta \u001b[36m0:00:00\u001b[0m\n",
            "\u001b[2K   \u001b[90m━━━━━━━━━━━━━━━━━━━━━━━━━━━━━━━━━━━━━━━━\u001b[0m \u001b[32m77.9/77.9 kB\u001b[0m \u001b[31m5.2 MB/s\u001b[0m eta \u001b[36m0:00:00\u001b[0m\n",
            "\u001b[2K   \u001b[90m━━━━━━━━━━━━━━━━━━━━━━━━━━━━━━━━━━━━━━━━\u001b[0m \u001b[32m39.9/39.9 MB\u001b[0m \u001b[31m15.3 MB/s\u001b[0m eta \u001b[36m0:00:00\u001b[0m\n",
            "\u001b[2K   \u001b[90m━━━━━━━━━━━━━━━━━━━━━━━━━━━━━━━━━━━━━━━━\u001b[0m \u001b[32m134.8/134.8 kB\u001b[0m \u001b[31m7.7 MB/s\u001b[0m eta \u001b[36m0:00:00\u001b[0m\n",
            "\u001b[2K   \u001b[90m━━━━━━━━━━━━━━━━━━━━━━━━━━━━━━━━━━━━━━━━\u001b[0m \u001b[32m79.8/79.8 kB\u001b[0m \u001b[31m4.7 MB/s\u001b[0m eta \u001b[36m0:00:00\u001b[0m\n",
            "\u001b[2K   \u001b[90m━━━━━━━━━━━━━━━━━━━━━━━━━━━━━━━━━━━━━━━━\u001b[0m \u001b[32m194.1/194.1 kB\u001b[0m \u001b[31m11.2 MB/s\u001b[0m eta \u001b[36m0:00:00\u001b[0m\n",
            "\u001b[2K   \u001b[90m━━━━━━━━━━━━━━━━━━━━━━━━━━━━━━━━━━━━━━━━\u001b[0m \u001b[32m58.3/58.3 kB\u001b[0m \u001b[31m3.5 MB/s\u001b[0m eta \u001b[36m0:00:00\u001b[0m\n",
            "\u001b[?25h  Building wheel for session-info (setup.py) ... \u001b[?25l\u001b[?25hdone\n",
            "\u001b[31mERROR: pip's dependency resolver does not currently take into account all the packages that are installed. This behaviour is the source of the following dependency conflicts.\n",
            "cudf-cu12 24.4.1 requires pyarrow<15.0.0a0,>=14.0.1, but you have pyarrow 17.0.0 which is incompatible.\n",
            "ibis-framework 8.0.0 requires pyarrow<16,>=2, but you have pyarrow 17.0.0 which is incompatible.\u001b[0m\u001b[31m\n",
            "\u001b[0m"
          ]
        }
      ],
      "source": [
        "!pip install openai==1.2 tiktoken datasets session-info --quiet"
      ]
    },
    {
      "cell_type": "markdown",
      "metadata": {
        "id": "YFZj9kr8Pahl"
      },
      "source": [
        "### Imports"
      ]
    },
    {
      "cell_type": "code",
      "execution_count": 2,
      "metadata": {
        "id": "Q3gwxSqQPahl"
      },
      "outputs": [],
      "source": [
        "# Import all Python packages required to access the Azure Open AI API.\n",
        "# Import additional packages required to access datasets and create examples.\n",
        "\n",
        "from openai import AzureOpenAI\n",
        "import json\n",
        "import random\n",
        "import tiktoken\n",
        "import session_info\n",
        "\n",
        "import pandas as pd\n",
        "import numpy as np\n",
        "\n",
        "from collections import Counter\n",
        "from tqdm import tqdm\n",
        "from sklearn.model_selection import train_test_split\n",
        "from sklearn.metrics import f1_score\n",
        "from tabulate import tabulate"
      ]
    },
    {
      "cell_type": "code",
      "execution_count": 3,
      "metadata": {
        "colab": {
          "base_uri": "https://localhost:8080/",
          "height": 399
        },
        "id": "6mmXtfmrS7Ml",
        "outputId": "5d0823a9-daf0-46e0-f173-2e7a5d88b73e"
      },
      "outputs": [
        {
          "output_type": "execute_result",
          "data": {
            "text/plain": [
              "<IPython.core.display.HTML object>"
            ],
            "text/html": [
              "<details>\n",
              "<summary>Click to view session information</summary>\n",
              "<pre>\n",
              "-----\n",
              "numpy               1.26.4\n",
              "openai              1.2.0\n",
              "pandas              2.1.4\n",
              "session_info        1.0.0\n",
              "sklearn             1.3.2\n",
              "tabulate            0.9.0\n",
              "tiktoken            NA\n",
              "tqdm                4.66.5\n",
              "-----\n",
              "</pre>\n",
              "<details>\n",
              "<summary>Click to view modules imported as dependencies</summary>\n",
              "<pre>\n",
              "Cython              3.0.11\n",
              "PIL                 9.4.0\n",
              "annotated_types     0.7.0\n",
              "anyio               NA\n",
              "attr                24.2.0\n",
              "backcall            0.2.0\n",
              "certifi             2024.07.04\n",
              "cffi                1.17.0\n",
              "click               8.1.7\n",
              "cloudpickle         2.2.1\n",
              "cycler              0.12.1\n",
              "cython              3.0.11\n",
              "cython_runtime      NA\n",
              "dateutil            2.8.2\n",
              "debugpy             1.6.6\n",
              "decorator           4.4.2\n",
              "defusedxml          0.7.1\n",
              "distro              1.7.0\n",
              "entrypoints         0.4\n",
              "google              NA\n",
              "h11                 0.14.0\n",
              "httpcore            1.0.5\n",
              "httplib2            0.22.0\n",
              "httpx               0.27.0\n",
              "idna                3.7\n",
              "ipykernel           5.5.6\n",
              "ipyparallel         8.8.0\n",
              "ipython_genutils    0.2.0\n",
              "jaraco              NA\n",
              "joblib              1.4.2\n",
              "kiwisolver          1.4.5\n",
              "matplotlib          3.7.1\n",
              "matplotlib_inline   0.1.7\n",
              "more_itertools      10.3.0\n",
              "mpl_toolkits        NA\n",
              "numexpr             2.10.1\n",
              "ordered_set         4.1.0\n",
              "packaging           24.1\n",
              "pexpect             4.9.0\n",
              "pickleshare         0.7.5\n",
              "pkg_resources       NA\n",
              "platformdirs        4.2.2\n",
              "portpicker          NA\n",
              "prompt_toolkit      3.0.47\n",
              "psutil              5.9.5\n",
              "ptyprocess          0.7.0\n",
              "pyarrow             17.0.0\n",
              "pydantic            2.8.2\n",
              "pydantic_core       2.20.1\n",
              "pydev_ipython       NA\n",
              "pydevconsole        NA\n",
              "pydevd              2.9.5\n",
              "pydevd_file_utils   NA\n",
              "pydevd_plugins      NA\n",
              "pydevd_tracing      NA\n",
              "pygments            2.16.1\n",
              "pyparsing           3.1.2\n",
              "pytz                2024.1\n",
              "regex               2.5.145\n",
              "rich                NA\n",
              "scipy               1.13.1\n",
              "setuptools          71.0.4\n",
              "sitecustomize       NA\n",
              "six                 1.16.0\n",
              "sniffio             1.3.1\n",
              "socks               1.7.1\n",
              "sphinxcontrib       NA\n",
              "stdlib_list         0.10.0\n",
              "storemagic          NA\n",
              "threadpoolctl       3.5.0\n",
              "tiktoken_ext        NA\n",
              "tornado             6.3.3\n",
              "traitlets           5.7.1\n",
              "typing_extensions   NA\n",
              "wcwidth             0.2.13\n",
              "zmq                 24.0.1\n",
              "zoneinfo            NA\n",
              "</pre>\n",
              "</details> <!-- seems like this ends pre, so might as well be explicit -->\n",
              "<pre>\n",
              "-----\n",
              "IPython             7.34.0\n",
              "jupyter_client      6.1.12\n",
              "jupyter_core        5.7.2\n",
              "notebook            6.5.5\n",
              "-----\n",
              "Python 3.10.12 (main, Jul 29 2024, 16:56:48) [GCC 11.4.0]\n",
              "Linux-6.1.85+-x86_64-with-glibc2.35\n",
              "-----\n",
              "Session information updated at 2024-08-18 18:05\n",
              "</pre>\n",
              "</details>"
            ]
          },
          "metadata": {},
          "execution_count": 3
        }
      ],
      "source": [
        "# session_info.show()\n",
        "session_info.show(excludes=['backports'])"
      ]
    },
    {
      "cell_type": "markdown",
      "metadata": {
        "id": "SN0wIDUjPahn"
      },
      "source": [
        "### Authentication"
      ]
    },
    {
      "cell_type": "markdown",
      "metadata": {
        "id": "FvDZdCMhzgGQ"
      },
      "source": [
        "**(A) Writing/Creating the config.json file (2 Marks)**"
      ]
    },
    {
      "cell_type": "code",
      "execution_count": 4,
      "metadata": {
        "id": "2tdRk05EzgGQ"
      },
      "outputs": [],
      "source": [
        "# Define your configuration information\n",
        "\n",
        "config_data = {\n",
        "    \"AZURE_OPENAI_KEY\": \"bbecff9a69d34d729b845bf94cbb9dbb\",\n",
        "    \"AZURE_OPENAI_ENDPOINT\": \"https://gen-ai-msft-april24-subratmuruni.openai.azure.com/\",\n",
        "    \"AZURE_OPENAI_APIVERSION\": \"2024-05-01-preview\",\n",
        "    \"CHATGPT_MODEL\": \"Subrat_Muruni-GL-Project-1\"\n",
        "}\n",
        "\n"
      ]
    },
    {
      "cell_type": "code",
      "execution_count": 5,
      "metadata": {
        "colab": {
          "base_uri": "https://localhost:8080/"
        },
        "id": "cO4TwVYHzgGQ",
        "outputId": "bc26545f-21c5-4345-8240-411891ee3c5d"
      },
      "outputs": [
        {
          "output_type": "stream",
          "name": "stdout",
          "text": [
            "Config file created successfully!\n"
          ]
        }
      ],
      "source": [
        "# Write the configuration information into the config.json file\n",
        "with open('config.json', 'w') as config_file:\n",
        "    json.dump(config_data, config_file, indent=4)\n",
        "\n",
        "print(\"Config file created successfully!\")"
      ]
    },
    {
      "cell_type": "code",
      "execution_count": 6,
      "metadata": {
        "id": "cxLhZIviPahn"
      },
      "outputs": [],
      "source": [
        "# read the config file into variable data\n",
        "with open('config.json', 'r') as az_creds:\n",
        "    data = az_creds.read()"
      ]
    },
    {
      "cell_type": "code",
      "execution_count": 7,
      "metadata": {
        "id": "nL9GpBEVPahn"
      },
      "outputs": [],
      "source": [
        "# load data from the json config file\n",
        "creds = json.loads(data)"
      ]
    },
    {
      "cell_type": "code",
      "execution_count": 8,
      "metadata": {
        "id": "Ud7bPDquPahp"
      },
      "outputs": [],
      "source": [
        "# assign values from the config file to establish connection to OpenAI\n",
        "client = AzureOpenAI(\n",
        "    azure_endpoint=creds[\"AZURE_OPENAI_ENDPOINT\"],\n",
        "    api_key=creds[\"AZURE_OPENAI_KEY\"],\n",
        "    api_version=creds[\"AZURE_OPENAI_APIVERSION\"]\n",
        ")"
      ]
    },
    {
      "cell_type": "code",
      "execution_count": 9,
      "metadata": {
        "id": "Atf3l2mNPahp"
      },
      "outputs": [],
      "source": [
        "# defines the mode being used for the task\n",
        "chat_model_id = creds[\"CHATGPT_MODEL\"]"
      ]
    },
    {
      "cell_type": "code",
      "execution_count": 10,
      "metadata": {
        "colab": {
          "base_uri": "https://localhost:8080/",
          "height": 35
        },
        "id": "QQs-9kErGqcv",
        "outputId": "36daf69a-e972-49b1-95ac-ef2b947cef79"
      },
      "outputs": [
        {
          "output_type": "execute_result",
          "data": {
            "text/plain": [
              "'Subrat_Muruni-GL-Project-1'"
            ],
            "application/vnd.google.colaboratory.intrinsic+json": {
              "type": "string"
            }
          },
          "metadata": {},
          "execution_count": 10
        }
      ],
      "source": [
        "# print GPT model being used\n",
        "chat_model_id"
      ]
    },
    {
      "cell_type": "markdown",
      "metadata": {
        "id": "HQpkd5elTMhd"
      },
      "source": [
        "### Utilities"
      ]
    },
    {
      "cell_type": "code",
      "execution_count": 11,
      "metadata": {
        "id": "V5Gp-_CxPahp"
      },
      "outputs": [],
      "source": [
        "# write a function to calculte the input tokens\n",
        "def num_tokens_from_messages(messages):\n",
        "\n",
        "    \"\"\"\n",
        "    Return the number of tokens used by a list of messages.\n",
        "    Adapted from the Open AI cookbook token counter\n",
        "    \"\"\"\n",
        "\n",
        "    encoding = tiktoken.encoding_for_model(\"gpt-3.5-turbo\")\n",
        "\n",
        "    # Each message is sandwiched with <|start|>role and <|end|>\n",
        "    # Hence, messages look like: <|start|>system or user or assistant{message}<|end|>\n",
        "\n",
        "    tokens_per_message = 3 # token1:<|start|>, token2:system(or user or assistant), token3:<|end|>\n",
        "\n",
        "    num_tokens = 0\n",
        "\n",
        "    for message in messages:\n",
        "        num_tokens += tokens_per_message\n",
        "        for key, value in message.items():\n",
        "            num_tokens += len(encoding.encode(value))\n",
        "\n",
        "    num_tokens += 3  # every reply is primed with <|start|>assistant<|message|>\n",
        "\n",
        "    return num_tokens"
      ]
    },
    {
      "cell_type": "markdown",
      "metadata": {
        "id": "3sP7s5TDPahq"
      },
      "source": [
        "## Task : Sentiment Analysis"
      ]
    },
    {
      "cell_type": "markdown",
      "metadata": {
        "id": "WhctrBwFPahq"
      },
      "source": [
        "##**Step 2: Assemble Data (5 Marks)**\n",
        "\n",
        "(A) Upload and Read csv File (2 Marks)\n",
        "\n",
        "(B) Count Positive and Negative Sentiment Reviews (1 Marks)\n",
        "\n",
        "(C) Split the Dataset (2 Marks)"
      ]
    },
    {
      "cell_type": "markdown",
      "metadata": {
        "id": "bLK-296WzgGS"
      },
      "source": [
        "**(A) Upload and read csv file (2 Marks)**"
      ]
    },
    {
      "cell_type": "code",
      "execution_count": 12,
      "metadata": {
        "colab": {
          "base_uri": "https://localhost:8080/"
        },
        "id": "ZUY_5T8tHEGr",
        "outputId": "7d06c96c-2790-4537-ab06-93eab3c93ef3"
      },
      "outputs": [
        {
          "output_type": "stream",
          "name": "stdout",
          "text": [
            "Mounted at /content/drive\n"
          ]
        }
      ],
      "source": [
        "# Connect to google drive from Colab\n",
        "from google.colab import drive\n",
        "drive.mount('/content/drive')"
      ]
    },
    {
      "cell_type": "code",
      "execution_count": 13,
      "metadata": {
        "id": "SA5Cyqgk5kgB"
      },
      "outputs": [],
      "source": [
        " # Read CSV from google drive\n",
        " cs_reviews_df = pd.read_csv('/content/drive/My Drive/Colab Notebooks/courier-service_reviews.csv')\n"
      ]
    },
    {
      "cell_type": "code",
      "execution_count": 14,
      "metadata": {
        "colab": {
          "base_uri": "https://localhost:8080/"
        },
        "id": "a-NSh5_p7V5E",
        "outputId": "f784084d-ab0d-469a-8361-5b0f84ece88e"
      },
      "outputs": [
        {
          "output_type": "stream",
          "name": "stdout",
          "text": [
            "<class 'pandas.core.frame.DataFrame'>\n",
            "RangeIndex: 131 entries, 0 to 130\n",
            "Data columns (total 3 columns):\n",
            " #   Column     Non-Null Count  Dtype \n",
            "---  ------     --------------  ----- \n",
            " 0   id         131 non-null    int64 \n",
            " 1   review     131 non-null    object\n",
            " 2   sentiment  131 non-null    object\n",
            "dtypes: int64(1), object(2)\n",
            "memory usage: 3.2+ KB\n"
          ]
        }
      ],
      "source": [
        "# find general information of the dataframe\n",
        "cs_reviews_df.info()"
      ]
    },
    {
      "cell_type": "code",
      "execution_count": 15,
      "metadata": {
        "colab": {
          "base_uri": "https://localhost:8080/",
          "height": 206
        },
        "id": "UJmr1iJ5_tNm",
        "outputId": "23e1189b-72ae-4462-9cf1-f9c5c1209b93"
      },
      "outputs": [
        {
          "output_type": "execute_result",
          "data": {
            "text/plain": [
              "    id                                             review sentiment\n",
              "83  84  At first, I was impressed by the speed and eff...  Positive\n",
              "8    9  I appreciate the attention to detail that Expr...  Positive\n",
              "96  97  When it comes to packaging materials, ExpressW...  Positive\n",
              "81  82  The delivery executive assigned by ExpressWay ...  Positive\n",
              "68  69  What impresses me most about ExpressWay Logist...  Positive"
            ],
            "text/html": [
              "\n",
              "  <div id=\"df-6fe81be2-d27d-4b3d-be74-7397a3350651\" class=\"colab-df-container\">\n",
              "    <div>\n",
              "<style scoped>\n",
              "    .dataframe tbody tr th:only-of-type {\n",
              "        vertical-align: middle;\n",
              "    }\n",
              "\n",
              "    .dataframe tbody tr th {\n",
              "        vertical-align: top;\n",
              "    }\n",
              "\n",
              "    .dataframe thead th {\n",
              "        text-align: right;\n",
              "    }\n",
              "</style>\n",
              "<table border=\"1\" class=\"dataframe\">\n",
              "  <thead>\n",
              "    <tr style=\"text-align: right;\">\n",
              "      <th></th>\n",
              "      <th>id</th>\n",
              "      <th>review</th>\n",
              "      <th>sentiment</th>\n",
              "    </tr>\n",
              "  </thead>\n",
              "  <tbody>\n",
              "    <tr>\n",
              "      <th>83</th>\n",
              "      <td>84</td>\n",
              "      <td>At first, I was impressed by the speed and eff...</td>\n",
              "      <td>Positive</td>\n",
              "    </tr>\n",
              "    <tr>\n",
              "      <th>8</th>\n",
              "      <td>9</td>\n",
              "      <td>I appreciate the attention to detail that Expr...</td>\n",
              "      <td>Positive</td>\n",
              "    </tr>\n",
              "    <tr>\n",
              "      <th>96</th>\n",
              "      <td>97</td>\n",
              "      <td>When it comes to packaging materials, ExpressW...</td>\n",
              "      <td>Positive</td>\n",
              "    </tr>\n",
              "    <tr>\n",
              "      <th>81</th>\n",
              "      <td>82</td>\n",
              "      <td>The delivery executive assigned by ExpressWay ...</td>\n",
              "      <td>Positive</td>\n",
              "    </tr>\n",
              "    <tr>\n",
              "      <th>68</th>\n",
              "      <td>69</td>\n",
              "      <td>What impresses me most about ExpressWay Logist...</td>\n",
              "      <td>Positive</td>\n",
              "    </tr>\n",
              "  </tbody>\n",
              "</table>\n",
              "</div>\n",
              "    <div class=\"colab-df-buttons\">\n",
              "\n",
              "  <div class=\"colab-df-container\">\n",
              "    <button class=\"colab-df-convert\" onclick=\"convertToInteractive('df-6fe81be2-d27d-4b3d-be74-7397a3350651')\"\n",
              "            title=\"Convert this dataframe to an interactive table.\"\n",
              "            style=\"display:none;\">\n",
              "\n",
              "  <svg xmlns=\"http://www.w3.org/2000/svg\" height=\"24px\" viewBox=\"0 -960 960 960\">\n",
              "    <path d=\"M120-120v-720h720v720H120Zm60-500h600v-160H180v160Zm220 220h160v-160H400v160Zm0 220h160v-160H400v160ZM180-400h160v-160H180v160Zm440 0h160v-160H620v160ZM180-180h160v-160H180v160Zm440 0h160v-160H620v160Z\"/>\n",
              "  </svg>\n",
              "    </button>\n",
              "\n",
              "  <style>\n",
              "    .colab-df-container {\n",
              "      display:flex;\n",
              "      gap: 12px;\n",
              "    }\n",
              "\n",
              "    .colab-df-convert {\n",
              "      background-color: #E8F0FE;\n",
              "      border: none;\n",
              "      border-radius: 50%;\n",
              "      cursor: pointer;\n",
              "      display: none;\n",
              "      fill: #1967D2;\n",
              "      height: 32px;\n",
              "      padding: 0 0 0 0;\n",
              "      width: 32px;\n",
              "    }\n",
              "\n",
              "    .colab-df-convert:hover {\n",
              "      background-color: #E2EBFA;\n",
              "      box-shadow: 0px 1px 2px rgba(60, 64, 67, 0.3), 0px 1px 3px 1px rgba(60, 64, 67, 0.15);\n",
              "      fill: #174EA6;\n",
              "    }\n",
              "\n",
              "    .colab-df-buttons div {\n",
              "      margin-bottom: 4px;\n",
              "    }\n",
              "\n",
              "    [theme=dark] .colab-df-convert {\n",
              "      background-color: #3B4455;\n",
              "      fill: #D2E3FC;\n",
              "    }\n",
              "\n",
              "    [theme=dark] .colab-df-convert:hover {\n",
              "      background-color: #434B5C;\n",
              "      box-shadow: 0px 1px 3px 1px rgba(0, 0, 0, 0.15);\n",
              "      filter: drop-shadow(0px 1px 2px rgba(0, 0, 0, 0.3));\n",
              "      fill: #FFFFFF;\n",
              "    }\n",
              "  </style>\n",
              "\n",
              "    <script>\n",
              "      const buttonEl =\n",
              "        document.querySelector('#df-6fe81be2-d27d-4b3d-be74-7397a3350651 button.colab-df-convert');\n",
              "      buttonEl.style.display =\n",
              "        google.colab.kernel.accessAllowed ? 'block' : 'none';\n",
              "\n",
              "      async function convertToInteractive(key) {\n",
              "        const element = document.querySelector('#df-6fe81be2-d27d-4b3d-be74-7397a3350651');\n",
              "        const dataTable =\n",
              "          await google.colab.kernel.invokeFunction('convertToInteractive',\n",
              "                                                    [key], {});\n",
              "        if (!dataTable) return;\n",
              "\n",
              "        const docLinkHtml = 'Like what you see? Visit the ' +\n",
              "          '<a target=\"_blank\" href=https://colab.research.google.com/notebooks/data_table.ipynb>data table notebook</a>'\n",
              "          + ' to learn more about interactive tables.';\n",
              "        element.innerHTML = '';\n",
              "        dataTable['output_type'] = 'display_data';\n",
              "        await google.colab.output.renderOutput(dataTable, element);\n",
              "        const docLink = document.createElement('div');\n",
              "        docLink.innerHTML = docLinkHtml;\n",
              "        element.appendChild(docLink);\n",
              "      }\n",
              "    </script>\n",
              "  </div>\n",
              "\n",
              "\n",
              "<div id=\"df-800ac90d-7830-4337-b5a2-4c7dc9d180a8\">\n",
              "  <button class=\"colab-df-quickchart\" onclick=\"quickchart('df-800ac90d-7830-4337-b5a2-4c7dc9d180a8')\"\n",
              "            title=\"Suggest charts\"\n",
              "            style=\"display:none;\">\n",
              "\n",
              "<svg xmlns=\"http://www.w3.org/2000/svg\" height=\"24px\"viewBox=\"0 0 24 24\"\n",
              "     width=\"24px\">\n",
              "    <g>\n",
              "        <path d=\"M19 3H5c-1.1 0-2 .9-2 2v14c0 1.1.9 2 2 2h14c1.1 0 2-.9 2-2V5c0-1.1-.9-2-2-2zM9 17H7v-7h2v7zm4 0h-2V7h2v10zm4 0h-2v-4h2v4z\"/>\n",
              "    </g>\n",
              "</svg>\n",
              "  </button>\n",
              "\n",
              "<style>\n",
              "  .colab-df-quickchart {\n",
              "      --bg-color: #E8F0FE;\n",
              "      --fill-color: #1967D2;\n",
              "      --hover-bg-color: #E2EBFA;\n",
              "      --hover-fill-color: #174EA6;\n",
              "      --disabled-fill-color: #AAA;\n",
              "      --disabled-bg-color: #DDD;\n",
              "  }\n",
              "\n",
              "  [theme=dark] .colab-df-quickchart {\n",
              "      --bg-color: #3B4455;\n",
              "      --fill-color: #D2E3FC;\n",
              "      --hover-bg-color: #434B5C;\n",
              "      --hover-fill-color: #FFFFFF;\n",
              "      --disabled-bg-color: #3B4455;\n",
              "      --disabled-fill-color: #666;\n",
              "  }\n",
              "\n",
              "  .colab-df-quickchart {\n",
              "    background-color: var(--bg-color);\n",
              "    border: none;\n",
              "    border-radius: 50%;\n",
              "    cursor: pointer;\n",
              "    display: none;\n",
              "    fill: var(--fill-color);\n",
              "    height: 32px;\n",
              "    padding: 0;\n",
              "    width: 32px;\n",
              "  }\n",
              "\n",
              "  .colab-df-quickchart:hover {\n",
              "    background-color: var(--hover-bg-color);\n",
              "    box-shadow: 0 1px 2px rgba(60, 64, 67, 0.3), 0 1px 3px 1px rgba(60, 64, 67, 0.15);\n",
              "    fill: var(--button-hover-fill-color);\n",
              "  }\n",
              "\n",
              "  .colab-df-quickchart-complete:disabled,\n",
              "  .colab-df-quickchart-complete:disabled:hover {\n",
              "    background-color: var(--disabled-bg-color);\n",
              "    fill: var(--disabled-fill-color);\n",
              "    box-shadow: none;\n",
              "  }\n",
              "\n",
              "  .colab-df-spinner {\n",
              "    border: 2px solid var(--fill-color);\n",
              "    border-color: transparent;\n",
              "    border-bottom-color: var(--fill-color);\n",
              "    animation:\n",
              "      spin 1s steps(1) infinite;\n",
              "  }\n",
              "\n",
              "  @keyframes spin {\n",
              "    0% {\n",
              "      border-color: transparent;\n",
              "      border-bottom-color: var(--fill-color);\n",
              "      border-left-color: var(--fill-color);\n",
              "    }\n",
              "    20% {\n",
              "      border-color: transparent;\n",
              "      border-left-color: var(--fill-color);\n",
              "      border-top-color: var(--fill-color);\n",
              "    }\n",
              "    30% {\n",
              "      border-color: transparent;\n",
              "      border-left-color: var(--fill-color);\n",
              "      border-top-color: var(--fill-color);\n",
              "      border-right-color: var(--fill-color);\n",
              "    }\n",
              "    40% {\n",
              "      border-color: transparent;\n",
              "      border-right-color: var(--fill-color);\n",
              "      border-top-color: var(--fill-color);\n",
              "    }\n",
              "    60% {\n",
              "      border-color: transparent;\n",
              "      border-right-color: var(--fill-color);\n",
              "    }\n",
              "    80% {\n",
              "      border-color: transparent;\n",
              "      border-right-color: var(--fill-color);\n",
              "      border-bottom-color: var(--fill-color);\n",
              "    }\n",
              "    90% {\n",
              "      border-color: transparent;\n",
              "      border-bottom-color: var(--fill-color);\n",
              "    }\n",
              "  }\n",
              "</style>\n",
              "\n",
              "  <script>\n",
              "    async function quickchart(key) {\n",
              "      const quickchartButtonEl =\n",
              "        document.querySelector('#' + key + ' button');\n",
              "      quickchartButtonEl.disabled = true;  // To prevent multiple clicks.\n",
              "      quickchartButtonEl.classList.add('colab-df-spinner');\n",
              "      try {\n",
              "        const charts = await google.colab.kernel.invokeFunction(\n",
              "            'suggestCharts', [key], {});\n",
              "      } catch (error) {\n",
              "        console.error('Error during call to suggestCharts:', error);\n",
              "      }\n",
              "      quickchartButtonEl.classList.remove('colab-df-spinner');\n",
              "      quickchartButtonEl.classList.add('colab-df-quickchart-complete');\n",
              "    }\n",
              "    (() => {\n",
              "      let quickchartButtonEl =\n",
              "        document.querySelector('#df-800ac90d-7830-4337-b5a2-4c7dc9d180a8 button');\n",
              "      quickchartButtonEl.style.display =\n",
              "        google.colab.kernel.accessAllowed ? 'block' : 'none';\n",
              "    })();\n",
              "  </script>\n",
              "</div>\n",
              "\n",
              "    </div>\n",
              "  </div>\n"
            ],
            "application/vnd.google.colaboratory.intrinsic+json": {
              "type": "dataframe",
              "summary": "{\n  \"name\": \"cs_reviews_df\",\n  \"rows\": 5,\n  \"fields\": [\n    {\n      \"column\": \"id\",\n      \"properties\": {\n        \"dtype\": \"number\",\n        \"std\": 34,\n        \"min\": 9,\n        \"max\": 97,\n        \"num_unique_values\": 5,\n        \"samples\": [\n          9,\n          69,\n          97\n        ],\n        \"semantic_type\": \"\",\n        \"description\": \"\"\n      }\n    },\n    {\n      \"column\": \"review\",\n      \"properties\": {\n        \"dtype\": \"string\",\n        \"num_unique_values\": 5,\n        \"samples\": [\n          \"I appreciate the attention to detail that ExpressWay Logistics puts into every aspect of their service, from packaging to delivery to customer support and the promised door to door deliveries.Overall a satisfied service!\",\n          \"What impresses me most about ExpressWay Logistics is their commitment to continuous improvement. They are always looking for ways to enhance their services and exceed customer expectations, which is why I continue to choose them for all my shipping needs.\",\n          \"When it comes to packaging materials, ExpressWay Logistics prioritizes quality and durability. I was impressed by the sturdy packaging used to protect my items during transit. Their attention to detail in selecting the right materials for each package ensured that my goods arrived in perfect condition. With ExpressWay Logistics, I can trust that my shipments will be handled with care and arrive safely at their destination.\"\n        ],\n        \"semantic_type\": \"\",\n        \"description\": \"\"\n      }\n    },\n    {\n      \"column\": \"sentiment\",\n      \"properties\": {\n        \"dtype\": \"category\",\n        \"num_unique_values\": 1,\n        \"samples\": [\n          \"Positive\"\n        ],\n        \"semantic_type\": \"\",\n        \"description\": \"\"\n      }\n    }\n  ]\n}"
            }
          },
          "metadata": {},
          "execution_count": 15
        }
      ],
      "source": [
        "#sample 5 rows of the data in the dataframe\n",
        "cs_reviews_df.sample(5)"
      ]
    },
    {
      "cell_type": "markdown",
      "metadata": {
        "id": "CKUDLCbC0bfB"
      },
      "source": [
        "**(B) Count Positive and Negative Sentiment Reviews (1 Marks)**"
      ]
    },
    {
      "cell_type": "code",
      "execution_count": 16,
      "metadata": {
        "colab": {
          "base_uri": "https://localhost:8080/",
          "height": 178
        },
        "id": "7BSOxDIXGL6x",
        "outputId": "0f1f7b8b-d727-44a6-95d4-2c888688d65b"
      },
      "outputs": [
        {
          "output_type": "execute_result",
          "data": {
            "text/plain": [
              "sentiment\n",
              "Positive    68\n",
              "Negative    63\n",
              "Name: count, dtype: int64"
            ],
            "text/html": [
              "<div>\n",
              "<style scoped>\n",
              "    .dataframe tbody tr th:only-of-type {\n",
              "        vertical-align: middle;\n",
              "    }\n",
              "\n",
              "    .dataframe tbody tr th {\n",
              "        vertical-align: top;\n",
              "    }\n",
              "\n",
              "    .dataframe thead th {\n",
              "        text-align: right;\n",
              "    }\n",
              "</style>\n",
              "<table border=\"1\" class=\"dataframe\">\n",
              "  <thead>\n",
              "    <tr style=\"text-align: right;\">\n",
              "      <th></th>\n",
              "      <th>count</th>\n",
              "    </tr>\n",
              "    <tr>\n",
              "      <th>sentiment</th>\n",
              "      <th></th>\n",
              "    </tr>\n",
              "  </thead>\n",
              "  <tbody>\n",
              "    <tr>\n",
              "      <th>Positive</th>\n",
              "      <td>68</td>\n",
              "    </tr>\n",
              "    <tr>\n",
              "      <th>Negative</th>\n",
              "      <td>63</td>\n",
              "    </tr>\n",
              "  </tbody>\n",
              "</table>\n",
              "</div><br><label><b>dtype:</b> int64</label>"
            ]
          },
          "metadata": {},
          "execution_count": 16
        }
      ],
      "source": [
        "# count the positive and negative sentiments in the dataframe\n",
        "cs_reviews_df.sentiment.value_counts()"
      ]
    },
    {
      "cell_type": "markdown",
      "metadata": {
        "id": "ORtQ1tjW8fXA"
      },
      "source": [
        "</b> The dataframe is slightly skewed with 68 postive sentiments and 63 negative sentiments </b>"
      ]
    },
    {
      "cell_type": "code",
      "execution_count": 17,
      "metadata": {
        "colab": {
          "base_uri": "https://localhost:8080/"
        },
        "id": "l3Z0q0b6zgGT",
        "outputId": "1284cb0d-beb9-4a3c-92dd-19aa038145a6"
      },
      "outputs": [
        {
          "output_type": "execute_result",
          "data": {
            "text/plain": [
              "(131, 3)"
            ]
          },
          "metadata": {},
          "execution_count": 17
        }
      ],
      "source": [
        "# find the shape of the dataframe\n",
        "cs_reviews_df.shape"
      ]
    },
    {
      "cell_type": "markdown",
      "metadata": {
        "id": "MiXuxmchzgGT"
      },
      "source": [
        "**(C) Split the Dataset (2 Marks)**"
      ]
    },
    {
      "cell_type": "code",
      "execution_count": 18,
      "metadata": {
        "id": "fiEyFyhVIZP6"
      },
      "outputs": [],
      "source": [
        "# split the data into examples and gold examples with a 80:20 split\n",
        "\n",
        "cs_examples_df, cs_gold_examples_df = train_test_split(\n",
        "    cs_reviews_df, #<- the full dataset\n",
        "    test_size=0.2, #<- 20% random sample selected for gold examples\n",
        "    random_state=42 #<- ensures that the splits are the same for every session\n",
        ")"
      ]
    },
    {
      "cell_type": "code",
      "execution_count": 19,
      "metadata": {
        "colab": {
          "base_uri": "https://localhost:8080/"
        },
        "id": "bGSj2dfZOMW-",
        "outputId": "d18547ca-9072-49a4-e466-a05bcfc51543"
      },
      "outputs": [
        {
          "output_type": "execute_result",
          "data": {
            "text/plain": [
              "((104, 3), (27, 3))"
            ]
          },
          "metadata": {},
          "execution_count": 19
        }
      ],
      "source": [
        "# shape of the resulting example and gold example data frames\n",
        "(cs_examples_df.shape, cs_gold_examples_df.shape)"
      ]
    },
    {
      "cell_type": "markdown",
      "metadata": {
        "id": "2ExVGFPl4tdx"
      },
      "source": [
        "To select gold examples for this session, we sample randomly from the test data using a `random_state=42`. This ensures that the examples from multiple runs of the sampling are the same (i.e., they are randomly selected but do not change between different runs of the notebook). Note that we are doing this only to keep execution times low for illustration. In practise, large number of gold examples facilitate robust estimates of model accuracy."
      ]
    },
    {
      "cell_type": "code",
      "execution_count": 20,
      "metadata": {
        "id": "YLj4LVu_Ozc_"
      },
      "outputs": [],
      "source": [
        "# select the columns review and sentiment that will be fed into the model\n",
        "columns_to_select = ['review','sentiment']"
      ]
    },
    {
      "cell_type": "code",
      "execution_count": 21,
      "metadata": {
        "id": "nDIZm2RdMsDt"
      },
      "outputs": [],
      "source": [
        "# creates gold examples and writes it to a json file\n",
        "gold_examples = (\n",
        "        cs_gold_examples_df.loc[:, columns_to_select]\n",
        "                                     .sample(21, random_state=42) #<- ensures that gold examples are the same for every session\n",
        "                                     .to_json(orient='records')\n",
        ")"
      ]
    },
    {
      "cell_type": "code",
      "execution_count": 22,
      "metadata": {
        "colab": {
          "base_uri": "https://localhost:8080/",
          "height": 105
        },
        "id": "5AcH3eqgzgGV",
        "outputId": "bd285eb1-ef01-445b-b52e-b0f91bd988f4"
      },
      "outputs": [
        {
          "output_type": "execute_result",
          "data": {
            "text/plain": [
              "'[{\"review\":\"The delivery executive assigned by ExpressWay Logistics was courteous and professional during the delivery process. They tried their best to handle the package with care.Unfortunately, the package arrived with slight damage despite the delivery executive\\'s efforts. The packaging seemed more than adequate to protect the contents during transit.\",\"sentiment\":\"Positive\"},{\"review\":\"ExpressWay Logistics failed to meet my expectations. The delivery was delayed, and the customer support team was unresponsive and unhelpful when I tried to inquire about the status of my parcel.\",\"sentiment\":\"Negative\"},{\"review\":\"ExpressWay Logistics\\' incompetence resulted in a major inconvenience when my package was delivered to the wrong recipient. Despite providing accurate delivery information, the package ended up in the hands of someone else, and efforts to retrieve it were unsuccessful. When I contacted customer service for assistance, I was met with apathy and a lack of urgency. Their failure to rectify the situation in a timely manner is unacceptable, and I will be avoiding their services at all costs.\",\"sentiment\":\"Negative\"},{\"review\":\"Kudos to ExpressWay Logistics for their outstanding service! They\\'ve been an essential partner for my business, handling all our shipping needs with professionalism and efficiency. If you\\'re looking for a reliable logistic service provider, look no further than ExpressWay Logistics.\",\"sentiment\":\"Positive\"},{\"review\":\"ExpressWay Logistics offers a convenient online platform for booking shipments, and their competitive rates initially drew me in. However, the frequent delays in delivery and lack of transparency regarding additional fees have soured my experience. While their customer service representatives are polite, they often seem powerless to resolve issues effectively.This lack of care and responsibilites from the concerned teams have led me unsatisfied and irritated.I cannot trust and rely on this again.Will definitely not contact them ever for my courier deliveries!\",\"sentiment\":\"Negative\"},{\"review\":\"Planning a destination wedding is undoubtedly a daunting task, especially when it comes to coordinating transportation for guests and wedding essentials. Fortunately, ExpressWay Logistics made this aspect of our wedding planning effortless. From the beginning, they were attentive to our needs and provided valuable insights to streamline the process.\",\"sentiment\":\"Positive\"},{\"review\":\"ExpressWay Logistics consistently delivers on its promises, providing fast, efficient, and reliable courier services that exceeded my expectations.\",\"sentiment\":\"Positive\"},{\"review\":\"I needed to ship perishable items internationally, and ExpressWay Logistics handled the process flawlessly. They ensured that the items were properly packaged and transported in temperature-controlled conditions.\",\"sentiment\":\"Positive\"},{\"review\":\"I appreciated the flexibility offered by ExpressWay Logistics in terms of delivery options. Their range of delivery speeds and service levels allowed me to choose the option that best suited my needs and budget.However, I was slightly disappointed by the lack of transparency regarding few additional fees and surcharges. I selected a specific delivery option and paid minor charges at checkout, which undermined the initial affordability of the service..\",\"sentiment\":\"Negative\"},{\"review\":\"While ExpressWay Logistics\\' pricing is competitive, their lack of accountability for delays and damages is disappointing. It\\'s frustrating to pay for a service that fails to deliver on its promises consistently.\",\"sentiment\":\"Negative\"},{\"review\":\"ExpressWay Logistics\\' pricing may seem attractive at first glance, but beware of some internal hidden fees that may sometimes add up. Coupled with their reliable delivery times, it\\'s simply not worth the hassle.But still I appreciate that my parcel got delivered safely a day after the promised window.\",\"sentiment\":\"Positive\"},{\"review\":\"ExpressWay Logistics has been my go-to courier service for years, primarily due to their extensive network coverage and competitive pricing. However, my recent experience has left me questioning their reliability. While their user-friendly website and efficient booking process remain commendable, the repeated delays in delivery and lack of proactive communication have been disappointing.Despite these setbacks, their customer service team has always been courteous and responsive, attempting to address my concerns promptly.\",\"sentiment\":\"Negative\"},{\"review\":\"ExpressWay Logistics\\' incompetence led to the loss of my parcel, and their lack of accountability only added to the frustration. Despite filing a claim and providing evidence of the missing items, I received no assistance or compensation for the lost package. Their negligence and disregard for customer satisfaction are unacceptable, and I will be exploring legal options to recoup the value of the lost items.\",\"sentiment\":\"Negative\"},{\"review\":\"I was deeply disappointed by the behavior of the delivery executive from Expressway Logistics. They exhibited a complete disregard for customer satisfaction, arriving late and mishandling the package upon delivery. Despite raising my concerns with Expressway Logistics, there was no acknowledgment or resolution provided.\",\"sentiment\":\"Negative\"},{\"review\":\"As a frequent traveler, I often use ExpressWay Logistics to ship luggage and personal belongings ahead of time. Their door-to-door service and reliable tracking make traveling a breeze.\",\"sentiment\":\"Positive\"},{\"review\":\"ExpressWay Logistics caught my attention with its promise of seamless shipping solutions and a comprehensive network. However, my recent experiences have revealed some significant shortcomings. Their online platform is disgusting and their tracking system is inaccurate.I\\'ve encountered repeated issues with inaccurate weight calculations that have led to unexpected charges. Moreover, the limited options for customizing shipment preferences have made it challenging to meet my requirements.I cannot rely upon it for my future requirements.It failed to meet my requirements.\",\"sentiment\":\"Negative\"},{\"review\":\"The packaging provided by ExpressWay Logistics is always secure and well-protected, and ensured that my items arrive in perfect condition.\",\"sentiment\":\"Positive\"},{\"review\":\"My recent experience with ExpressWay Logistics left me thoroughly impressed. I had a highly time-sensitive shipment that required delicate handling and precise coordination. Despite the challenges, ExpressWay rose to the occasion, demonstrating an unparalleled level of professionalism and efficiency. Their team meticulously planned every aspect of the shipment, from packaging to transportation, ensuring that no detail was overlooked. \",\"sentiment\":\"Positive\"},{\"review\":\"I was initially impressed by ExpressWay Logistics\\' promise of reliability and affordability, but my recent encounters have been less than satisfactory. Their website is so irritating and their drivers are too harsh, the repeated delays in delivery have been frustrating. Additionally, the discovery of hidden fees within their pricing structure has left me feeling misled. In addition to these challenges, their customer service team has been inattentive and disrespectful, which has degraded the overall experience.Not at all recommend! \",\"sentiment\":\"Negative\"},{\"review\":\"Thumbs up to ExpressWay for their prompt responses and reliable shipping solutions. Impressed!\",\"sentiment\":\"Positive\"},{\"review\":\"I had a terrible experience with ExpressWay Logistics. Not only was my pickup delayed, but the packaging was not done intactly, and the customer support team was unresponsive when I tried to raise the issue.\",\"sentiment\":\"Negative\"}]'"
            ],
            "application/vnd.google.colaboratory.intrinsic+json": {
              "type": "string"
            }
          },
          "metadata": {},
          "execution_count": 22
        }
      ],
      "source": [
        "# print gold example\n",
        "gold_examples"
      ]
    },
    {
      "cell_type": "code",
      "execution_count": 23,
      "metadata": {
        "colab": {
          "base_uri": "https://localhost:8080/"
        },
        "id": "r8J58KMMM95s",
        "outputId": "cb060f54-b4ac-49a7-dc5c-f0c0c925b31d"
      },
      "outputs": [
        {
          "output_type": "execute_result",
          "data": {
            "text/plain": [
              "{'review': \"The delivery executive assigned by ExpressWay Logistics was courteous and professional during the delivery process. They tried their best to handle the package with care.Unfortunately, the package arrived with slight damage despite the delivery executive's efforts. The packaging seemed more than adequate to protect the contents during transit.\",\n",
              " 'sentiment': 'Positive'}"
            ]
          },
          "metadata": {},
          "execution_count": 23
        }
      ],
      "source": [
        "# print the first example in the gold example list.\n",
        "json.loads(gold_examples)[0]     #Json format"
      ]
    },
    {
      "cell_type": "markdown",
      "metadata": {
        "id": "ZPsU-h8FPaht"
      },
      "source": [
        "##**Step 3: Derive Prompt (12 Marks)**\n",
        "\n",
        "(A) Write Zero Shot System Message (3 Marks)\n",
        "\n",
        "(B) Create Zero Shot Prompt (2 Marks)\n",
        "\n",
        "(C) Write Few Shot System Message (3 Marks)\n",
        "\n",
        "(D) Create Examples For Few shot prompte (2 Marks)\n",
        "\n",
        "(E) Create Few Shot Prompt (2 Marks)"
      ]
    },
    {
      "cell_type": "code",
      "execution_count": 24,
      "metadata": {
        "id": "NfDUKbCgPahu"
      },
      "outputs": [],
      "source": [
        "# user message for the zero shot and few shot prompt\n",
        "user_message_template = \"\"\"```{courier_service_review}```\"\"\""
      ]
    },
    {
      "cell_type": "markdown",
      "metadata": {
        "id": "X3uS8NWfNqBG"
      },
      "source": [
        "**(A) Write Zero Shot System Message (3 Marks)**"
      ]
    },
    {
      "cell_type": "code",
      "execution_count": 25,
      "metadata": {
        "id": "J79_IaxHJdY2"
      },
      "outputs": [],
      "source": [
        "# zero shot prompt system message\n",
        "zero_shot_system_message = \"\"\"\n",
        "You are a helpful assistant tasked with sentiment analysis of customer reviews of a logistic company.\n",
        "Classify the sentiment of customer reviews presented in the input as 'Positive' or 'Negative'.\n",
        "Customer reviews will be delimited by triple backticks in the input.\n",
        "Answer only 'Positive' or 'Negative'. Do not explain your answer.\n",
        "\"\"\"\n",
        "# Write zero shot system message here"
      ]
    },
    {
      "cell_type": "markdown",
      "metadata": {
        "id": "46AWalvrLTxs"
      },
      "source": [
        "**(B) Create Zero Shot Prompt (2 Marks)**"
      ]
    },
    {
      "cell_type": "code",
      "execution_count": 26,
      "metadata": {
        "id": "t8cjNjiJJpzc"
      },
      "outputs": [],
      "source": [
        "# zero shot prompt\n",
        "zero_shot_prompt = [{'role':'system', 'content': zero_shot_system_message}]\n",
        "# Create zero shot prompt to be input ready for completion function"
      ]
    },
    {
      "cell_type": "code",
      "execution_count": 27,
      "metadata": {
        "colab": {
          "base_uri": "https://localhost:8080/"
        },
        "id": "xlbBt1u_OJEz",
        "outputId": "54e5d5c8-533f-405d-aac5-dea75f97c708"
      },
      "outputs": [
        {
          "output_type": "execute_result",
          "data": {
            "text/plain": [
              "72"
            ]
          },
          "metadata": {},
          "execution_count": 27
        }
      ],
      "source": [
        "# count the number of input tokens for zero shot prompt\n",
        "num_tokens_from_messages(zero_shot_prompt)"
      ]
    },
    {
      "cell_type": "markdown",
      "metadata": {
        "id": "48bF42gAyQ7Q"
      },
      "source": [
        "**(C) Write Few Shot System Message (3 Marks)**"
      ]
    },
    {
      "cell_type": "code",
      "execution_count": 28,
      "metadata": {
        "id": "2nrW4jzGLdce"
      },
      "outputs": [],
      "source": [
        "# few shot prmpt system message\n",
        "few_shot_system_message = \"\"\"\n",
        "you are a helpful assistant tasked with sentiment analysis of customer reviews of a logistic company.\n",
        "Classify the sentiment of customer reviews presented in the input as 'Positive' or 'Negative'.\n",
        "Customer reviews will be delimited by triple backticks in the input.\n",
        "Examples are provided to you for reference.\n",
        "Answer only 'Positive' or 'Negative'. Do not explain your answer.\n",
        "\"\"\""
      ]
    },
    {
      "cell_type": "markdown",
      "metadata": {
        "id": "d3ExNtgPRDhJ"
      },
      "source": [
        "Merely selecting random samples from the polarity subsets is not enough because the examples included in a prompt are prone to a set of known biases such as:\n",
        " - Majority label bias (frequent answers in predictions)\n",
        " - Recency bias (examples near the end of the prompt)\n"
      ]
    },
    {
      "cell_type": "markdown",
      "metadata": {
        "id": "bEA_Ab2FRrYB"
      },
      "source": [
        "To avoid these biases, it is important to have a balanced set of examples that are arranged in random order. Let us create a Python function that generates bias-free examples:"
      ]
    },
    {
      "cell_type": "code",
      "execution_count": 29,
      "metadata": {
        "id": "Qb0mLtE9R7ZA"
      },
      "outputs": [],
      "source": [
        "# function to create examples and store them in a json file\n",
        "def create_examples(dataset, n=4):\n",
        "\n",
        "    \"\"\"\n",
        "    Return a JSON list of randomized examples of size 2n with two classes.\n",
        "    Create subsets of each class, choose random samples from the subsets,\n",
        "    merge and randomize the order of samples in the merged list.\n",
        "    Each run of this function creates a different random sample of examples\n",
        "    chosen from the training data.\n",
        "\n",
        "    Args:\n",
        "        dataset (DataFrame): A DataFrame with examples (review + label)\n",
        "        n (int): number of examples of each class to be selected\n",
        "\n",
        "    Output:\n",
        "        randomized_examples (JSON): A JSON with examples in random order\n",
        "    \"\"\"\n",
        "\n",
        "    positive_reviews = (dataset.sentiment == 'Positive')\n",
        "    negative_reviews = (dataset.sentiment == 'Negative')\n",
        "    columns_to_select = ['review', 'sentiment']\n",
        "\n",
        "    positive_examples = dataset.loc[positive_reviews, columns_to_select].sample(n)\n",
        "    negative_examples = dataset.loc[negative_reviews, columns_to_select].sample(n)\n",
        "\n",
        "    examples = pd.concat([positive_examples, negative_examples])\n",
        "\n",
        "    # sampling without replacement is equivalent to random shuffling\n",
        "\n",
        "    randomized_examples = examples.sample(2*n, replace=False)\n",
        "\n",
        "    return randomized_examples.to_json(orient='records')"
      ]
    },
    {
      "cell_type": "markdown",
      "metadata": {
        "id": "vHhPExVTyO93"
      },
      "source": [
        "**(D) Create Examples For Few shot prompte (2 Marks)**"
      ]
    },
    {
      "cell_type": "code",
      "execution_count": 30,
      "metadata": {
        "id": "jb1VpSgZPaht"
      },
      "outputs": [],
      "source": [
        "# create 4 examples for the few shot prompt\n",
        "examples =  create_examples(cs_examples_df, 2)\n",
        "# Create Examples"
      ]
    },
    {
      "cell_type": "code",
      "execution_count": 31,
      "metadata": {
        "colab": {
          "base_uri": "https://localhost:8080/"
        },
        "id": "dJInVW2PSucc",
        "outputId": "80178761-3179-4a38-9522-438bcffd14b9"
      },
      "outputs": [
        {
          "output_type": "execute_result",
          "data": {
            "text/plain": [
              "[{'review': \"ExpressWay Logistics' commitment to transparency gives us confidence in their services. They provide clear and upfront pricing, so we know exactly what to expect. With ExpressWay Logistics, there are no hidden fees or surprises, just reliable service at a fair price.\",\n",
              "  'sentiment': 'Positive'},\n",
              " {'review': \"ExpressWay Logistics' customer service representatives are polite but lack the authority to resolve issues effectively. Dealing with them feels like hitting a dead end, with problems often left unresolved.\",\n",
              "  'sentiment': 'Negative'},\n",
              " {'review': 'I am extremely disappointed with the service provided by ExpressWay Logistics. My parcel was delivered late, and the packaging was damaged, resulting in the loss of valuable items.',\n",
              "  'sentiment': 'Negative'},\n",
              " {'review': \"I had high hopes for ExpressWay Logistics, but they've consistently let me down. From missed delivery windows to lost packages, their incompetence knows no bounds. I'll be taking my business elsewhere.\",\n",
              "  'sentiment': 'Positive'}]"
            ]
          },
          "metadata": {},
          "execution_count": 31
        }
      ],
      "source": [
        "# print 4 examples created.\n",
        "json.loads(examples)"
      ]
    },
    {
      "cell_type": "markdown",
      "metadata": {
        "id": "PEnNkOzJSwTk"
      },
      "source": [
        "With the examples in place, we can now assemble a few-shot prompt. Since we will be using the few-shot prompt several times during evaluation, let us write a function to create a few-shot prompt (the logic of this function is depicted below)."
      ]
    },
    {
      "cell_type": "code",
      "execution_count": 32,
      "metadata": {
        "id": "mFK2WQOgS8ey"
      },
      "outputs": [],
      "source": [
        "# create function to build the few shot prompt\n",
        "def create_prompt(system_message, examples, user_message_template):\n",
        "\n",
        "    \"\"\"\n",
        "    Return a prompt message in the format expected by the Open AI API.\n",
        "    Loop through the examples and parse them as user message and assistant\n",
        "    message.\n",
        "\n",
        "    Args:\n",
        "        system_message (str): system message with instructions for sentiment analysis\n",
        "        examples (str): JSON string with list of examples\n",
        "        user_message_template (str): string with a placeholder for courier service reviews\n",
        "\n",
        "    Output:\n",
        "        few_shot_prompt (List): A list of dictionaries in the Open AI prompt format\n",
        "    \"\"\"\n",
        "\n",
        "    few_shot_prompt = [{'role':'system', 'content': system_message}]\n",
        "\n",
        "    for example in json.loads(examples):\n",
        "        example_review = example['review']\n",
        "        example_sentiment = example['sentiment']\n",
        "\n",
        "        few_shot_prompt.append(\n",
        "            {\n",
        "                'role': 'user',\n",
        "                'content': user_message_template.format(\n",
        "                    courier_service_review=example_review\n",
        "                )\n",
        "            }\n",
        "        )\n",
        "\n",
        "        few_shot_prompt.append(\n",
        "            {'role': 'assistant', 'content': f\"{example_sentiment}\"}\n",
        "        )\n",
        "\n",
        "    return few_shot_prompt"
      ]
    },
    {
      "cell_type": "markdown",
      "metadata": {
        "id": "5YN0Zt1dyZ3X"
      },
      "source": [
        "**(E) Create Few Shot Prompt (2 Marks)**"
      ]
    },
    {
      "cell_type": "code",
      "execution_count": 33,
      "metadata": {
        "id": "QoO1lCFtTBUV"
      },
      "outputs": [],
      "source": [
        "# few shot prompt\n",
        "few_shot_prompt = create_prompt(\n",
        "    few_shot_system_message,\n",
        "    examples,\n",
        "    user_message_template\n",
        ")\n",
        "# Create Few shot prompt\n"
      ]
    },
    {
      "cell_type": "code",
      "execution_count": 34,
      "metadata": {
        "colab": {
          "base_uri": "https://localhost:8080/"
        },
        "id": "sy91eq9FTNeo",
        "outputId": "cb68edce-8454-4a99-c8bc-21d09e909065"
      },
      "outputs": [
        {
          "output_type": "execute_result",
          "data": {
            "text/plain": [
              "[{'role': 'system',\n",
              "  'content': \"\\nyou are a helpful assistant tasked with sentiment analysis of customer reviews of a logistic company.\\nClassify the sentiment of customer reviews presented in the input as 'Positive' or 'Negative'.\\nCustomer reviews will be delimited by triple backticks in the input.\\nExamples are provided to you for reference.\\nAnswer only 'Positive' or 'Negative'. Do not explain your answer.\\n\"},\n",
              " {'role': 'user',\n",
              "  'content': \"```ExpressWay Logistics' commitment to transparency gives us confidence in their services. They provide clear and upfront pricing, so we know exactly what to expect. With ExpressWay Logistics, there are no hidden fees or surprises, just reliable service at a fair price.```\"},\n",
              " {'role': 'assistant', 'content': 'Positive'},\n",
              " {'role': 'user',\n",
              "  'content': \"```ExpressWay Logistics' customer service representatives are polite but lack the authority to resolve issues effectively. Dealing with them feels like hitting a dead end, with problems often left unresolved.```\"},\n",
              " {'role': 'assistant', 'content': 'Negative'},\n",
              " {'role': 'user',\n",
              "  'content': '```I am extremely disappointed with the service provided by ExpressWay Logistics. My parcel was delivered late, and the packaging was damaged, resulting in the loss of valuable items.```'},\n",
              " {'role': 'assistant', 'content': 'Negative'},\n",
              " {'role': 'user',\n",
              "  'content': \"```I had high hopes for ExpressWay Logistics, but they've consistently let me down. From missed delivery windows to lost packages, their incompetence knows no bounds. I'll be taking my business elsewhere.```\"},\n",
              " {'role': 'assistant', 'content': 'Positive'}]"
            ]
          },
          "metadata": {},
          "execution_count": 34
        }
      ],
      "source": [
        "# print few shot prompt\n",
        "few_shot_prompt"
      ]
    },
    {
      "cell_type": "code",
      "execution_count": 35,
      "metadata": {
        "colab": {
          "base_uri": "https://localhost:8080/"
        },
        "id": "ItFH6zLJMnb9",
        "outputId": "162e0518-f3cc-4c7e-8b94-55f2bd4481b0"
      },
      "outputs": [
        {
          "output_type": "execute_result",
          "data": {
            "text/plain": [
              "281"
            ]
          },
          "metadata": {},
          "execution_count": 35
        }
      ],
      "source": [
        "# number of input tokens for few shot prompt\n",
        "num_tokens_from_messages(few_shot_prompt)"
      ]
    },
    {
      "cell_type": "markdown",
      "metadata": {
        "id": "mcI8oyIcPfPW"
      },
      "source": [
        "##**Step 4: Evaluate prompts (8 Marks)**\n",
        "\n",
        "(A) Evaluate Zero Shot Prompt (2 Marks)\n",
        "\n",
        "(B) Evaluate Few Shot Prompt (2 marks)\n",
        "\n",
        "(C) Calculate Mean and Standard Deviation for Zero Shot Prompt and Few Shot Prompt (4 Marks)"
      ]
    },
    {
      "cell_type": "markdown",
      "metadata": {
        "id": "2BWfjbiFUCSp"
      },
      "source": [
        "Now we have two sets of prompts that we need to evaluate using gold labels. Since the few-shot prompt depends on the sample of examples that was drawn to make up the prompt, we expect some variability in evaluation. Hence, we evaluate each prompt multiple times to get a sense of the average and the variation around the average.\n",
        "\n",
        "To reiterate, a choice on the prompt should account for variability due to the choice of the random sample. To aid repeated evaluation, we assemble an evaluation function ."
      ]
    },
    {
      "cell_type": "code",
      "execution_count": 36,
      "metadata": {
        "id": "yWpWWcLAzgGY"
      },
      "outputs": [],
      "source": [
        "# define a function for evaluating the prompts\n",
        "def evaluate_prompt(prompt, gold_examples, user_message_template):\n",
        "\n",
        "    \"\"\"\n",
        "    Return the micro-F1 score for predictions on gold examples.\n",
        "    For each example, we make a prediction using the prompt. Gold labels and\n",
        "    model predictions are aggregated into lists and compared to compute the\n",
        "    F1 score.\n",
        "\n",
        "    Args:\n",
        "        prompt (List): list of messages in the Open AI prompt format\n",
        "        gold_examples (str): JSON string with list of gold examples\n",
        "        user_message_template (str): string with a placeholder for courier service review\n",
        "\n",
        "    Output:\n",
        "        micro_f1_score (float): Micro-F1 score computed by comparing model predictions\n",
        "                                with ground truth\n",
        "    \"\"\"\n",
        "\n",
        "    model_predictions, ground_truths, review_texts = [], [], []\n",
        "\n",
        "    for example in json.loads(gold_examples):\n",
        "        gold_input = example['review']\n",
        "        user_input = [\n",
        "            {\n",
        "                'role':'user',\n",
        "                'content': user_message_template.format(courier_service_review=gold_input)\n",
        "            }\n",
        "        ]\n",
        "\n",
        "        try:\n",
        "            response = client.chat.completions.create(\n",
        "                model=chat_model_id,\n",
        "                messages=prompt+user_input,\n",
        "                temperature=0, # <- Note the low temperature (For a deterministic response)\n",
        "                max_tokens=2 # <- Note how we restrict the output to not more than 2 tokens\n",
        "            )\n",
        "\n",
        "            prediction = response.choices[0].message.content\n",
        "            # response = openai.ChatCompletion.create(\n",
        "            #     deployment_id=chat_model_id,\n",
        "            #     messages=prompt+user_input,\n",
        "            #     temperature=0, # <- Note the low temperature(For a deterministic response)\n",
        "            #     # max_tokens=2 # <- Note how we restrict the output to not more than 2 tokens\n",
        "            # )\n",
        "\n",
        "            # prediction = response['choices'][0]['message']['content']\n",
        "            model_predictions.append(prediction.strip()) # <- removes extraneous white spaces\n",
        "            ground_truths.append(example['sentiment'])\n",
        "            review_texts.append(gold_input)\n",
        "\n",
        "        except Exception as e:\n",
        "            continue\n",
        "\n",
        "    micro_f1_score = f1_score(ground_truths, model_predictions, average=\"micro\")\n",
        "\n",
        "    table_data = [[text, pred, truth] for text, pred, truth in zip(review_texts, model_predictions, ground_truths)]\n",
        "    headers = [\"Review\", \"Model Prediction\", \"Ground Truth\"]\n",
        "    print(tabulate(table_data, headers=headers, tablefmt=\"grid\"))\n",
        "\n",
        "    return micro_f1_score\n"
      ]
    },
    {
      "cell_type": "markdown",
      "metadata": {
        "id": "s61rE4tMVHqt"
      },
      "source": [
        "Let us now use this function to do one evaluation of all the two prompts assembled so far, each time computing the Micro-F1 score."
      ]
    },
    {
      "cell_type": "markdown",
      "metadata": {
        "id": "XpmEiVPIZUBl"
      },
      "source": [
        "**(A) Evaluate zero shot prompt (2 Marks)**"
      ]
    },
    {
      "cell_type": "code",
      "execution_count": 37,
      "metadata": {
        "colab": {
          "base_uri": "https://localhost:8080/"
        },
        "id": "Kar164F4nd9x",
        "outputId": "f471b5be-dfae-4558-f3b3-fa94781fe241"
      },
      "outputs": [
        {
          "output_type": "stream",
          "name": "stdout",
          "text": [
            "+-------------------------------------------------------------------------------------------------------------------------------------------------------------------------------------------------------------------------------------------------------------------------------------------------------------------------------------------------------------------------------------------------------------------------------------------------------------------------------------------------------------------------------------------------------------------------------------------------+--------------------+----------------+\n",
            "| Review                                                                                                                                                                                                                                                                                                                                                                                                                                                                                                                                                                                          | Model Prediction   | Ground Truth   |\n",
            "+=================================================================================================================================================================================================================================================================================================================================================================================================================================================================================================================================================================================================+====================+================+\n",
            "| The delivery executive assigned by ExpressWay Logistics was courteous and professional during the delivery process. They tried their best to handle the package with care.Unfortunately, the package arrived with slight damage despite the delivery executive's efforts. The packaging seemed more than adequate to protect the contents during transit.                                                                                                                                                                                                                                       | Positive           | Positive       |\n",
            "+-------------------------------------------------------------------------------------------------------------------------------------------------------------------------------------------------------------------------------------------------------------------------------------------------------------------------------------------------------------------------------------------------------------------------------------------------------------------------------------------------------------------------------------------------------------------------------------------------+--------------------+----------------+\n",
            "| ExpressWay Logistics failed to meet my expectations. The delivery was delayed, and the customer support team was unresponsive and unhelpful when I tried to inquire about the status of my parcel.                                                                                                                                                                                                                                                                                                                                                                                              | Negative           | Negative       |\n",
            "+-------------------------------------------------------------------------------------------------------------------------------------------------------------------------------------------------------------------------------------------------------------------------------------------------------------------------------------------------------------------------------------------------------------------------------------------------------------------------------------------------------------------------------------------------------------------------------------------------+--------------------+----------------+\n",
            "| ExpressWay Logistics' incompetence resulted in a major inconvenience when my package was delivered to the wrong recipient. Despite providing accurate delivery information, the package ended up in the hands of someone else, and efforts to retrieve it were unsuccessful. When I contacted customer service for assistance, I was met with apathy and a lack of urgency. Their failure to rectify the situation in a timely manner is unacceptable, and I will be avoiding their services at all costs.                                                                                      | Negative           | Negative       |\n",
            "+-------------------------------------------------------------------------------------------------------------------------------------------------------------------------------------------------------------------------------------------------------------------------------------------------------------------------------------------------------------------------------------------------------------------------------------------------------------------------------------------------------------------------------------------------------------------------------------------------+--------------------+----------------+\n",
            "| Kudos to ExpressWay Logistics for their outstanding service! They've been an essential partner for my business, handling all our shipping needs with professionalism and efficiency. If you're looking for a reliable logistic service provider, look no further than ExpressWay Logistics.                                                                                                                                                                                                                                                                                                     | Positive           | Positive       |\n",
            "+-------------------------------------------------------------------------------------------------------------------------------------------------------------------------------------------------------------------------------------------------------------------------------------------------------------------------------------------------------------------------------------------------------------------------------------------------------------------------------------------------------------------------------------------------------------------------------------------------+--------------------+----------------+\n",
            "| ExpressWay Logistics offers a convenient online platform for booking shipments, and their competitive rates initially drew me in. However, the frequent delays in delivery and lack of transparency regarding additional fees have soured my experience. While their customer service representatives are polite, they often seem powerless to resolve issues effectively.This lack of care and responsibilites from the concerned teams have led me unsatisfied and irritated.I cannot trust and rely on this again.Will definitely not contact them ever for my courier deliveries!           | Negative           | Negative       |\n",
            "+-------------------------------------------------------------------------------------------------------------------------------------------------------------------------------------------------------------------------------------------------------------------------------------------------------------------------------------------------------------------------------------------------------------------------------------------------------------------------------------------------------------------------------------------------------------------------------------------------+--------------------+----------------+\n",
            "| Planning a destination wedding is undoubtedly a daunting task, especially when it comes to coordinating transportation for guests and wedding essentials. Fortunately, ExpressWay Logistics made this aspect of our wedding planning effortless. From the beginning, they were attentive to our needs and provided valuable insights to streamline the process.                                                                                                                                                                                                                                 | Positive           | Positive       |\n",
            "+-------------------------------------------------------------------------------------------------------------------------------------------------------------------------------------------------------------------------------------------------------------------------------------------------------------------------------------------------------------------------------------------------------------------------------------------------------------------------------------------------------------------------------------------------------------------------------------------------+--------------------+----------------+\n",
            "| ExpressWay Logistics consistently delivers on its promises, providing fast, efficient, and reliable courier services that exceeded my expectations.                                                                                                                                                                                                                                                                                                                                                                                                                                             | Positive           | Positive       |\n",
            "+-------------------------------------------------------------------------------------------------------------------------------------------------------------------------------------------------------------------------------------------------------------------------------------------------------------------------------------------------------------------------------------------------------------------------------------------------------------------------------------------------------------------------------------------------------------------------------------------------+--------------------+----------------+\n",
            "| I needed to ship perishable items internationally, and ExpressWay Logistics handled the process flawlessly. They ensured that the items were properly packaged and transported in temperature-controlled conditions.                                                                                                                                                                                                                                                                                                                                                                            | Positive           | Positive       |\n",
            "+-------------------------------------------------------------------------------------------------------------------------------------------------------------------------------------------------------------------------------------------------------------------------------------------------------------------------------------------------------------------------------------------------------------------------------------------------------------------------------------------------------------------------------------------------------------------------------------------------+--------------------+----------------+\n",
            "| I appreciated the flexibility offered by ExpressWay Logistics in terms of delivery options. Their range of delivery speeds and service levels allowed me to choose the option that best suited my needs and budget.However, I was slightly disappointed by the lack of transparency regarding few additional fees and surcharges. I selected a specific delivery option and paid minor charges at checkout, which undermined the initial affordability of the service..                                                                                                                         | Positive           | Negative       |\n",
            "+-------------------------------------------------------------------------------------------------------------------------------------------------------------------------------------------------------------------------------------------------------------------------------------------------------------------------------------------------------------------------------------------------------------------------------------------------------------------------------------------------------------------------------------------------------------------------------------------------+--------------------+----------------+\n",
            "| While ExpressWay Logistics' pricing is competitive, their lack of accountability for delays and damages is disappointing. It's frustrating to pay for a service that fails to deliver on its promises consistently.                                                                                                                                                                                                                                                                                                                                                                             | Negative           | Negative       |\n",
            "+-------------------------------------------------------------------------------------------------------------------------------------------------------------------------------------------------------------------------------------------------------------------------------------------------------------------------------------------------------------------------------------------------------------------------------------------------------------------------------------------------------------------------------------------------------------------------------------------------+--------------------+----------------+\n",
            "| ExpressWay Logistics' pricing may seem attractive at first glance, but beware of some internal hidden fees that may sometimes add up. Coupled with their reliable delivery times, it's simply not worth the hassle.But still I appreciate that my parcel got delivered safely a day after the promised window.                                                                                                                                                                                                                                                                                  | Negative           | Positive       |\n",
            "+-------------------------------------------------------------------------------------------------------------------------------------------------------------------------------------------------------------------------------------------------------------------------------------------------------------------------------------------------------------------------------------------------------------------------------------------------------------------------------------------------------------------------------------------------------------------------------------------------+--------------------+----------------+\n",
            "| ExpressWay Logistics has been my go-to courier service for years, primarily due to their extensive network coverage and competitive pricing. However, my recent experience has left me questioning their reliability. While their user-friendly website and efficient booking process remain commendable, the repeated delays in delivery and lack of proactive communication have been disappointing.Despite these setbacks, their customer service team has always been courteous and responsive, attempting to address my concerns promptly.                                                 | Negative           | Negative       |\n",
            "+-------------------------------------------------------------------------------------------------------------------------------------------------------------------------------------------------------------------------------------------------------------------------------------------------------------------------------------------------------------------------------------------------------------------------------------------------------------------------------------------------------------------------------------------------------------------------------------------------+--------------------+----------------+\n",
            "| ExpressWay Logistics' incompetence led to the loss of my parcel, and their lack of accountability only added to the frustration. Despite filing a claim and providing evidence of the missing items, I received no assistance or compensation for the lost package. Their negligence and disregard for customer satisfaction are unacceptable, and I will be exploring legal options to recoup the value of the lost items.                                                                                                                                                                     | Negative           | Negative       |\n",
            "+-------------------------------------------------------------------------------------------------------------------------------------------------------------------------------------------------------------------------------------------------------------------------------------------------------------------------------------------------------------------------------------------------------------------------------------------------------------------------------------------------------------------------------------------------------------------------------------------------+--------------------+----------------+\n",
            "| I was deeply disappointed by the behavior of the delivery executive from Expressway Logistics. They exhibited a complete disregard for customer satisfaction, arriving late and mishandling the package upon delivery. Despite raising my concerns with Expressway Logistics, there was no acknowledgment or resolution provided.                                                                                                                                                                                                                                                               | Negative           | Negative       |\n",
            "+-------------------------------------------------------------------------------------------------------------------------------------------------------------------------------------------------------------------------------------------------------------------------------------------------------------------------------------------------------------------------------------------------------------------------------------------------------------------------------------------------------------------------------------------------------------------------------------------------+--------------------+----------------+\n",
            "| As a frequent traveler, I often use ExpressWay Logistics to ship luggage and personal belongings ahead of time. Their door-to-door service and reliable tracking make traveling a breeze.                                                                                                                                                                                                                                                                                                                                                                                                       | Positive           | Positive       |\n",
            "+-------------------------------------------------------------------------------------------------------------------------------------------------------------------------------------------------------------------------------------------------------------------------------------------------------------------------------------------------------------------------------------------------------------------------------------------------------------------------------------------------------------------------------------------------------------------------------------------------+--------------------+----------------+\n",
            "| ExpressWay Logistics caught my attention with its promise of seamless shipping solutions and a comprehensive network. However, my recent experiences have revealed some significant shortcomings. Their online platform is disgusting and their tracking system is inaccurate.I've encountered repeated issues with inaccurate weight calculations that have led to unexpected charges. Moreover, the limited options for customizing shipment preferences have made it challenging to meet my requirements.I cannot rely upon it for my future requirements.It failed to meet my requirements. | Negative           | Negative       |\n",
            "+-------------------------------------------------------------------------------------------------------------------------------------------------------------------------------------------------------------------------------------------------------------------------------------------------------------------------------------------------------------------------------------------------------------------------------------------------------------------------------------------------------------------------------------------------------------------------------------------------+--------------------+----------------+\n",
            "| The packaging provided by ExpressWay Logistics is always secure and well-protected, and ensured that my items arrive in perfect condition.                                                                                                                                                                                                                                                                                                                                                                                                                                                      | Positive           | Positive       |\n",
            "+-------------------------------------------------------------------------------------------------------------------------------------------------------------------------------------------------------------------------------------------------------------------------------------------------------------------------------------------------------------------------------------------------------------------------------------------------------------------------------------------------------------------------------------------------------------------------------------------------+--------------------+----------------+\n",
            "| My recent experience with ExpressWay Logistics left me thoroughly impressed. I had a highly time-sensitive shipment that required delicate handling and precise coordination. Despite the challenges, ExpressWay rose to the occasion, demonstrating an unparalleled level of professionalism and efficiency. Their team meticulously planned every aspect of the shipment, from packaging to transportation, ensuring that no detail was overlooked.                                                                                                                                           | Positive           | Positive       |\n",
            "+-------------------------------------------------------------------------------------------------------------------------------------------------------------------------------------------------------------------------------------------------------------------------------------------------------------------------------------------------------------------------------------------------------------------------------------------------------------------------------------------------------------------------------------------------------------------------------------------------+--------------------+----------------+\n",
            "| I was initially impressed by ExpressWay Logistics' promise of reliability and affordability, but my recent encounters have been less than satisfactory. Their website is so irritating and their drivers are too harsh, the repeated delays in delivery have been frustrating. Additionally, the discovery of hidden fees within their pricing structure has left me feeling misled. In addition to these challenges, their customer service team has been inattentive and disrespectful, which has degraded the overall experience.Not at all recommend!                                       | Negative           | Negative       |\n",
            "+-------------------------------------------------------------------------------------------------------------------------------------------------------------------------------------------------------------------------------------------------------------------------------------------------------------------------------------------------------------------------------------------------------------------------------------------------------------------------------------------------------------------------------------------------------------------------------------------------+--------------------+----------------+\n",
            "| Thumbs up to ExpressWay for their prompt responses and reliable shipping solutions. Impressed!                                                                                                                                                                                                                                                                                                                                                                                                                                                                                                  | Positive           | Positive       |\n",
            "+-------------------------------------------------------------------------------------------------------------------------------------------------------------------------------------------------------------------------------------------------------------------------------------------------------------------------------------------------------------------------------------------------------------------------------------------------------------------------------------------------------------------------------------------------------------------------------------------------+--------------------+----------------+\n",
            "| I had a terrible experience with ExpressWay Logistics. Not only was my pickup delayed, but the packaging was not done intactly, and the customer support team was unresponsive when I tried to raise the issue.                                                                                                                                                                                                                                                                                                                                                                                 | Negative           | Negative       |\n",
            "+-------------------------------------------------------------------------------------------------------------------------------------------------------------------------------------------------------------------------------------------------------------------------------------------------------------------------------------------------------------------------------------------------------------------------------------------------------------------------------------------------------------------------------------------------------------------------------------------------+--------------------+----------------+\n"
          ]
        },
        {
          "output_type": "execute_result",
          "data": {
            "text/plain": [
              "0.9047619047619048"
            ]
          },
          "metadata": {},
          "execution_count": 37
        }
      ],
      "source": [
        "# evaluate zero shot prompt\n",
        "evaluate_prompt(zero_shot_prompt, gold_examples, user_message_template)"
      ]
    },
    {
      "cell_type": "markdown",
      "metadata": {
        "id": "ya73XdatZUBl"
      },
      "source": [
        "**(B) Evaluate few shot prompt (2 Marks)**"
      ]
    },
    {
      "cell_type": "code",
      "execution_count": 38,
      "metadata": {
        "colab": {
          "base_uri": "https://localhost:8080/"
        },
        "id": "tqQTgKUkZUBl",
        "outputId": "d36dfdfd-b229-4dda-e5c5-231e5e2d62d5"
      },
      "outputs": [
        {
          "output_type": "stream",
          "name": "stdout",
          "text": [
            "+-------------------------------------------------------------------------------------------------------------------------------------------------------------------------------------------------------------------------------------------------------------------------------------------------------------------------------------------------------------------------------------------------------------------------------------------------------------------------------------------------------------------------------------------------------------------------------------------------+--------------------+----------------+\n",
            "| Review                                                                                                                                                                                                                                                                                                                                                                                                                                                                                                                                                                                          | Model Prediction   | Ground Truth   |\n",
            "+=================================================================================================================================================================================================================================================================================================================================================================================================================================================================================================================================================================================================+====================+================+\n",
            "| The delivery executive assigned by ExpressWay Logistics was courteous and professional during the delivery process. They tried their best to handle the package with care.Unfortunately, the package arrived with slight damage despite the delivery executive's efforts. The packaging seemed more than adequate to protect the contents during transit.                                                                                                                                                                                                                                       | Negative           | Positive       |\n",
            "+-------------------------------------------------------------------------------------------------------------------------------------------------------------------------------------------------------------------------------------------------------------------------------------------------------------------------------------------------------------------------------------------------------------------------------------------------------------------------------------------------------------------------------------------------------------------------------------------------+--------------------+----------------+\n",
            "| ExpressWay Logistics failed to meet my expectations. The delivery was delayed, and the customer support team was unresponsive and unhelpful when I tried to inquire about the status of my parcel.                                                                                                                                                                                                                                                                                                                                                                                              | Negative           | Negative       |\n",
            "+-------------------------------------------------------------------------------------------------------------------------------------------------------------------------------------------------------------------------------------------------------------------------------------------------------------------------------------------------------------------------------------------------------------------------------------------------------------------------------------------------------------------------------------------------------------------------------------------------+--------------------+----------------+\n",
            "| ExpressWay Logistics' incompetence resulted in a major inconvenience when my package was delivered to the wrong recipient. Despite providing accurate delivery information, the package ended up in the hands of someone else, and efforts to retrieve it were unsuccessful. When I contacted customer service for assistance, I was met with apathy and a lack of urgency. Their failure to rectify the situation in a timely manner is unacceptable, and I will be avoiding their services at all costs.                                                                                      | Negative           | Negative       |\n",
            "+-------------------------------------------------------------------------------------------------------------------------------------------------------------------------------------------------------------------------------------------------------------------------------------------------------------------------------------------------------------------------------------------------------------------------------------------------------------------------------------------------------------------------------------------------------------------------------------------------+--------------------+----------------+\n",
            "| Kudos to ExpressWay Logistics for their outstanding service! They've been an essential partner for my business, handling all our shipping needs with professionalism and efficiency. If you're looking for a reliable logistic service provider, look no further than ExpressWay Logistics.                                                                                                                                                                                                                                                                                                     | Positive           | Positive       |\n",
            "+-------------------------------------------------------------------------------------------------------------------------------------------------------------------------------------------------------------------------------------------------------------------------------------------------------------------------------------------------------------------------------------------------------------------------------------------------------------------------------------------------------------------------------------------------------------------------------------------------+--------------------+----------------+\n",
            "| ExpressWay Logistics offers a convenient online platform for booking shipments, and their competitive rates initially drew me in. However, the frequent delays in delivery and lack of transparency regarding additional fees have soured my experience. While their customer service representatives are polite, they often seem powerless to resolve issues effectively.This lack of care and responsibilites from the concerned teams have led me unsatisfied and irritated.I cannot trust and rely on this again.Will definitely not contact them ever for my courier deliveries!           | Negative           | Negative       |\n",
            "+-------------------------------------------------------------------------------------------------------------------------------------------------------------------------------------------------------------------------------------------------------------------------------------------------------------------------------------------------------------------------------------------------------------------------------------------------------------------------------------------------------------------------------------------------------------------------------------------------+--------------------+----------------+\n",
            "| Planning a destination wedding is undoubtedly a daunting task, especially when it comes to coordinating transportation for guests and wedding essentials. Fortunately, ExpressWay Logistics made this aspect of our wedding planning effortless. From the beginning, they were attentive to our needs and provided valuable insights to streamline the process.                                                                                                                                                                                                                                 | Positive           | Positive       |\n",
            "+-------------------------------------------------------------------------------------------------------------------------------------------------------------------------------------------------------------------------------------------------------------------------------------------------------------------------------------------------------------------------------------------------------------------------------------------------------------------------------------------------------------------------------------------------------------------------------------------------+--------------------+----------------+\n",
            "| ExpressWay Logistics consistently delivers on its promises, providing fast, efficient, and reliable courier services that exceeded my expectations.                                                                                                                                                                                                                                                                                                                                                                                                                                             | Positive           | Positive       |\n",
            "+-------------------------------------------------------------------------------------------------------------------------------------------------------------------------------------------------------------------------------------------------------------------------------------------------------------------------------------------------------------------------------------------------------------------------------------------------------------------------------------------------------------------------------------------------------------------------------------------------+--------------------+----------------+\n",
            "| I needed to ship perishable items internationally, and ExpressWay Logistics handled the process flawlessly. They ensured that the items were properly packaged and transported in temperature-controlled conditions.                                                                                                                                                                                                                                                                                                                                                                            | Positive           | Positive       |\n",
            "+-------------------------------------------------------------------------------------------------------------------------------------------------------------------------------------------------------------------------------------------------------------------------------------------------------------------------------------------------------------------------------------------------------------------------------------------------------------------------------------------------------------------------------------------------------------------------------------------------+--------------------+----------------+\n",
            "| I appreciated the flexibility offered by ExpressWay Logistics in terms of delivery options. Their range of delivery speeds and service levels allowed me to choose the option that best suited my needs and budget.However, I was slightly disappointed by the lack of transparency regarding few additional fees and surcharges. I selected a specific delivery option and paid minor charges at checkout, which undermined the initial affordability of the service..                                                                                                                         | Negative           | Negative       |\n",
            "+-------------------------------------------------------------------------------------------------------------------------------------------------------------------------------------------------------------------------------------------------------------------------------------------------------------------------------------------------------------------------------------------------------------------------------------------------------------------------------------------------------------------------------------------------------------------------------------------------+--------------------+----------------+\n",
            "| While ExpressWay Logistics' pricing is competitive, their lack of accountability for delays and damages is disappointing. It's frustrating to pay for a service that fails to deliver on its promises consistently.                                                                                                                                                                                                                                                                                                                                                                             | Negative           | Negative       |\n",
            "+-------------------------------------------------------------------------------------------------------------------------------------------------------------------------------------------------------------------------------------------------------------------------------------------------------------------------------------------------------------------------------------------------------------------------------------------------------------------------------------------------------------------------------------------------------------------------------------------------+--------------------+----------------+\n",
            "| ExpressWay Logistics' pricing may seem attractive at first glance, but beware of some internal hidden fees that may sometimes add up. Coupled with their reliable delivery times, it's simply not worth the hassle.But still I appreciate that my parcel got delivered safely a day after the promised window.                                                                                                                                                                                                                                                                                  | Negative           | Positive       |\n",
            "+-------------------------------------------------------------------------------------------------------------------------------------------------------------------------------------------------------------------------------------------------------------------------------------------------------------------------------------------------------------------------------------------------------------------------------------------------------------------------------------------------------------------------------------------------------------------------------------------------+--------------------+----------------+\n",
            "| ExpressWay Logistics has been my go-to courier service for years, primarily due to their extensive network coverage and competitive pricing. However, my recent experience has left me questioning their reliability. While their user-friendly website and efficient booking process remain commendable, the repeated delays in delivery and lack of proactive communication have been disappointing.Despite these setbacks, their customer service team has always been courteous and responsive, attempting to address my concerns promptly.                                                 | Negative           | Negative       |\n",
            "+-------------------------------------------------------------------------------------------------------------------------------------------------------------------------------------------------------------------------------------------------------------------------------------------------------------------------------------------------------------------------------------------------------------------------------------------------------------------------------------------------------------------------------------------------------------------------------------------------+--------------------+----------------+\n",
            "| ExpressWay Logistics' incompetence led to the loss of my parcel, and their lack of accountability only added to the frustration. Despite filing a claim and providing evidence of the missing items, I received no assistance or compensation for the lost package. Their negligence and disregard for customer satisfaction are unacceptable, and I will be exploring legal options to recoup the value of the lost items.                                                                                                                                                                     | Negative           | Negative       |\n",
            "+-------------------------------------------------------------------------------------------------------------------------------------------------------------------------------------------------------------------------------------------------------------------------------------------------------------------------------------------------------------------------------------------------------------------------------------------------------------------------------------------------------------------------------------------------------------------------------------------------+--------------------+----------------+\n",
            "| I was deeply disappointed by the behavior of the delivery executive from Expressway Logistics. They exhibited a complete disregard for customer satisfaction, arriving late and mishandling the package upon delivery. Despite raising my concerns with Expressway Logistics, there was no acknowledgment or resolution provided.                                                                                                                                                                                                                                                               | Negative           | Negative       |\n",
            "+-------------------------------------------------------------------------------------------------------------------------------------------------------------------------------------------------------------------------------------------------------------------------------------------------------------------------------------------------------------------------------------------------------------------------------------------------------------------------------------------------------------------------------------------------------------------------------------------------+--------------------+----------------+\n",
            "| As a frequent traveler, I often use ExpressWay Logistics to ship luggage and personal belongings ahead of time. Their door-to-door service and reliable tracking make traveling a breeze.                                                                                                                                                                                                                                                                                                                                                                                                       | Positive           | Positive       |\n",
            "+-------------------------------------------------------------------------------------------------------------------------------------------------------------------------------------------------------------------------------------------------------------------------------------------------------------------------------------------------------------------------------------------------------------------------------------------------------------------------------------------------------------------------------------------------------------------------------------------------+--------------------+----------------+\n",
            "| ExpressWay Logistics caught my attention with its promise of seamless shipping solutions and a comprehensive network. However, my recent experiences have revealed some significant shortcomings. Their online platform is disgusting and their tracking system is inaccurate.I've encountered repeated issues with inaccurate weight calculations that have led to unexpected charges. Moreover, the limited options for customizing shipment preferences have made it challenging to meet my requirements.I cannot rely upon it for my future requirements.It failed to meet my requirements. | Negative           | Negative       |\n",
            "+-------------------------------------------------------------------------------------------------------------------------------------------------------------------------------------------------------------------------------------------------------------------------------------------------------------------------------------------------------------------------------------------------------------------------------------------------------------------------------------------------------------------------------------------------------------------------------------------------+--------------------+----------------+\n",
            "| The packaging provided by ExpressWay Logistics is always secure and well-protected, and ensured that my items arrive in perfect condition.                                                                                                                                                                                                                                                                                                                                                                                                                                                      | Positive           | Positive       |\n",
            "+-------------------------------------------------------------------------------------------------------------------------------------------------------------------------------------------------------------------------------------------------------------------------------------------------------------------------------------------------------------------------------------------------------------------------------------------------------------------------------------------------------------------------------------------------------------------------------------------------+--------------------+----------------+\n",
            "| My recent experience with ExpressWay Logistics left me thoroughly impressed. I had a highly time-sensitive shipment that required delicate handling and precise coordination. Despite the challenges, ExpressWay rose to the occasion, demonstrating an unparalleled level of professionalism and efficiency. Their team meticulously planned every aspect of the shipment, from packaging to transportation, ensuring that no detail was overlooked.                                                                                                                                           | Positive           | Positive       |\n",
            "+-------------------------------------------------------------------------------------------------------------------------------------------------------------------------------------------------------------------------------------------------------------------------------------------------------------------------------------------------------------------------------------------------------------------------------------------------------------------------------------------------------------------------------------------------------------------------------------------------+--------------------+----------------+\n",
            "| I was initially impressed by ExpressWay Logistics' promise of reliability and affordability, but my recent encounters have been less than satisfactory. Their website is so irritating and their drivers are too harsh, the repeated delays in delivery have been frustrating. Additionally, the discovery of hidden fees within their pricing structure has left me feeling misled. In addition to these challenges, their customer service team has been inattentive and disrespectful, which has degraded the overall experience.Not at all recommend!                                       | Negative           | Negative       |\n",
            "+-------------------------------------------------------------------------------------------------------------------------------------------------------------------------------------------------------------------------------------------------------------------------------------------------------------------------------------------------------------------------------------------------------------------------------------------------------------------------------------------------------------------------------------------------------------------------------------------------+--------------------+----------------+\n",
            "| Thumbs up to ExpressWay for their prompt responses and reliable shipping solutions. Impressed!                                                                                                                                                                                                                                                                                                                                                                                                                                                                                                  | Positive           | Positive       |\n",
            "+-------------------------------------------------------------------------------------------------------------------------------------------------------------------------------------------------------------------------------------------------------------------------------------------------------------------------------------------------------------------------------------------------------------------------------------------------------------------------------------------------------------------------------------------------------------------------------------------------+--------------------+----------------+\n",
            "| I had a terrible experience with ExpressWay Logistics. Not only was my pickup delayed, but the packaging was not done intactly, and the customer support team was unresponsive when I tried to raise the issue.                                                                                                                                                                                                                                                                                                                                                                                 | Negative           | Negative       |\n",
            "+-------------------------------------------------------------------------------------------------------------------------------------------------------------------------------------------------------------------------------------------------------------------------------------------------------------------------------------------------------------------------------------------------------------------------------------------------------------------------------------------------------------------------------------------------------------------------------------------------+--------------------+----------------+\n"
          ]
        },
        {
          "output_type": "execute_result",
          "data": {
            "text/plain": [
              "0.9047619047619048"
            ]
          },
          "metadata": {},
          "execution_count": 38
        }
      ],
      "source": [
        "# evaluate few shot prompt\n",
        "evaluate_prompt(few_shot_prompt, gold_examples, user_message_template)"
      ]
    },
    {
      "cell_type": "markdown",
      "metadata": {
        "id": "IUYn7f-LVzs-"
      },
      "source": [
        "However, this is just *one* choice of examples. We will need to run these evaluations with multiple choices of examples to get a sense of variability in F1 score for the few-shot prompt. As an example, let us run evaluations for the few-shot prompt 5 times."
      ]
    },
    {
      "cell_type": "code",
      "execution_count": 39,
      "metadata": {
        "id": "GTXUDXYy7dku"
      },
      "outputs": [],
      "source": [
        "# set the number of runs for evaluation\n",
        "num_eval_runs = 5"
      ]
    },
    {
      "cell_type": "code",
      "execution_count": 40,
      "metadata": {
        "id": "n6pQkocytqG_"
      },
      "outputs": [],
      "source": [
        "# set lists for collecting the metrics for zero shot and few shot prompts\n",
        "zero_shot_performance = []\n",
        "few_shot_performance = []"
      ]
    },
    {
      "cell_type": "code",
      "execution_count": 41,
      "metadata": {
        "colab": {
          "base_uri": "https://localhost:8080/"
        },
        "id": "BdUaodX3tseE",
        "outputId": "c0d117c8-780f-409c-c4e7-503f993cf92b"
      },
      "outputs": [
        {
          "output_type": "stream",
          "name": "stderr",
          "text": [
            "\r  0%|          | 0/5 [00:00<?, ?it/s]"
          ]
        },
        {
          "output_type": "stream",
          "name": "stdout",
          "text": [
            "+-------------------------------------------------------------------------------------------------------------------------------------------------------------------------------------------------------------------------------------------------------------------------------------------------------------------------------------------------------------------------------------------------------------------------------------------------------------------------------------------------------------------------------------------------------------------------------------------------+--------------------+----------------+\n",
            "| Review                                                                                                                                                                                                                                                                                                                                                                                                                                                                                                                                                                                          | Model Prediction   | Ground Truth   |\n",
            "+=================================================================================================================================================================================================================================================================================================================================================================================================================================================================================================================================================================================================+====================+================+\n",
            "| The delivery executive assigned by ExpressWay Logistics was courteous and professional during the delivery process. They tried their best to handle the package with care.Unfortunately, the package arrived with slight damage despite the delivery executive's efforts. The packaging seemed more than adequate to protect the contents during transit.                                                                                                                                                                                                                                       | Positive           | Positive       |\n",
            "+-------------------------------------------------------------------------------------------------------------------------------------------------------------------------------------------------------------------------------------------------------------------------------------------------------------------------------------------------------------------------------------------------------------------------------------------------------------------------------------------------------------------------------------------------------------------------------------------------+--------------------+----------------+\n",
            "| ExpressWay Logistics failed to meet my expectations. The delivery was delayed, and the customer support team was unresponsive and unhelpful when I tried to inquire about the status of my parcel.                                                                                                                                                                                                                                                                                                                                                                                              | Negative           | Negative       |\n",
            "+-------------------------------------------------------------------------------------------------------------------------------------------------------------------------------------------------------------------------------------------------------------------------------------------------------------------------------------------------------------------------------------------------------------------------------------------------------------------------------------------------------------------------------------------------------------------------------------------------+--------------------+----------------+\n",
            "| ExpressWay Logistics' incompetence resulted in a major inconvenience when my package was delivered to the wrong recipient. Despite providing accurate delivery information, the package ended up in the hands of someone else, and efforts to retrieve it were unsuccessful. When I contacted customer service for assistance, I was met with apathy and a lack of urgency. Their failure to rectify the situation in a timely manner is unacceptable, and I will be avoiding their services at all costs.                                                                                      | Negative           | Negative       |\n",
            "+-------------------------------------------------------------------------------------------------------------------------------------------------------------------------------------------------------------------------------------------------------------------------------------------------------------------------------------------------------------------------------------------------------------------------------------------------------------------------------------------------------------------------------------------------------------------------------------------------+--------------------+----------------+\n",
            "| Kudos to ExpressWay Logistics for their outstanding service! They've been an essential partner for my business, handling all our shipping needs with professionalism and efficiency. If you're looking for a reliable logistic service provider, look no further than ExpressWay Logistics.                                                                                                                                                                                                                                                                                                     | Positive           | Positive       |\n",
            "+-------------------------------------------------------------------------------------------------------------------------------------------------------------------------------------------------------------------------------------------------------------------------------------------------------------------------------------------------------------------------------------------------------------------------------------------------------------------------------------------------------------------------------------------------------------------------------------------------+--------------------+----------------+\n",
            "| ExpressWay Logistics offers a convenient online platform for booking shipments, and their competitive rates initially drew me in. However, the frequent delays in delivery and lack of transparency regarding additional fees have soured my experience. While their customer service representatives are polite, they often seem powerless to resolve issues effectively.This lack of care and responsibilites from the concerned teams have led me unsatisfied and irritated.I cannot trust and rely on this again.Will definitely not contact them ever for my courier deliveries!           | Negative           | Negative       |\n",
            "+-------------------------------------------------------------------------------------------------------------------------------------------------------------------------------------------------------------------------------------------------------------------------------------------------------------------------------------------------------------------------------------------------------------------------------------------------------------------------------------------------------------------------------------------------------------------------------------------------+--------------------+----------------+\n",
            "| Planning a destination wedding is undoubtedly a daunting task, especially when it comes to coordinating transportation for guests and wedding essentials. Fortunately, ExpressWay Logistics made this aspect of our wedding planning effortless. From the beginning, they were attentive to our needs and provided valuable insights to streamline the process.                                                                                                                                                                                                                                 | Positive           | Positive       |\n",
            "+-------------------------------------------------------------------------------------------------------------------------------------------------------------------------------------------------------------------------------------------------------------------------------------------------------------------------------------------------------------------------------------------------------------------------------------------------------------------------------------------------------------------------------------------------------------------------------------------------+--------------------+----------------+\n",
            "| ExpressWay Logistics consistently delivers on its promises, providing fast, efficient, and reliable courier services that exceeded my expectations.                                                                                                                                                                                                                                                                                                                                                                                                                                             | Positive           | Positive       |\n",
            "+-------------------------------------------------------------------------------------------------------------------------------------------------------------------------------------------------------------------------------------------------------------------------------------------------------------------------------------------------------------------------------------------------------------------------------------------------------------------------------------------------------------------------------------------------------------------------------------------------+--------------------+----------------+\n",
            "| I needed to ship perishable items internationally, and ExpressWay Logistics handled the process flawlessly. They ensured that the items were properly packaged and transported in temperature-controlled conditions.                                                                                                                                                                                                                                                                                                                                                                            | Positive           | Positive       |\n",
            "+-------------------------------------------------------------------------------------------------------------------------------------------------------------------------------------------------------------------------------------------------------------------------------------------------------------------------------------------------------------------------------------------------------------------------------------------------------------------------------------------------------------------------------------------------------------------------------------------------+--------------------+----------------+\n",
            "| I appreciated the flexibility offered by ExpressWay Logistics in terms of delivery options. Their range of delivery speeds and service levels allowed me to choose the option that best suited my needs and budget.However, I was slightly disappointed by the lack of transparency regarding few additional fees and surcharges. I selected a specific delivery option and paid minor charges at checkout, which undermined the initial affordability of the service..                                                                                                                         | Positive           | Negative       |\n",
            "+-------------------------------------------------------------------------------------------------------------------------------------------------------------------------------------------------------------------------------------------------------------------------------------------------------------------------------------------------------------------------------------------------------------------------------------------------------------------------------------------------------------------------------------------------------------------------------------------------+--------------------+----------------+\n",
            "| While ExpressWay Logistics' pricing is competitive, their lack of accountability for delays and damages is disappointing. It's frustrating to pay for a service that fails to deliver on its promises consistently.                                                                                                                                                                                                                                                                                                                                                                             | Negative           | Negative       |\n",
            "+-------------------------------------------------------------------------------------------------------------------------------------------------------------------------------------------------------------------------------------------------------------------------------------------------------------------------------------------------------------------------------------------------------------------------------------------------------------------------------------------------------------------------------------------------------------------------------------------------+--------------------+----------------+\n",
            "| ExpressWay Logistics' pricing may seem attractive at first glance, but beware of some internal hidden fees that may sometimes add up. Coupled with their reliable delivery times, it's simply not worth the hassle.But still I appreciate that my parcel got delivered safely a day after the promised window.                                                                                                                                                                                                                                                                                  | Negative           | Positive       |\n",
            "+-------------------------------------------------------------------------------------------------------------------------------------------------------------------------------------------------------------------------------------------------------------------------------------------------------------------------------------------------------------------------------------------------------------------------------------------------------------------------------------------------------------------------------------------------------------------------------------------------+--------------------+----------------+\n",
            "| ExpressWay Logistics has been my go-to courier service for years, primarily due to their extensive network coverage and competitive pricing. However, my recent experience has left me questioning their reliability. While their user-friendly website and efficient booking process remain commendable, the repeated delays in delivery and lack of proactive communication have been disappointing.Despite these setbacks, their customer service team has always been courteous and responsive, attempting to address my concerns promptly.                                                 | Negative           | Negative       |\n",
            "+-------------------------------------------------------------------------------------------------------------------------------------------------------------------------------------------------------------------------------------------------------------------------------------------------------------------------------------------------------------------------------------------------------------------------------------------------------------------------------------------------------------------------------------------------------------------------------------------------+--------------------+----------------+\n",
            "| ExpressWay Logistics' incompetence led to the loss of my parcel, and their lack of accountability only added to the frustration. Despite filing a claim and providing evidence of the missing items, I received no assistance or compensation for the lost package. Their negligence and disregard for customer satisfaction are unacceptable, and I will be exploring legal options to recoup the value of the lost items.                                                                                                                                                                     | Negative           | Negative       |\n",
            "+-------------------------------------------------------------------------------------------------------------------------------------------------------------------------------------------------------------------------------------------------------------------------------------------------------------------------------------------------------------------------------------------------------------------------------------------------------------------------------------------------------------------------------------------------------------------------------------------------+--------------------+----------------+\n",
            "| I was deeply disappointed by the behavior of the delivery executive from Expressway Logistics. They exhibited a complete disregard for customer satisfaction, arriving late and mishandling the package upon delivery. Despite raising my concerns with Expressway Logistics, there was no acknowledgment or resolution provided.                                                                                                                                                                                                                                                               | Negative           | Negative       |\n",
            "+-------------------------------------------------------------------------------------------------------------------------------------------------------------------------------------------------------------------------------------------------------------------------------------------------------------------------------------------------------------------------------------------------------------------------------------------------------------------------------------------------------------------------------------------------------------------------------------------------+--------------------+----------------+\n",
            "| As a frequent traveler, I often use ExpressWay Logistics to ship luggage and personal belongings ahead of time. Their door-to-door service and reliable tracking make traveling a breeze.                                                                                                                                                                                                                                                                                                                                                                                                       | Positive           | Positive       |\n",
            "+-------------------------------------------------------------------------------------------------------------------------------------------------------------------------------------------------------------------------------------------------------------------------------------------------------------------------------------------------------------------------------------------------------------------------------------------------------------------------------------------------------------------------------------------------------------------------------------------------+--------------------+----------------+\n",
            "| ExpressWay Logistics caught my attention with its promise of seamless shipping solutions and a comprehensive network. However, my recent experiences have revealed some significant shortcomings. Their online platform is disgusting and their tracking system is inaccurate.I've encountered repeated issues with inaccurate weight calculations that have led to unexpected charges. Moreover, the limited options for customizing shipment preferences have made it challenging to meet my requirements.I cannot rely upon it for my future requirements.It failed to meet my requirements. | Negative           | Negative       |\n",
            "+-------------------------------------------------------------------------------------------------------------------------------------------------------------------------------------------------------------------------------------------------------------------------------------------------------------------------------------------------------------------------------------------------------------------------------------------------------------------------------------------------------------------------------------------------------------------------------------------------+--------------------+----------------+\n",
            "| The packaging provided by ExpressWay Logistics is always secure and well-protected, and ensured that my items arrive in perfect condition.                                                                                                                                                                                                                                                                                                                                                                                                                                                      | Positive           | Positive       |\n",
            "+-------------------------------------------------------------------------------------------------------------------------------------------------------------------------------------------------------------------------------------------------------------------------------------------------------------------------------------------------------------------------------------------------------------------------------------------------------------------------------------------------------------------------------------------------------------------------------------------------+--------------------+----------------+\n",
            "| My recent experience with ExpressWay Logistics left me thoroughly impressed. I had a highly time-sensitive shipment that required delicate handling and precise coordination. Despite the challenges, ExpressWay rose to the occasion, demonstrating an unparalleled level of professionalism and efficiency. Their team meticulously planned every aspect of the shipment, from packaging to transportation, ensuring that no detail was overlooked.                                                                                                                                           | Positive           | Positive       |\n",
            "+-------------------------------------------------------------------------------------------------------------------------------------------------------------------------------------------------------------------------------------------------------------------------------------------------------------------------------------------------------------------------------------------------------------------------------------------------------------------------------------------------------------------------------------------------------------------------------------------------+--------------------+----------------+\n",
            "| I was initially impressed by ExpressWay Logistics' promise of reliability and affordability, but my recent encounters have been less than satisfactory. Their website is so irritating and their drivers are too harsh, the repeated delays in delivery have been frustrating. Additionally, the discovery of hidden fees within their pricing structure has left me feeling misled. In addition to these challenges, their customer service team has been inattentive and disrespectful, which has degraded the overall experience.Not at all recommend!                                       | Negative           | Negative       |\n",
            "+-------------------------------------------------------------------------------------------------------------------------------------------------------------------------------------------------------------------------------------------------------------------------------------------------------------------------------------------------------------------------------------------------------------------------------------------------------------------------------------------------------------------------------------------------------------------------------------------------+--------------------+----------------+\n",
            "| Thumbs up to ExpressWay for their prompt responses and reliable shipping solutions. Impressed!                                                                                                                                                                                                                                                                                                                                                                                                                                                                                                  | Positive           | Positive       |\n",
            "+-------------------------------------------------------------------------------------------------------------------------------------------------------------------------------------------------------------------------------------------------------------------------------------------------------------------------------------------------------------------------------------------------------------------------------------------------------------------------------------------------------------------------------------------------------------------------------------------------+--------------------+----------------+\n",
            "| I had a terrible experience with ExpressWay Logistics. Not only was my pickup delayed, but the packaging was not done intactly, and the customer support team was unresponsive when I tried to raise the issue.                                                                                                                                                                                                                                                                                                                                                                                 | Negative           | Negative       |\n",
            "+-------------------------------------------------------------------------------------------------------------------------------------------------------------------------------------------------------------------------------------------------------------------------------------------------------------------------------------------------------------------------------------------------------------------------------------------------------------------------------------------------------------------------------------------------------------------------------------------------+--------------------+----------------+\n"
          ]
        },
        {
          "output_type": "stream",
          "name": "stderr",
          "text": [
            "\r 20%|██        | 1/5 [00:08<00:34,  8.72s/it]"
          ]
        },
        {
          "output_type": "stream",
          "name": "stdout",
          "text": [
            "+-------------------------------------------------------------------------------------------------------------------------------------------------------------------------------------------------------------------------------------------------------------------------------------------------------------------------------------------------------------------------------------------------------------------------------------------------------------------------------------------------------------------------------------------------------------------------------------------------+--------------------+----------------+\n",
            "| Review                                                                                                                                                                                                                                                                                                                                                                                                                                                                                                                                                                                          | Model Prediction   | Ground Truth   |\n",
            "+=================================================================================================================================================================================================================================================================================================================================================================================================================================================================================================================================================================================================+====================+================+\n",
            "| The delivery executive assigned by ExpressWay Logistics was courteous and professional during the delivery process. They tried their best to handle the package with care.Unfortunately, the package arrived with slight damage despite the delivery executive's efforts. The packaging seemed more than adequate to protect the contents during transit.                                                                                                                                                                                                                                       | Positive           | Positive       |\n",
            "+-------------------------------------------------------------------------------------------------------------------------------------------------------------------------------------------------------------------------------------------------------------------------------------------------------------------------------------------------------------------------------------------------------------------------------------------------------------------------------------------------------------------------------------------------------------------------------------------------+--------------------+----------------+\n",
            "| ExpressWay Logistics failed to meet my expectations. The delivery was delayed, and the customer support team was unresponsive and unhelpful when I tried to inquire about the status of my parcel.                                                                                                                                                                                                                                                                                                                                                                                              | Negative           | Negative       |\n",
            "+-------------------------------------------------------------------------------------------------------------------------------------------------------------------------------------------------------------------------------------------------------------------------------------------------------------------------------------------------------------------------------------------------------------------------------------------------------------------------------------------------------------------------------------------------------------------------------------------------+--------------------+----------------+\n",
            "| ExpressWay Logistics' incompetence resulted in a major inconvenience when my package was delivered to the wrong recipient. Despite providing accurate delivery information, the package ended up in the hands of someone else, and efforts to retrieve it were unsuccessful. When I contacted customer service for assistance, I was met with apathy and a lack of urgency. Their failure to rectify the situation in a timely manner is unacceptable, and I will be avoiding their services at all costs.                                                                                      | Negative           | Negative       |\n",
            "+-------------------------------------------------------------------------------------------------------------------------------------------------------------------------------------------------------------------------------------------------------------------------------------------------------------------------------------------------------------------------------------------------------------------------------------------------------------------------------------------------------------------------------------------------------------------------------------------------+--------------------+----------------+\n",
            "| Kudos to ExpressWay Logistics for their outstanding service! They've been an essential partner for my business, handling all our shipping needs with professionalism and efficiency. If you're looking for a reliable logistic service provider, look no further than ExpressWay Logistics.                                                                                                                                                                                                                                                                                                     | Positive           | Positive       |\n",
            "+-------------------------------------------------------------------------------------------------------------------------------------------------------------------------------------------------------------------------------------------------------------------------------------------------------------------------------------------------------------------------------------------------------------------------------------------------------------------------------------------------------------------------------------------------------------------------------------------------+--------------------+----------------+\n",
            "| ExpressWay Logistics offers a convenient online platform for booking shipments, and their competitive rates initially drew me in. However, the frequent delays in delivery and lack of transparency regarding additional fees have soured my experience. While their customer service representatives are polite, they often seem powerless to resolve issues effectively.This lack of care and responsibilites from the concerned teams have led me unsatisfied and irritated.I cannot trust and rely on this again.Will definitely not contact them ever for my courier deliveries!           | Negative           | Negative       |\n",
            "+-------------------------------------------------------------------------------------------------------------------------------------------------------------------------------------------------------------------------------------------------------------------------------------------------------------------------------------------------------------------------------------------------------------------------------------------------------------------------------------------------------------------------------------------------------------------------------------------------+--------------------+----------------+\n",
            "| Planning a destination wedding is undoubtedly a daunting task, especially when it comes to coordinating transportation for guests and wedding essentials. Fortunately, ExpressWay Logistics made this aspect of our wedding planning effortless. From the beginning, they were attentive to our needs and provided valuable insights to streamline the process.                                                                                                                                                                                                                                 | Positive           | Positive       |\n",
            "+-------------------------------------------------------------------------------------------------------------------------------------------------------------------------------------------------------------------------------------------------------------------------------------------------------------------------------------------------------------------------------------------------------------------------------------------------------------------------------------------------------------------------------------------------------------------------------------------------+--------------------+----------------+\n",
            "| ExpressWay Logistics consistently delivers on its promises, providing fast, efficient, and reliable courier services that exceeded my expectations.                                                                                                                                                                                                                                                                                                                                                                                                                                             | Positive           | Positive       |\n",
            "+-------------------------------------------------------------------------------------------------------------------------------------------------------------------------------------------------------------------------------------------------------------------------------------------------------------------------------------------------------------------------------------------------------------------------------------------------------------------------------------------------------------------------------------------------------------------------------------------------+--------------------+----------------+\n",
            "| I needed to ship perishable items internationally, and ExpressWay Logistics handled the process flawlessly. They ensured that the items were properly packaged and transported in temperature-controlled conditions.                                                                                                                                                                                                                                                                                                                                                                            | Positive           | Positive       |\n",
            "+-------------------------------------------------------------------------------------------------------------------------------------------------------------------------------------------------------------------------------------------------------------------------------------------------------------------------------------------------------------------------------------------------------------------------------------------------------------------------------------------------------------------------------------------------------------------------------------------------+--------------------+----------------+\n",
            "| I appreciated the flexibility offered by ExpressWay Logistics in terms of delivery options. Their range of delivery speeds and service levels allowed me to choose the option that best suited my needs and budget.However, I was slightly disappointed by the lack of transparency regarding few additional fees and surcharges. I selected a specific delivery option and paid minor charges at checkout, which undermined the initial affordability of the service..                                                                                                                         | Negative           | Negative       |\n",
            "+-------------------------------------------------------------------------------------------------------------------------------------------------------------------------------------------------------------------------------------------------------------------------------------------------------------------------------------------------------------------------------------------------------------------------------------------------------------------------------------------------------------------------------------------------------------------------------------------------+--------------------+----------------+\n",
            "| While ExpressWay Logistics' pricing is competitive, their lack of accountability for delays and damages is disappointing. It's frustrating to pay for a service that fails to deliver on its promises consistently.                                                                                                                                                                                                                                                                                                                                                                             | Negative           | Negative       |\n",
            "+-------------------------------------------------------------------------------------------------------------------------------------------------------------------------------------------------------------------------------------------------------------------------------------------------------------------------------------------------------------------------------------------------------------------------------------------------------------------------------------------------------------------------------------------------------------------------------------------------+--------------------+----------------+\n",
            "| ExpressWay Logistics' pricing may seem attractive at first glance, but beware of some internal hidden fees that may sometimes add up. Coupled with their reliable delivery times, it's simply not worth the hassle.But still I appreciate that my parcel got delivered safely a day after the promised window.                                                                                                                                                                                                                                                                                  | Negative           | Positive       |\n",
            "+-------------------------------------------------------------------------------------------------------------------------------------------------------------------------------------------------------------------------------------------------------------------------------------------------------------------------------------------------------------------------------------------------------------------------------------------------------------------------------------------------------------------------------------------------------------------------------------------------+--------------------+----------------+\n",
            "| ExpressWay Logistics has been my go-to courier service for years, primarily due to their extensive network coverage and competitive pricing. However, my recent experience has left me questioning their reliability. While their user-friendly website and efficient booking process remain commendable, the repeated delays in delivery and lack of proactive communication have been disappointing.Despite these setbacks, their customer service team has always been courteous and responsive, attempting to address my concerns promptly.                                                 | Negative           | Negative       |\n",
            "+-------------------------------------------------------------------------------------------------------------------------------------------------------------------------------------------------------------------------------------------------------------------------------------------------------------------------------------------------------------------------------------------------------------------------------------------------------------------------------------------------------------------------------------------------------------------------------------------------+--------------------+----------------+\n",
            "| ExpressWay Logistics' incompetence led to the loss of my parcel, and their lack of accountability only added to the frustration. Despite filing a claim and providing evidence of the missing items, I received no assistance or compensation for the lost package. Their negligence and disregard for customer satisfaction are unacceptable, and I will be exploring legal options to recoup the value of the lost items.                                                                                                                                                                     | Negative           | Negative       |\n",
            "+-------------------------------------------------------------------------------------------------------------------------------------------------------------------------------------------------------------------------------------------------------------------------------------------------------------------------------------------------------------------------------------------------------------------------------------------------------------------------------------------------------------------------------------------------------------------------------------------------+--------------------+----------------+\n",
            "| I was deeply disappointed by the behavior of the delivery executive from Expressway Logistics. They exhibited a complete disregard for customer satisfaction, arriving late and mishandling the package upon delivery. Despite raising my concerns with Expressway Logistics, there was no acknowledgment or resolution provided.                                                                                                                                                                                                                                                               | Negative           | Negative       |\n",
            "+-------------------------------------------------------------------------------------------------------------------------------------------------------------------------------------------------------------------------------------------------------------------------------------------------------------------------------------------------------------------------------------------------------------------------------------------------------------------------------------------------------------------------------------------------------------------------------------------------+--------------------+----------------+\n",
            "| As a frequent traveler, I often use ExpressWay Logistics to ship luggage and personal belongings ahead of time. Their door-to-door service and reliable tracking make traveling a breeze.                                                                                                                                                                                                                                                                                                                                                                                                       | Positive           | Positive       |\n",
            "+-------------------------------------------------------------------------------------------------------------------------------------------------------------------------------------------------------------------------------------------------------------------------------------------------------------------------------------------------------------------------------------------------------------------------------------------------------------------------------------------------------------------------------------------------------------------------------------------------+--------------------+----------------+\n",
            "| ExpressWay Logistics caught my attention with its promise of seamless shipping solutions and a comprehensive network. However, my recent experiences have revealed some significant shortcomings. Their online platform is disgusting and their tracking system is inaccurate.I've encountered repeated issues with inaccurate weight calculations that have led to unexpected charges. Moreover, the limited options for customizing shipment preferences have made it challenging to meet my requirements.I cannot rely upon it for my future requirements.It failed to meet my requirements. | Negative           | Negative       |\n",
            "+-------------------------------------------------------------------------------------------------------------------------------------------------------------------------------------------------------------------------------------------------------------------------------------------------------------------------------------------------------------------------------------------------------------------------------------------------------------------------------------------------------------------------------------------------------------------------------------------------+--------------------+----------------+\n",
            "| The packaging provided by ExpressWay Logistics is always secure and well-protected, and ensured that my items arrive in perfect condition.                                                                                                                                                                                                                                                                                                                                                                                                                                                      | Positive           | Positive       |\n",
            "+-------------------------------------------------------------------------------------------------------------------------------------------------------------------------------------------------------------------------------------------------------------------------------------------------------------------------------------------------------------------------------------------------------------------------------------------------------------------------------------------------------------------------------------------------------------------------------------------------+--------------------+----------------+\n",
            "| My recent experience with ExpressWay Logistics left me thoroughly impressed. I had a highly time-sensitive shipment that required delicate handling and precise coordination. Despite the challenges, ExpressWay rose to the occasion, demonstrating an unparalleled level of professionalism and efficiency. Their team meticulously planned every aspect of the shipment, from packaging to transportation, ensuring that no detail was overlooked.                                                                                                                                           | Positive           | Positive       |\n",
            "+-------------------------------------------------------------------------------------------------------------------------------------------------------------------------------------------------------------------------------------------------------------------------------------------------------------------------------------------------------------------------------------------------------------------------------------------------------------------------------------------------------------------------------------------------------------------------------------------------+--------------------+----------------+\n",
            "| I was initially impressed by ExpressWay Logistics' promise of reliability and affordability, but my recent encounters have been less than satisfactory. Their website is so irritating and their drivers are too harsh, the repeated delays in delivery have been frustrating. Additionally, the discovery of hidden fees within their pricing structure has left me feeling misled. In addition to these challenges, their customer service team has been inattentive and disrespectful, which has degraded the overall experience.Not at all recommend!                                       | Negative           | Negative       |\n",
            "+-------------------------------------------------------------------------------------------------------------------------------------------------------------------------------------------------------------------------------------------------------------------------------------------------------------------------------------------------------------------------------------------------------------------------------------------------------------------------------------------------------------------------------------------------------------------------------------------------+--------------------+----------------+\n",
            "| Thumbs up to ExpressWay for their prompt responses and reliable shipping solutions. Impressed!                                                                                                                                                                                                                                                                                                                                                                                                                                                                                                  | Positive           | Positive       |\n",
            "+-------------------------------------------------------------------------------------------------------------------------------------------------------------------------------------------------------------------------------------------------------------------------------------------------------------------------------------------------------------------------------------------------------------------------------------------------------------------------------------------------------------------------------------------------------------------------------------------------+--------------------+----------------+\n",
            "| I had a terrible experience with ExpressWay Logistics. Not only was my pickup delayed, but the packaging was not done intactly, and the customer support team was unresponsive when I tried to raise the issue.                                                                                                                                                                                                                                                                                                                                                                                 | Negative           | Negative       |\n",
            "+-------------------------------------------------------------------------------------------------------------------------------------------------------------------------------------------------------------------------------------------------------------------------------------------------------------------------------------------------------------------------------------------------------------------------------------------------------------------------------------------------------------------------------------------------------------------------------------------------+--------------------+----------------+\n",
            "+-------------------------------------------------------------------------------------------------------------------------------------------------------------------------------------------------------------------------------------------------------------------------------------------------------------------------------------------------------------------------------------------------------------------------------------------------------------------------------------------------------------------------------------------------------------------------------------------------+--------------------+----------------+\n",
            "| Review                                                                                                                                                                                                                                                                                                                                                                                                                                                                                                                                                                                          | Model Prediction   | Ground Truth   |\n",
            "+=================================================================================================================================================================================================================================================================================================================================================================================================================================================================================================================================================================================================+====================+================+\n",
            "| The delivery executive assigned by ExpressWay Logistics was courteous and professional during the delivery process. They tried their best to handle the package with care.Unfortunately, the package arrived with slight damage despite the delivery executive's efforts. The packaging seemed more than adequate to protect the contents during transit.                                                                                                                                                                                                                                       | Positive           | Positive       |\n",
            "+-------------------------------------------------------------------------------------------------------------------------------------------------------------------------------------------------------------------------------------------------------------------------------------------------------------------------------------------------------------------------------------------------------------------------------------------------------------------------------------------------------------------------------------------------------------------------------------------------+--------------------+----------------+\n",
            "| ExpressWay Logistics failed to meet my expectations. The delivery was delayed, and the customer support team was unresponsive and unhelpful when I tried to inquire about the status of my parcel.                                                                                                                                                                                                                                                                                                                                                                                              | Negative           | Negative       |\n",
            "+-------------------------------------------------------------------------------------------------------------------------------------------------------------------------------------------------------------------------------------------------------------------------------------------------------------------------------------------------------------------------------------------------------------------------------------------------------------------------------------------------------------------------------------------------------------------------------------------------+--------------------+----------------+\n",
            "| ExpressWay Logistics' incompetence resulted in a major inconvenience when my package was delivered to the wrong recipient. Despite providing accurate delivery information, the package ended up in the hands of someone else, and efforts to retrieve it were unsuccessful. When I contacted customer service for assistance, I was met with apathy and a lack of urgency. Their failure to rectify the situation in a timely manner is unacceptable, and I will be avoiding their services at all costs.                                                                                      | Negative           | Negative       |\n",
            "+-------------------------------------------------------------------------------------------------------------------------------------------------------------------------------------------------------------------------------------------------------------------------------------------------------------------------------------------------------------------------------------------------------------------------------------------------------------------------------------------------------------------------------------------------------------------------------------------------+--------------------+----------------+\n",
            "| Kudos to ExpressWay Logistics for their outstanding service! They've been an essential partner for my business, handling all our shipping needs with professionalism and efficiency. If you're looking for a reliable logistic service provider, look no further than ExpressWay Logistics.                                                                                                                                                                                                                                                                                                     | Positive           | Positive       |\n",
            "+-------------------------------------------------------------------------------------------------------------------------------------------------------------------------------------------------------------------------------------------------------------------------------------------------------------------------------------------------------------------------------------------------------------------------------------------------------------------------------------------------------------------------------------------------------------------------------------------------+--------------------+----------------+\n",
            "| ExpressWay Logistics offers a convenient online platform for booking shipments, and their competitive rates initially drew me in. However, the frequent delays in delivery and lack of transparency regarding additional fees have soured my experience. While their customer service representatives are polite, they often seem powerless to resolve issues effectively.This lack of care and responsibilites from the concerned teams have led me unsatisfied and irritated.I cannot trust and rely on this again.Will definitely not contact them ever for my courier deliveries!           | Negative           | Negative       |\n",
            "+-------------------------------------------------------------------------------------------------------------------------------------------------------------------------------------------------------------------------------------------------------------------------------------------------------------------------------------------------------------------------------------------------------------------------------------------------------------------------------------------------------------------------------------------------------------------------------------------------+--------------------+----------------+\n",
            "| Planning a destination wedding is undoubtedly a daunting task, especially when it comes to coordinating transportation for guests and wedding essentials. Fortunately, ExpressWay Logistics made this aspect of our wedding planning effortless. From the beginning, they were attentive to our needs and provided valuable insights to streamline the process.                                                                                                                                                                                                                                 | Positive           | Positive       |\n",
            "+-------------------------------------------------------------------------------------------------------------------------------------------------------------------------------------------------------------------------------------------------------------------------------------------------------------------------------------------------------------------------------------------------------------------------------------------------------------------------------------------------------------------------------------------------------------------------------------------------+--------------------+----------------+\n",
            "| ExpressWay Logistics consistently delivers on its promises, providing fast, efficient, and reliable courier services that exceeded my expectations.                                                                                                                                                                                                                                                                                                                                                                                                                                             | Positive           | Positive       |\n",
            "+-------------------------------------------------------------------------------------------------------------------------------------------------------------------------------------------------------------------------------------------------------------------------------------------------------------------------------------------------------------------------------------------------------------------------------------------------------------------------------------------------------------------------------------------------------------------------------------------------+--------------------+----------------+\n",
            "| I needed to ship perishable items internationally, and ExpressWay Logistics handled the process flawlessly. They ensured that the items were properly packaged and transported in temperature-controlled conditions.                                                                                                                                                                                                                                                                                                                                                                            | Positive           | Positive       |\n",
            "+-------------------------------------------------------------------------------------------------------------------------------------------------------------------------------------------------------------------------------------------------------------------------------------------------------------------------------------------------------------------------------------------------------------------------------------------------------------------------------------------------------------------------------------------------------------------------------------------------+--------------------+----------------+\n",
            "| I appreciated the flexibility offered by ExpressWay Logistics in terms of delivery options. Their range of delivery speeds and service levels allowed me to choose the option that best suited my needs and budget.However, I was slightly disappointed by the lack of transparency regarding few additional fees and surcharges. I selected a specific delivery option and paid minor charges at checkout, which undermined the initial affordability of the service..                                                                                                                         | Positive           | Negative       |\n",
            "+-------------------------------------------------------------------------------------------------------------------------------------------------------------------------------------------------------------------------------------------------------------------------------------------------------------------------------------------------------------------------------------------------------------------------------------------------------------------------------------------------------------------------------------------------------------------------------------------------+--------------------+----------------+\n",
            "| While ExpressWay Logistics' pricing is competitive, their lack of accountability for delays and damages is disappointing. It's frustrating to pay for a service that fails to deliver on its promises consistently.                                                                                                                                                                                                                                                                                                                                                                             | Negative           | Negative       |\n",
            "+-------------------------------------------------------------------------------------------------------------------------------------------------------------------------------------------------------------------------------------------------------------------------------------------------------------------------------------------------------------------------------------------------------------------------------------------------------------------------------------------------------------------------------------------------------------------------------------------------+--------------------+----------------+\n",
            "| ExpressWay Logistics' pricing may seem attractive at first glance, but beware of some internal hidden fees that may sometimes add up. Coupled with their reliable delivery times, it's simply not worth the hassle.But still I appreciate that my parcel got delivered safely a day after the promised window.                                                                                                                                                                                                                                                                                  | Negative           | Positive       |\n",
            "+-------------------------------------------------------------------------------------------------------------------------------------------------------------------------------------------------------------------------------------------------------------------------------------------------------------------------------------------------------------------------------------------------------------------------------------------------------------------------------------------------------------------------------------------------------------------------------------------------+--------------------+----------------+\n",
            "| ExpressWay Logistics has been my go-to courier service for years, primarily due to their extensive network coverage and competitive pricing. However, my recent experience has left me questioning their reliability. While their user-friendly website and efficient booking process remain commendable, the repeated delays in delivery and lack of proactive communication have been disappointing.Despite these setbacks, their customer service team has always been courteous and responsive, attempting to address my concerns promptly.                                                 | Negative           | Negative       |\n",
            "+-------------------------------------------------------------------------------------------------------------------------------------------------------------------------------------------------------------------------------------------------------------------------------------------------------------------------------------------------------------------------------------------------------------------------------------------------------------------------------------------------------------------------------------------------------------------------------------------------+--------------------+----------------+\n",
            "| ExpressWay Logistics' incompetence led to the loss of my parcel, and their lack of accountability only added to the frustration. Despite filing a claim and providing evidence of the missing items, I received no assistance or compensation for the lost package. Their negligence and disregard for customer satisfaction are unacceptable, and I will be exploring legal options to recoup the value of the lost items.                                                                                                                                                                     | Negative           | Negative       |\n",
            "+-------------------------------------------------------------------------------------------------------------------------------------------------------------------------------------------------------------------------------------------------------------------------------------------------------------------------------------------------------------------------------------------------------------------------------------------------------------------------------------------------------------------------------------------------------------------------------------------------+--------------------+----------------+\n",
            "| I was deeply disappointed by the behavior of the delivery executive from Expressway Logistics. They exhibited a complete disregard for customer satisfaction, arriving late and mishandling the package upon delivery. Despite raising my concerns with Expressway Logistics, there was no acknowledgment or resolution provided.                                                                                                                                                                                                                                                               | Negative           | Negative       |\n",
            "+-------------------------------------------------------------------------------------------------------------------------------------------------------------------------------------------------------------------------------------------------------------------------------------------------------------------------------------------------------------------------------------------------------------------------------------------------------------------------------------------------------------------------------------------------------------------------------------------------+--------------------+----------------+\n",
            "| As a frequent traveler, I often use ExpressWay Logistics to ship luggage and personal belongings ahead of time. Their door-to-door service and reliable tracking make traveling a breeze.                                                                                                                                                                                                                                                                                                                                                                                                       | Positive           | Positive       |\n",
            "+-------------------------------------------------------------------------------------------------------------------------------------------------------------------------------------------------------------------------------------------------------------------------------------------------------------------------------------------------------------------------------------------------------------------------------------------------------------------------------------------------------------------------------------------------------------------------------------------------+--------------------+----------------+\n",
            "| ExpressWay Logistics caught my attention with its promise of seamless shipping solutions and a comprehensive network. However, my recent experiences have revealed some significant shortcomings. Their online platform is disgusting and their tracking system is inaccurate.I've encountered repeated issues with inaccurate weight calculations that have led to unexpected charges. Moreover, the limited options for customizing shipment preferences have made it challenging to meet my requirements.I cannot rely upon it for my future requirements.It failed to meet my requirements. | Negative           | Negative       |\n",
            "+-------------------------------------------------------------------------------------------------------------------------------------------------------------------------------------------------------------------------------------------------------------------------------------------------------------------------------------------------------------------------------------------------------------------------------------------------------------------------------------------------------------------------------------------------------------------------------------------------+--------------------+----------------+\n",
            "| The packaging provided by ExpressWay Logistics is always secure and well-protected, and ensured that my items arrive in perfect condition.                                                                                                                                                                                                                                                                                                                                                                                                                                                      | Positive           | Positive       |\n",
            "+-------------------------------------------------------------------------------------------------------------------------------------------------------------------------------------------------------------------------------------------------------------------------------------------------------------------------------------------------------------------------------------------------------------------------------------------------------------------------------------------------------------------------------------------------------------------------------------------------+--------------------+----------------+\n",
            "| My recent experience with ExpressWay Logistics left me thoroughly impressed. I had a highly time-sensitive shipment that required delicate handling and precise coordination. Despite the challenges, ExpressWay rose to the occasion, demonstrating an unparalleled level of professionalism and efficiency. Their team meticulously planned every aspect of the shipment, from packaging to transportation, ensuring that no detail was overlooked.                                                                                                                                           | Positive           | Positive       |\n",
            "+-------------------------------------------------------------------------------------------------------------------------------------------------------------------------------------------------------------------------------------------------------------------------------------------------------------------------------------------------------------------------------------------------------------------------------------------------------------------------------------------------------------------------------------------------------------------------------------------------+--------------------+----------------+\n",
            "| I was initially impressed by ExpressWay Logistics' promise of reliability and affordability, but my recent encounters have been less than satisfactory. Their website is so irritating and their drivers are too harsh, the repeated delays in delivery have been frustrating. Additionally, the discovery of hidden fees within their pricing structure has left me feeling misled. In addition to these challenges, their customer service team has been inattentive and disrespectful, which has degraded the overall experience.Not at all recommend!                                       | Negative           | Negative       |\n",
            "+-------------------------------------------------------------------------------------------------------------------------------------------------------------------------------------------------------------------------------------------------------------------------------------------------------------------------------------------------------------------------------------------------------------------------------------------------------------------------------------------------------------------------------------------------------------------------------------------------+--------------------+----------------+\n",
            "| Thumbs up to ExpressWay for their prompt responses and reliable shipping solutions. Impressed!                                                                                                                                                                                                                                                                                                                                                                                                                                                                                                  | Positive           | Positive       |\n",
            "+-------------------------------------------------------------------------------------------------------------------------------------------------------------------------------------------------------------------------------------------------------------------------------------------------------------------------------------------------------------------------------------------------------------------------------------------------------------------------------------------------------------------------------------------------------------------------------------------------+--------------------+----------------+\n",
            "| I had a terrible experience with ExpressWay Logistics. Not only was my pickup delayed, but the packaging was not done intactly, and the customer support team was unresponsive when I tried to raise the issue.                                                                                                                                                                                                                                                                                                                                                                                 | Negative           | Negative       |\n",
            "+-------------------------------------------------------------------------------------------------------------------------------------------------------------------------------------------------------------------------------------------------------------------------------------------------------------------------------------------------------------------------------------------------------------------------------------------------------------------------------------------------------------------------------------------------------------------------------------------------+--------------------+----------------+\n"
          ]
        },
        {
          "output_type": "stream",
          "name": "stderr",
          "text": [
            "\r 40%|████      | 2/5 [00:17<00:26,  8.76s/it]"
          ]
        },
        {
          "output_type": "stream",
          "name": "stdout",
          "text": [
            "+-------------------------------------------------------------------------------------------------------------------------------------------------------------------------------------------------------------------------------------------------------------------------------------------------------------------------------------------------------------------------------------------------------------------------------------------------------------------------------------------------------------------------------------------------------------------------------------------------+--------------------+----------------+\n",
            "| Review                                                                                                                                                                                                                                                                                                                                                                                                                                                                                                                                                                                          | Model Prediction   | Ground Truth   |\n",
            "+=================================================================================================================================================================================================================================================================================================================================================================================================================================================================================================================================================================================================+====================+================+\n",
            "| The delivery executive assigned by ExpressWay Logistics was courteous and professional during the delivery process. They tried their best to handle the package with care.Unfortunately, the package arrived with slight damage despite the delivery executive's efforts. The packaging seemed more than adequate to protect the contents during transit.                                                                                                                                                                                                                                       | Positive           | Positive       |\n",
            "+-------------------------------------------------------------------------------------------------------------------------------------------------------------------------------------------------------------------------------------------------------------------------------------------------------------------------------------------------------------------------------------------------------------------------------------------------------------------------------------------------------------------------------------------------------------------------------------------------+--------------------+----------------+\n",
            "| ExpressWay Logistics failed to meet my expectations. The delivery was delayed, and the customer support team was unresponsive and unhelpful when I tried to inquire about the status of my parcel.                                                                                                                                                                                                                                                                                                                                                                                              | Negative           | Negative       |\n",
            "+-------------------------------------------------------------------------------------------------------------------------------------------------------------------------------------------------------------------------------------------------------------------------------------------------------------------------------------------------------------------------------------------------------------------------------------------------------------------------------------------------------------------------------------------------------------------------------------------------+--------------------+----------------+\n",
            "| ExpressWay Logistics' incompetence resulted in a major inconvenience when my package was delivered to the wrong recipient. Despite providing accurate delivery information, the package ended up in the hands of someone else, and efforts to retrieve it were unsuccessful. When I contacted customer service for assistance, I was met with apathy and a lack of urgency. Their failure to rectify the situation in a timely manner is unacceptable, and I will be avoiding their services at all costs.                                                                                      | Negative           | Negative       |\n",
            "+-------------------------------------------------------------------------------------------------------------------------------------------------------------------------------------------------------------------------------------------------------------------------------------------------------------------------------------------------------------------------------------------------------------------------------------------------------------------------------------------------------------------------------------------------------------------------------------------------+--------------------+----------------+\n",
            "| Kudos to ExpressWay Logistics for their outstanding service! They've been an essential partner for my business, handling all our shipping needs with professionalism and efficiency. If you're looking for a reliable logistic service provider, look no further than ExpressWay Logistics.                                                                                                                                                                                                                                                                                                     | Positive           | Positive       |\n",
            "+-------------------------------------------------------------------------------------------------------------------------------------------------------------------------------------------------------------------------------------------------------------------------------------------------------------------------------------------------------------------------------------------------------------------------------------------------------------------------------------------------------------------------------------------------------------------------------------------------+--------------------+----------------+\n",
            "| ExpressWay Logistics offers a convenient online platform for booking shipments, and their competitive rates initially drew me in. However, the frequent delays in delivery and lack of transparency regarding additional fees have soured my experience. While their customer service representatives are polite, they often seem powerless to resolve issues effectively.This lack of care and responsibilites from the concerned teams have led me unsatisfied and irritated.I cannot trust and rely on this again.Will definitely not contact them ever for my courier deliveries!           | Negative           | Negative       |\n",
            "+-------------------------------------------------------------------------------------------------------------------------------------------------------------------------------------------------------------------------------------------------------------------------------------------------------------------------------------------------------------------------------------------------------------------------------------------------------------------------------------------------------------------------------------------------------------------------------------------------+--------------------+----------------+\n",
            "| Planning a destination wedding is undoubtedly a daunting task, especially when it comes to coordinating transportation for guests and wedding essentials. Fortunately, ExpressWay Logistics made this aspect of our wedding planning effortless. From the beginning, they were attentive to our needs and provided valuable insights to streamline the process.                                                                                                                                                                                                                                 | Positive           | Positive       |\n",
            "+-------------------------------------------------------------------------------------------------------------------------------------------------------------------------------------------------------------------------------------------------------------------------------------------------------------------------------------------------------------------------------------------------------------------------------------------------------------------------------------------------------------------------------------------------------------------------------------------------+--------------------+----------------+\n",
            "| ExpressWay Logistics consistently delivers on its promises, providing fast, efficient, and reliable courier services that exceeded my expectations.                                                                                                                                                                                                                                                                                                                                                                                                                                             | Positive           | Positive       |\n",
            "+-------------------------------------------------------------------------------------------------------------------------------------------------------------------------------------------------------------------------------------------------------------------------------------------------------------------------------------------------------------------------------------------------------------------------------------------------------------------------------------------------------------------------------------------------------------------------------------------------+--------------------+----------------+\n",
            "| I needed to ship perishable items internationally, and ExpressWay Logistics handled the process flawlessly. They ensured that the items were properly packaged and transported in temperature-controlled conditions.                                                                                                                                                                                                                                                                                                                                                                            | Positive           | Positive       |\n",
            "+-------------------------------------------------------------------------------------------------------------------------------------------------------------------------------------------------------------------------------------------------------------------------------------------------------------------------------------------------------------------------------------------------------------------------------------------------------------------------------------------------------------------------------------------------------------------------------------------------+--------------------+----------------+\n",
            "| I appreciated the flexibility offered by ExpressWay Logistics in terms of delivery options. Their range of delivery speeds and service levels allowed me to choose the option that best suited my needs and budget.However, I was slightly disappointed by the lack of transparency regarding few additional fees and surcharges. I selected a specific delivery option and paid minor charges at checkout, which undermined the initial affordability of the service..                                                                                                                         | Negative           | Negative       |\n",
            "+-------------------------------------------------------------------------------------------------------------------------------------------------------------------------------------------------------------------------------------------------------------------------------------------------------------------------------------------------------------------------------------------------------------------------------------------------------------------------------------------------------------------------------------------------------------------------------------------------+--------------------+----------------+\n",
            "| While ExpressWay Logistics' pricing is competitive, their lack of accountability for delays and damages is disappointing. It's frustrating to pay for a service that fails to deliver on its promises consistently.                                                                                                                                                                                                                                                                                                                                                                             | Negative           | Negative       |\n",
            "+-------------------------------------------------------------------------------------------------------------------------------------------------------------------------------------------------------------------------------------------------------------------------------------------------------------------------------------------------------------------------------------------------------------------------------------------------------------------------------------------------------------------------------------------------------------------------------------------------+--------------------+----------------+\n",
            "| ExpressWay Logistics' pricing may seem attractive at first glance, but beware of some internal hidden fees that may sometimes add up. Coupled with their reliable delivery times, it's simply not worth the hassle.But still I appreciate that my parcel got delivered safely a day after the promised window.                                                                                                                                                                                                                                                                                  | Positive           | Positive       |\n",
            "+-------------------------------------------------------------------------------------------------------------------------------------------------------------------------------------------------------------------------------------------------------------------------------------------------------------------------------------------------------------------------------------------------------------------------------------------------------------------------------------------------------------------------------------------------------------------------------------------------+--------------------+----------------+\n",
            "| ExpressWay Logistics has been my go-to courier service for years, primarily due to their extensive network coverage and competitive pricing. However, my recent experience has left me questioning their reliability. While their user-friendly website and efficient booking process remain commendable, the repeated delays in delivery and lack of proactive communication have been disappointing.Despite these setbacks, their customer service team has always been courteous and responsive, attempting to address my concerns promptly.                                                 | Negative           | Negative       |\n",
            "+-------------------------------------------------------------------------------------------------------------------------------------------------------------------------------------------------------------------------------------------------------------------------------------------------------------------------------------------------------------------------------------------------------------------------------------------------------------------------------------------------------------------------------------------------------------------------------------------------+--------------------+----------------+\n",
            "| ExpressWay Logistics' incompetence led to the loss of my parcel, and their lack of accountability only added to the frustration. Despite filing a claim and providing evidence of the missing items, I received no assistance or compensation for the lost package. Their negligence and disregard for customer satisfaction are unacceptable, and I will be exploring legal options to recoup the value of the lost items.                                                                                                                                                                     | Negative           | Negative       |\n",
            "+-------------------------------------------------------------------------------------------------------------------------------------------------------------------------------------------------------------------------------------------------------------------------------------------------------------------------------------------------------------------------------------------------------------------------------------------------------------------------------------------------------------------------------------------------------------------------------------------------+--------------------+----------------+\n",
            "| I was deeply disappointed by the behavior of the delivery executive from Expressway Logistics. They exhibited a complete disregard for customer satisfaction, arriving late and mishandling the package upon delivery. Despite raising my concerns with Expressway Logistics, there was no acknowledgment or resolution provided.                                                                                                                                                                                                                                                               | Negative           | Negative       |\n",
            "+-------------------------------------------------------------------------------------------------------------------------------------------------------------------------------------------------------------------------------------------------------------------------------------------------------------------------------------------------------------------------------------------------------------------------------------------------------------------------------------------------------------------------------------------------------------------------------------------------+--------------------+----------------+\n",
            "| As a frequent traveler, I often use ExpressWay Logistics to ship luggage and personal belongings ahead of time. Their door-to-door service and reliable tracking make traveling a breeze.                                                                                                                                                                                                                                                                                                                                                                                                       | Positive           | Positive       |\n",
            "+-------------------------------------------------------------------------------------------------------------------------------------------------------------------------------------------------------------------------------------------------------------------------------------------------------------------------------------------------------------------------------------------------------------------------------------------------------------------------------------------------------------------------------------------------------------------------------------------------+--------------------+----------------+\n",
            "| ExpressWay Logistics caught my attention with its promise of seamless shipping solutions and a comprehensive network. However, my recent experiences have revealed some significant shortcomings. Their online platform is disgusting and their tracking system is inaccurate.I've encountered repeated issues with inaccurate weight calculations that have led to unexpected charges. Moreover, the limited options for customizing shipment preferences have made it challenging to meet my requirements.I cannot rely upon it for my future requirements.It failed to meet my requirements. | Negative           | Negative       |\n",
            "+-------------------------------------------------------------------------------------------------------------------------------------------------------------------------------------------------------------------------------------------------------------------------------------------------------------------------------------------------------------------------------------------------------------------------------------------------------------------------------------------------------------------------------------------------------------------------------------------------+--------------------+----------------+\n",
            "| The packaging provided by ExpressWay Logistics is always secure and well-protected, and ensured that my items arrive in perfect condition.                                                                                                                                                                                                                                                                                                                                                                                                                                                      | Positive           | Positive       |\n",
            "+-------------------------------------------------------------------------------------------------------------------------------------------------------------------------------------------------------------------------------------------------------------------------------------------------------------------------------------------------------------------------------------------------------------------------------------------------------------------------------------------------------------------------------------------------------------------------------------------------+--------------------+----------------+\n",
            "| My recent experience with ExpressWay Logistics left me thoroughly impressed. I had a highly time-sensitive shipment that required delicate handling and precise coordination. Despite the challenges, ExpressWay rose to the occasion, demonstrating an unparalleled level of professionalism and efficiency. Their team meticulously planned every aspect of the shipment, from packaging to transportation, ensuring that no detail was overlooked.                                                                                                                                           | Positive           | Positive       |\n",
            "+-------------------------------------------------------------------------------------------------------------------------------------------------------------------------------------------------------------------------------------------------------------------------------------------------------------------------------------------------------------------------------------------------------------------------------------------------------------------------------------------------------------------------------------------------------------------------------------------------+--------------------+----------------+\n",
            "| I was initially impressed by ExpressWay Logistics' promise of reliability and affordability, but my recent encounters have been less than satisfactory. Their website is so irritating and their drivers are too harsh, the repeated delays in delivery have been frustrating. Additionally, the discovery of hidden fees within their pricing structure has left me feeling misled. In addition to these challenges, their customer service team has been inattentive and disrespectful, which has degraded the overall experience.Not at all recommend!                                       | Negative           | Negative       |\n",
            "+-------------------------------------------------------------------------------------------------------------------------------------------------------------------------------------------------------------------------------------------------------------------------------------------------------------------------------------------------------------------------------------------------------------------------------------------------------------------------------------------------------------------------------------------------------------------------------------------------+--------------------+----------------+\n",
            "| Thumbs up to ExpressWay for their prompt responses and reliable shipping solutions. Impressed!                                                                                                                                                                                                                                                                                                                                                                                                                                                                                                  | Positive           | Positive       |\n",
            "+-------------------------------------------------------------------------------------------------------------------------------------------------------------------------------------------------------------------------------------------------------------------------------------------------------------------------------------------------------------------------------------------------------------------------------------------------------------------------------------------------------------------------------------------------------------------------------------------------+--------------------+----------------+\n",
            "| I had a terrible experience with ExpressWay Logistics. Not only was my pickup delayed, but the packaging was not done intactly, and the customer support team was unresponsive when I tried to raise the issue.                                                                                                                                                                                                                                                                                                                                                                                 | Negative           | Negative       |\n",
            "+-------------------------------------------------------------------------------------------------------------------------------------------------------------------------------------------------------------------------------------------------------------------------------------------------------------------------------------------------------------------------------------------------------------------------------------------------------------------------------------------------------------------------------------------------------------------------------------------------+--------------------+----------------+\n",
            "+-------------------------------------------------------------------------------------------------------------------------------------------------------------------------------------------------------------------------------------------------------------------------------------------------------------------------------------------------------------------------------------------------------------------------------------------------------------------------------------------------------------------------------------------------------------------------------------------------+--------------------+----------------+\n",
            "| Review                                                                                                                                                                                                                                                                                                                                                                                                                                                                                                                                                                                          | Model Prediction   | Ground Truth   |\n",
            "+=================================================================================================================================================================================================================================================================================================================================================================================================================================================================================================================================================================================================+====================+================+\n",
            "| The delivery executive assigned by ExpressWay Logistics was courteous and professional during the delivery process. They tried their best to handle the package with care.Unfortunately, the package arrived with slight damage despite the delivery executive's efforts. The packaging seemed more than adequate to protect the contents during transit.                                                                                                                                                                                                                                       | Positive           | Positive       |\n",
            "+-------------------------------------------------------------------------------------------------------------------------------------------------------------------------------------------------------------------------------------------------------------------------------------------------------------------------------------------------------------------------------------------------------------------------------------------------------------------------------------------------------------------------------------------------------------------------------------------------+--------------------+----------------+\n",
            "| ExpressWay Logistics failed to meet my expectations. The delivery was delayed, and the customer support team was unresponsive and unhelpful when I tried to inquire about the status of my parcel.                                                                                                                                                                                                                                                                                                                                                                                              | Negative           | Negative       |\n",
            "+-------------------------------------------------------------------------------------------------------------------------------------------------------------------------------------------------------------------------------------------------------------------------------------------------------------------------------------------------------------------------------------------------------------------------------------------------------------------------------------------------------------------------------------------------------------------------------------------------+--------------------+----------------+\n",
            "| ExpressWay Logistics' incompetence resulted in a major inconvenience when my package was delivered to the wrong recipient. Despite providing accurate delivery information, the package ended up in the hands of someone else, and efforts to retrieve it were unsuccessful. When I contacted customer service for assistance, I was met with apathy and a lack of urgency. Their failure to rectify the situation in a timely manner is unacceptable, and I will be avoiding their services at all costs.                                                                                      | Negative           | Negative       |\n",
            "+-------------------------------------------------------------------------------------------------------------------------------------------------------------------------------------------------------------------------------------------------------------------------------------------------------------------------------------------------------------------------------------------------------------------------------------------------------------------------------------------------------------------------------------------------------------------------------------------------+--------------------+----------------+\n",
            "| Kudos to ExpressWay Logistics for their outstanding service! They've been an essential partner for my business, handling all our shipping needs with professionalism and efficiency. If you're looking for a reliable logistic service provider, look no further than ExpressWay Logistics.                                                                                                                                                                                                                                                                                                     | Positive           | Positive       |\n",
            "+-------------------------------------------------------------------------------------------------------------------------------------------------------------------------------------------------------------------------------------------------------------------------------------------------------------------------------------------------------------------------------------------------------------------------------------------------------------------------------------------------------------------------------------------------------------------------------------------------+--------------------+----------------+\n",
            "| ExpressWay Logistics offers a convenient online platform for booking shipments, and their competitive rates initially drew me in. However, the frequent delays in delivery and lack of transparency regarding additional fees have soured my experience. While their customer service representatives are polite, they often seem powerless to resolve issues effectively.This lack of care and responsibilites from the concerned teams have led me unsatisfied and irritated.I cannot trust and rely on this again.Will definitely not contact them ever for my courier deliveries!           | Negative           | Negative       |\n",
            "+-------------------------------------------------------------------------------------------------------------------------------------------------------------------------------------------------------------------------------------------------------------------------------------------------------------------------------------------------------------------------------------------------------------------------------------------------------------------------------------------------------------------------------------------------------------------------------------------------+--------------------+----------------+\n",
            "| Planning a destination wedding is undoubtedly a daunting task, especially when it comes to coordinating transportation for guests and wedding essentials. Fortunately, ExpressWay Logistics made this aspect of our wedding planning effortless. From the beginning, they were attentive to our needs and provided valuable insights to streamline the process.                                                                                                                                                                                                                                 | Positive           | Positive       |\n",
            "+-------------------------------------------------------------------------------------------------------------------------------------------------------------------------------------------------------------------------------------------------------------------------------------------------------------------------------------------------------------------------------------------------------------------------------------------------------------------------------------------------------------------------------------------------------------------------------------------------+--------------------+----------------+\n",
            "| ExpressWay Logistics consistently delivers on its promises, providing fast, efficient, and reliable courier services that exceeded my expectations.                                                                                                                                                                                                                                                                                                                                                                                                                                             | Positive           | Positive       |\n",
            "+-------------------------------------------------------------------------------------------------------------------------------------------------------------------------------------------------------------------------------------------------------------------------------------------------------------------------------------------------------------------------------------------------------------------------------------------------------------------------------------------------------------------------------------------------------------------------------------------------+--------------------+----------------+\n",
            "| I needed to ship perishable items internationally, and ExpressWay Logistics handled the process flawlessly. They ensured that the items were properly packaged and transported in temperature-controlled conditions.                                                                                                                                                                                                                                                                                                                                                                            | Positive           | Positive       |\n",
            "+-------------------------------------------------------------------------------------------------------------------------------------------------------------------------------------------------------------------------------------------------------------------------------------------------------------------------------------------------------------------------------------------------------------------------------------------------------------------------------------------------------------------------------------------------------------------------------------------------+--------------------+----------------+\n",
            "| I appreciated the flexibility offered by ExpressWay Logistics in terms of delivery options. Their range of delivery speeds and service levels allowed me to choose the option that best suited my needs and budget.However, I was slightly disappointed by the lack of transparency regarding few additional fees and surcharges. I selected a specific delivery option and paid minor charges at checkout, which undermined the initial affordability of the service..                                                                                                                         | Positive           | Negative       |\n",
            "+-------------------------------------------------------------------------------------------------------------------------------------------------------------------------------------------------------------------------------------------------------------------------------------------------------------------------------------------------------------------------------------------------------------------------------------------------------------------------------------------------------------------------------------------------------------------------------------------------+--------------------+----------------+\n",
            "| While ExpressWay Logistics' pricing is competitive, their lack of accountability for delays and damages is disappointing. It's frustrating to pay for a service that fails to deliver on its promises consistently.                                                                                                                                                                                                                                                                                                                                                                             | Negative           | Negative       |\n",
            "+-------------------------------------------------------------------------------------------------------------------------------------------------------------------------------------------------------------------------------------------------------------------------------------------------------------------------------------------------------------------------------------------------------------------------------------------------------------------------------------------------------------------------------------------------------------------------------------------------+--------------------+----------------+\n",
            "| ExpressWay Logistics' pricing may seem attractive at first glance, but beware of some internal hidden fees that may sometimes add up. Coupled with their reliable delivery times, it's simply not worth the hassle.But still I appreciate that my parcel got delivered safely a day after the promised window.                                                                                                                                                                                                                                                                                  | Negative           | Positive       |\n",
            "+-------------------------------------------------------------------------------------------------------------------------------------------------------------------------------------------------------------------------------------------------------------------------------------------------------------------------------------------------------------------------------------------------------------------------------------------------------------------------------------------------------------------------------------------------------------------------------------------------+--------------------+----------------+\n",
            "| ExpressWay Logistics has been my go-to courier service for years, primarily due to their extensive network coverage and competitive pricing. However, my recent experience has left me questioning their reliability. While their user-friendly website and efficient booking process remain commendable, the repeated delays in delivery and lack of proactive communication have been disappointing.Despite these setbacks, their customer service team has always been courteous and responsive, attempting to address my concerns promptly.                                                 | Negative           | Negative       |\n",
            "+-------------------------------------------------------------------------------------------------------------------------------------------------------------------------------------------------------------------------------------------------------------------------------------------------------------------------------------------------------------------------------------------------------------------------------------------------------------------------------------------------------------------------------------------------------------------------------------------------+--------------------+----------------+\n",
            "| ExpressWay Logistics' incompetence led to the loss of my parcel, and their lack of accountability only added to the frustration. Despite filing a claim and providing evidence of the missing items, I received no assistance or compensation for the lost package. Their negligence and disregard for customer satisfaction are unacceptable, and I will be exploring legal options to recoup the value of the lost items.                                                                                                                                                                     | Negative           | Negative       |\n",
            "+-------------------------------------------------------------------------------------------------------------------------------------------------------------------------------------------------------------------------------------------------------------------------------------------------------------------------------------------------------------------------------------------------------------------------------------------------------------------------------------------------------------------------------------------------------------------------------------------------+--------------------+----------------+\n",
            "| I was deeply disappointed by the behavior of the delivery executive from Expressway Logistics. They exhibited a complete disregard for customer satisfaction, arriving late and mishandling the package upon delivery. Despite raising my concerns with Expressway Logistics, there was no acknowledgment or resolution provided.                                                                                                                                                                                                                                                               | Negative           | Negative       |\n",
            "+-------------------------------------------------------------------------------------------------------------------------------------------------------------------------------------------------------------------------------------------------------------------------------------------------------------------------------------------------------------------------------------------------------------------------------------------------------------------------------------------------------------------------------------------------------------------------------------------------+--------------------+----------------+\n",
            "| As a frequent traveler, I often use ExpressWay Logistics to ship luggage and personal belongings ahead of time. Their door-to-door service and reliable tracking make traveling a breeze.                                                                                                                                                                                                                                                                                                                                                                                                       | Positive           | Positive       |\n",
            "+-------------------------------------------------------------------------------------------------------------------------------------------------------------------------------------------------------------------------------------------------------------------------------------------------------------------------------------------------------------------------------------------------------------------------------------------------------------------------------------------------------------------------------------------------------------------------------------------------+--------------------+----------------+\n",
            "| ExpressWay Logistics caught my attention with its promise of seamless shipping solutions and a comprehensive network. However, my recent experiences have revealed some significant shortcomings. Their online platform is disgusting and their tracking system is inaccurate.I've encountered repeated issues with inaccurate weight calculations that have led to unexpected charges. Moreover, the limited options for customizing shipment preferences have made it challenging to meet my requirements.I cannot rely upon it for my future requirements.It failed to meet my requirements. | Negative           | Negative       |\n",
            "+-------------------------------------------------------------------------------------------------------------------------------------------------------------------------------------------------------------------------------------------------------------------------------------------------------------------------------------------------------------------------------------------------------------------------------------------------------------------------------------------------------------------------------------------------------------------------------------------------+--------------------+----------------+\n",
            "| The packaging provided by ExpressWay Logistics is always secure and well-protected, and ensured that my items arrive in perfect condition.                                                                                                                                                                                                                                                                                                                                                                                                                                                      | Positive           | Positive       |\n",
            "+-------------------------------------------------------------------------------------------------------------------------------------------------------------------------------------------------------------------------------------------------------------------------------------------------------------------------------------------------------------------------------------------------------------------------------------------------------------------------------------------------------------------------------------------------------------------------------------------------+--------------------+----------------+\n",
            "| My recent experience with ExpressWay Logistics left me thoroughly impressed. I had a highly time-sensitive shipment that required delicate handling and precise coordination. Despite the challenges, ExpressWay rose to the occasion, demonstrating an unparalleled level of professionalism and efficiency. Their team meticulously planned every aspect of the shipment, from packaging to transportation, ensuring that no detail was overlooked.                                                                                                                                           | Positive           | Positive       |\n",
            "+-------------------------------------------------------------------------------------------------------------------------------------------------------------------------------------------------------------------------------------------------------------------------------------------------------------------------------------------------------------------------------------------------------------------------------------------------------------------------------------------------------------------------------------------------------------------------------------------------+--------------------+----------------+\n",
            "| I was initially impressed by ExpressWay Logistics' promise of reliability and affordability, but my recent encounters have been less than satisfactory. Their website is so irritating and their drivers are too harsh, the repeated delays in delivery have been frustrating. Additionally, the discovery of hidden fees within their pricing structure has left me feeling misled. In addition to these challenges, their customer service team has been inattentive and disrespectful, which has degraded the overall experience.Not at all recommend!                                       | Negative           | Negative       |\n",
            "+-------------------------------------------------------------------------------------------------------------------------------------------------------------------------------------------------------------------------------------------------------------------------------------------------------------------------------------------------------------------------------------------------------------------------------------------------------------------------------------------------------------------------------------------------------------------------------------------------+--------------------+----------------+\n",
            "| Thumbs up to ExpressWay for their prompt responses and reliable shipping solutions. Impressed!                                                                                                                                                                                                                                                                                                                                                                                                                                                                                                  | Positive           | Positive       |\n",
            "+-------------------------------------------------------------------------------------------------------------------------------------------------------------------------------------------------------------------------------------------------------------------------------------------------------------------------------------------------------------------------------------------------------------------------------------------------------------------------------------------------------------------------------------------------------------------------------------------------+--------------------+----------------+\n",
            "| I had a terrible experience with ExpressWay Logistics. Not only was my pickup delayed, but the packaging was not done intactly, and the customer support team was unresponsive when I tried to raise the issue.                                                                                                                                                                                                                                                                                                                                                                                 | Negative           | Negative       |\n",
            "+-------------------------------------------------------------------------------------------------------------------------------------------------------------------------------------------------------------------------------------------------------------------------------------------------------------------------------------------------------------------------------------------------------------------------------------------------------------------------------------------------------------------------------------------------------------------------------------------------+--------------------+----------------+\n"
          ]
        },
        {
          "output_type": "stream",
          "name": "stderr",
          "text": [
            "\r 60%|██████    | 3/5 [00:24<00:16,  8.07s/it]"
          ]
        },
        {
          "output_type": "stream",
          "name": "stdout",
          "text": [
            "+-------------------------------------------------------------------------------------------------------------------------------------------------------------------------------------------------------------------------------------------------------------------------------------------------------------------------------------------------------------------------------------------------------------------------------------------------------------------------------------------------------------------------------------------------------------------------------------------------+--------------------+----------------+\n",
            "| Review                                                                                                                                                                                                                                                                                                                                                                                                                                                                                                                                                                                          | Model Prediction   | Ground Truth   |\n",
            "+=================================================================================================================================================================================================================================================================================================================================================================================================================================================================================================================================================================================================+====================+================+\n",
            "| The delivery executive assigned by ExpressWay Logistics was courteous and professional during the delivery process. They tried their best to handle the package with care.Unfortunately, the package arrived with slight damage despite the delivery executive's efforts. The packaging seemed more than adequate to protect the contents during transit.                                                                                                                                                                                                                                       | Negative           | Positive       |\n",
            "+-------------------------------------------------------------------------------------------------------------------------------------------------------------------------------------------------------------------------------------------------------------------------------------------------------------------------------------------------------------------------------------------------------------------------------------------------------------------------------------------------------------------------------------------------------------------------------------------------+--------------------+----------------+\n",
            "| ExpressWay Logistics failed to meet my expectations. The delivery was delayed, and the customer support team was unresponsive and unhelpful when I tried to inquire about the status of my parcel.                                                                                                                                                                                                                                                                                                                                                                                              | Negative           | Negative       |\n",
            "+-------------------------------------------------------------------------------------------------------------------------------------------------------------------------------------------------------------------------------------------------------------------------------------------------------------------------------------------------------------------------------------------------------------------------------------------------------------------------------------------------------------------------------------------------------------------------------------------------+--------------------+----------------+\n",
            "| ExpressWay Logistics' incompetence resulted in a major inconvenience when my package was delivered to the wrong recipient. Despite providing accurate delivery information, the package ended up in the hands of someone else, and efforts to retrieve it were unsuccessful. When I contacted customer service for assistance, I was met with apathy and a lack of urgency. Their failure to rectify the situation in a timely manner is unacceptable, and I will be avoiding their services at all costs.                                                                                      | Negative           | Negative       |\n",
            "+-------------------------------------------------------------------------------------------------------------------------------------------------------------------------------------------------------------------------------------------------------------------------------------------------------------------------------------------------------------------------------------------------------------------------------------------------------------------------------------------------------------------------------------------------------------------------------------------------+--------------------+----------------+\n",
            "| Kudos to ExpressWay Logistics for their outstanding service! They've been an essential partner for my business, handling all our shipping needs with professionalism and efficiency. If you're looking for a reliable logistic service provider, look no further than ExpressWay Logistics.                                                                                                                                                                                                                                                                                                     | Positive           | Positive       |\n",
            "+-------------------------------------------------------------------------------------------------------------------------------------------------------------------------------------------------------------------------------------------------------------------------------------------------------------------------------------------------------------------------------------------------------------------------------------------------------------------------------------------------------------------------------------------------------------------------------------------------+--------------------+----------------+\n",
            "| ExpressWay Logistics offers a convenient online platform for booking shipments, and their competitive rates initially drew me in. However, the frequent delays in delivery and lack of transparency regarding additional fees have soured my experience. While their customer service representatives are polite, they often seem powerless to resolve issues effectively.This lack of care and responsibilites from the concerned teams have led me unsatisfied and irritated.I cannot trust and rely on this again.Will definitely not contact them ever for my courier deliveries!           | Negative           | Negative       |\n",
            "+-------------------------------------------------------------------------------------------------------------------------------------------------------------------------------------------------------------------------------------------------------------------------------------------------------------------------------------------------------------------------------------------------------------------------------------------------------------------------------------------------------------------------------------------------------------------------------------------------+--------------------+----------------+\n",
            "| Planning a destination wedding is undoubtedly a daunting task, especially when it comes to coordinating transportation for guests and wedding essentials. Fortunately, ExpressWay Logistics made this aspect of our wedding planning effortless. From the beginning, they were attentive to our needs and provided valuable insights to streamline the process.                                                                                                                                                                                                                                 | Positive           | Positive       |\n",
            "+-------------------------------------------------------------------------------------------------------------------------------------------------------------------------------------------------------------------------------------------------------------------------------------------------------------------------------------------------------------------------------------------------------------------------------------------------------------------------------------------------------------------------------------------------------------------------------------------------+--------------------+----------------+\n",
            "| ExpressWay Logistics consistently delivers on its promises, providing fast, efficient, and reliable courier services that exceeded my expectations.                                                                                                                                                                                                                                                                                                                                                                                                                                             | Positive           | Positive       |\n",
            "+-------------------------------------------------------------------------------------------------------------------------------------------------------------------------------------------------------------------------------------------------------------------------------------------------------------------------------------------------------------------------------------------------------------------------------------------------------------------------------------------------------------------------------------------------------------------------------------------------+--------------------+----------------+\n",
            "| I needed to ship perishable items internationally, and ExpressWay Logistics handled the process flawlessly. They ensured that the items were properly packaged and transported in temperature-controlled conditions.                                                                                                                                                                                                                                                                                                                                                                            | Positive           | Positive       |\n",
            "+-------------------------------------------------------------------------------------------------------------------------------------------------------------------------------------------------------------------------------------------------------------------------------------------------------------------------------------------------------------------------------------------------------------------------------------------------------------------------------------------------------------------------------------------------------------------------------------------------+--------------------+----------------+\n",
            "| I appreciated the flexibility offered by ExpressWay Logistics in terms of delivery options. Their range of delivery speeds and service levels allowed me to choose the option that best suited my needs and budget.However, I was slightly disappointed by the lack of transparency regarding few additional fees and surcharges. I selected a specific delivery option and paid minor charges at checkout, which undermined the initial affordability of the service..                                                                                                                         | Negative           | Negative       |\n",
            "+-------------------------------------------------------------------------------------------------------------------------------------------------------------------------------------------------------------------------------------------------------------------------------------------------------------------------------------------------------------------------------------------------------------------------------------------------------------------------------------------------------------------------------------------------------------------------------------------------+--------------------+----------------+\n",
            "| While ExpressWay Logistics' pricing is competitive, their lack of accountability for delays and damages is disappointing. It's frustrating to pay for a service that fails to deliver on its promises consistently.                                                                                                                                                                                                                                                                                                                                                                             | Negative           | Negative       |\n",
            "+-------------------------------------------------------------------------------------------------------------------------------------------------------------------------------------------------------------------------------------------------------------------------------------------------------------------------------------------------------------------------------------------------------------------------------------------------------------------------------------------------------------------------------------------------------------------------------------------------+--------------------+----------------+\n",
            "| ExpressWay Logistics' pricing may seem attractive at first glance, but beware of some internal hidden fees that may sometimes add up. Coupled with their reliable delivery times, it's simply not worth the hassle.But still I appreciate that my parcel got delivered safely a day after the promised window.                                                                                                                                                                                                                                                                                  | Negative           | Positive       |\n",
            "+-------------------------------------------------------------------------------------------------------------------------------------------------------------------------------------------------------------------------------------------------------------------------------------------------------------------------------------------------------------------------------------------------------------------------------------------------------------------------------------------------------------------------------------------------------------------------------------------------+--------------------+----------------+\n",
            "| ExpressWay Logistics has been my go-to courier service for years, primarily due to their extensive network coverage and competitive pricing. However, my recent experience has left me questioning their reliability. While their user-friendly website and efficient booking process remain commendable, the repeated delays in delivery and lack of proactive communication have been disappointing.Despite these setbacks, their customer service team has always been courteous and responsive, attempting to address my concerns promptly.                                                 | Negative           | Negative       |\n",
            "+-------------------------------------------------------------------------------------------------------------------------------------------------------------------------------------------------------------------------------------------------------------------------------------------------------------------------------------------------------------------------------------------------------------------------------------------------------------------------------------------------------------------------------------------------------------------------------------------------+--------------------+----------------+\n",
            "| ExpressWay Logistics' incompetence led to the loss of my parcel, and their lack of accountability only added to the frustration. Despite filing a claim and providing evidence of the missing items, I received no assistance or compensation for the lost package. Their negligence and disregard for customer satisfaction are unacceptable, and I will be exploring legal options to recoup the value of the lost items.                                                                                                                                                                     | Negative           | Negative       |\n",
            "+-------------------------------------------------------------------------------------------------------------------------------------------------------------------------------------------------------------------------------------------------------------------------------------------------------------------------------------------------------------------------------------------------------------------------------------------------------------------------------------------------------------------------------------------------------------------------------------------------+--------------------+----------------+\n",
            "| I was deeply disappointed by the behavior of the delivery executive from Expressway Logistics. They exhibited a complete disregard for customer satisfaction, arriving late and mishandling the package upon delivery. Despite raising my concerns with Expressway Logistics, there was no acknowledgment or resolution provided.                                                                                                                                                                                                                                                               | Negative           | Negative       |\n",
            "+-------------------------------------------------------------------------------------------------------------------------------------------------------------------------------------------------------------------------------------------------------------------------------------------------------------------------------------------------------------------------------------------------------------------------------------------------------------------------------------------------------------------------------------------------------------------------------------------------+--------------------+----------------+\n",
            "| As a frequent traveler, I often use ExpressWay Logistics to ship luggage and personal belongings ahead of time. Their door-to-door service and reliable tracking make traveling a breeze.                                                                                                                                                                                                                                                                                                                                                                                                       | Positive           | Positive       |\n",
            "+-------------------------------------------------------------------------------------------------------------------------------------------------------------------------------------------------------------------------------------------------------------------------------------------------------------------------------------------------------------------------------------------------------------------------------------------------------------------------------------------------------------------------------------------------------------------------------------------------+--------------------+----------------+\n",
            "| ExpressWay Logistics caught my attention with its promise of seamless shipping solutions and a comprehensive network. However, my recent experiences have revealed some significant shortcomings. Their online platform is disgusting and their tracking system is inaccurate.I've encountered repeated issues with inaccurate weight calculations that have led to unexpected charges. Moreover, the limited options for customizing shipment preferences have made it challenging to meet my requirements.I cannot rely upon it for my future requirements.It failed to meet my requirements. | Negative           | Negative       |\n",
            "+-------------------------------------------------------------------------------------------------------------------------------------------------------------------------------------------------------------------------------------------------------------------------------------------------------------------------------------------------------------------------------------------------------------------------------------------------------------------------------------------------------------------------------------------------------------------------------------------------+--------------------+----------------+\n",
            "| The packaging provided by ExpressWay Logistics is always secure and well-protected, and ensured that my items arrive in perfect condition.                                                                                                                                                                                                                                                                                                                                                                                                                                                      | Positive           | Positive       |\n",
            "+-------------------------------------------------------------------------------------------------------------------------------------------------------------------------------------------------------------------------------------------------------------------------------------------------------------------------------------------------------------------------------------------------------------------------------------------------------------------------------------------------------------------------------------------------------------------------------------------------+--------------------+----------------+\n",
            "| My recent experience with ExpressWay Logistics left me thoroughly impressed. I had a highly time-sensitive shipment that required delicate handling and precise coordination. Despite the challenges, ExpressWay rose to the occasion, demonstrating an unparalleled level of professionalism and efficiency. Their team meticulously planned every aspect of the shipment, from packaging to transportation, ensuring that no detail was overlooked.                                                                                                                                           | Positive           | Positive       |\n",
            "+-------------------------------------------------------------------------------------------------------------------------------------------------------------------------------------------------------------------------------------------------------------------------------------------------------------------------------------------------------------------------------------------------------------------------------------------------------------------------------------------------------------------------------------------------------------------------------------------------+--------------------+----------------+\n",
            "| I was initially impressed by ExpressWay Logistics' promise of reliability and affordability, but my recent encounters have been less than satisfactory. Their website is so irritating and their drivers are too harsh, the repeated delays in delivery have been frustrating. Additionally, the discovery of hidden fees within their pricing structure has left me feeling misled. In addition to these challenges, their customer service team has been inattentive and disrespectful, which has degraded the overall experience.Not at all recommend!                                       | Negative           | Negative       |\n",
            "+-------------------------------------------------------------------------------------------------------------------------------------------------------------------------------------------------------------------------------------------------------------------------------------------------------------------------------------------------------------------------------------------------------------------------------------------------------------------------------------------------------------------------------------------------------------------------------------------------+--------------------+----------------+\n",
            "| Thumbs up to ExpressWay for their prompt responses and reliable shipping solutions. Impressed!                                                                                                                                                                                                                                                                                                                                                                                                                                                                                                  | Positive           | Positive       |\n",
            "+-------------------------------------------------------------------------------------------------------------------------------------------------------------------------------------------------------------------------------------------------------------------------------------------------------------------------------------------------------------------------------------------------------------------------------------------------------------------------------------------------------------------------------------------------------------------------------------------------+--------------------+----------------+\n",
            "| I had a terrible experience with ExpressWay Logistics. Not only was my pickup delayed, but the packaging was not done intactly, and the customer support team was unresponsive when I tried to raise the issue.                                                                                                                                                                                                                                                                                                                                                                                 | Negative           | Negative       |\n",
            "+-------------------------------------------------------------------------------------------------------------------------------------------------------------------------------------------------------------------------------------------------------------------------------------------------------------------------------------------------------------------------------------------------------------------------------------------------------------------------------------------------------------------------------------------------------------------------------------------------+--------------------+----------------+\n",
            "+-------------------------------------------------------------------------------------------------------------------------------------------------------------------------------------------------------------------------------------------------------------------------------------------------------------------------------------------------------------------------------------------------------------------------------------------------------------------------------------------------------------------------------------------------------------------------------------------------+--------------------+----------------+\n",
            "| Review                                                                                                                                                                                                                                                                                                                                                                                                                                                                                                                                                                                          | Model Prediction   | Ground Truth   |\n",
            "+=================================================================================================================================================================================================================================================================================================================================================================================================================================================================================================================================================================================================+====================+================+\n",
            "| The delivery executive assigned by ExpressWay Logistics was courteous and professional during the delivery process. They tried their best to handle the package with care.Unfortunately, the package arrived with slight damage despite the delivery executive's efforts. The packaging seemed more than adequate to protect the contents during transit.                                                                                                                                                                                                                                       | Positive           | Positive       |\n",
            "+-------------------------------------------------------------------------------------------------------------------------------------------------------------------------------------------------------------------------------------------------------------------------------------------------------------------------------------------------------------------------------------------------------------------------------------------------------------------------------------------------------------------------------------------------------------------------------------------------+--------------------+----------------+\n",
            "| ExpressWay Logistics failed to meet my expectations. The delivery was delayed, and the customer support team was unresponsive and unhelpful when I tried to inquire about the status of my parcel.                                                                                                                                                                                                                                                                                                                                                                                              | Negative           | Negative       |\n",
            "+-------------------------------------------------------------------------------------------------------------------------------------------------------------------------------------------------------------------------------------------------------------------------------------------------------------------------------------------------------------------------------------------------------------------------------------------------------------------------------------------------------------------------------------------------------------------------------------------------+--------------------+----------------+\n",
            "| ExpressWay Logistics' incompetence resulted in a major inconvenience when my package was delivered to the wrong recipient. Despite providing accurate delivery information, the package ended up in the hands of someone else, and efforts to retrieve it were unsuccessful. When I contacted customer service for assistance, I was met with apathy and a lack of urgency. Their failure to rectify the situation in a timely manner is unacceptable, and I will be avoiding their services at all costs.                                                                                      | Negative           | Negative       |\n",
            "+-------------------------------------------------------------------------------------------------------------------------------------------------------------------------------------------------------------------------------------------------------------------------------------------------------------------------------------------------------------------------------------------------------------------------------------------------------------------------------------------------------------------------------------------------------------------------------------------------+--------------------+----------------+\n",
            "| Kudos to ExpressWay Logistics for their outstanding service! They've been an essential partner for my business, handling all our shipping needs with professionalism and efficiency. If you're looking for a reliable logistic service provider, look no further than ExpressWay Logistics.                                                                                                                                                                                                                                                                                                     | Positive           | Positive       |\n",
            "+-------------------------------------------------------------------------------------------------------------------------------------------------------------------------------------------------------------------------------------------------------------------------------------------------------------------------------------------------------------------------------------------------------------------------------------------------------------------------------------------------------------------------------------------------------------------------------------------------+--------------------+----------------+\n",
            "| ExpressWay Logistics offers a convenient online platform for booking shipments, and their competitive rates initially drew me in. However, the frequent delays in delivery and lack of transparency regarding additional fees have soured my experience. While their customer service representatives are polite, they often seem powerless to resolve issues effectively.This lack of care and responsibilites from the concerned teams have led me unsatisfied and irritated.I cannot trust and rely on this again.Will definitely not contact them ever for my courier deliveries!           | Negative           | Negative       |\n",
            "+-------------------------------------------------------------------------------------------------------------------------------------------------------------------------------------------------------------------------------------------------------------------------------------------------------------------------------------------------------------------------------------------------------------------------------------------------------------------------------------------------------------------------------------------------------------------------------------------------+--------------------+----------------+\n",
            "| Planning a destination wedding is undoubtedly a daunting task, especially when it comes to coordinating transportation for guests and wedding essentials. Fortunately, ExpressWay Logistics made this aspect of our wedding planning effortless. From the beginning, they were attentive to our needs and provided valuable insights to streamline the process.                                                                                                                                                                                                                                 | Positive           | Positive       |\n",
            "+-------------------------------------------------------------------------------------------------------------------------------------------------------------------------------------------------------------------------------------------------------------------------------------------------------------------------------------------------------------------------------------------------------------------------------------------------------------------------------------------------------------------------------------------------------------------------------------------------+--------------------+----------------+\n",
            "| ExpressWay Logistics consistently delivers on its promises, providing fast, efficient, and reliable courier services that exceeded my expectations.                                                                                                                                                                                                                                                                                                                                                                                                                                             | Positive           | Positive       |\n",
            "+-------------------------------------------------------------------------------------------------------------------------------------------------------------------------------------------------------------------------------------------------------------------------------------------------------------------------------------------------------------------------------------------------------------------------------------------------------------------------------------------------------------------------------------------------------------------------------------------------+--------------------+----------------+\n",
            "| I needed to ship perishable items internationally, and ExpressWay Logistics handled the process flawlessly. They ensured that the items were properly packaged and transported in temperature-controlled conditions.                                                                                                                                                                                                                                                                                                                                                                            | Positive           | Positive       |\n",
            "+-------------------------------------------------------------------------------------------------------------------------------------------------------------------------------------------------------------------------------------------------------------------------------------------------------------------------------------------------------------------------------------------------------------------------------------------------------------------------------------------------------------------------------------------------------------------------------------------------+--------------------+----------------+\n",
            "| I appreciated the flexibility offered by ExpressWay Logistics in terms of delivery options. Their range of delivery speeds and service levels allowed me to choose the option that best suited my needs and budget.However, I was slightly disappointed by the lack of transparency regarding few additional fees and surcharges. I selected a specific delivery option and paid minor charges at checkout, which undermined the initial affordability of the service..                                                                                                                         | Positive           | Negative       |\n",
            "+-------------------------------------------------------------------------------------------------------------------------------------------------------------------------------------------------------------------------------------------------------------------------------------------------------------------------------------------------------------------------------------------------------------------------------------------------------------------------------------------------------------------------------------------------------------------------------------------------+--------------------+----------------+\n",
            "| While ExpressWay Logistics' pricing is competitive, their lack of accountability for delays and damages is disappointing. It's frustrating to pay for a service that fails to deliver on its promises consistently.                                                                                                                                                                                                                                                                                                                                                                             | Negative           | Negative       |\n",
            "+-------------------------------------------------------------------------------------------------------------------------------------------------------------------------------------------------------------------------------------------------------------------------------------------------------------------------------------------------------------------------------------------------------------------------------------------------------------------------------------------------------------------------------------------------------------------------------------------------+--------------------+----------------+\n",
            "| ExpressWay Logistics' pricing may seem attractive at first glance, but beware of some internal hidden fees that may sometimes add up. Coupled with their reliable delivery times, it's simply not worth the hassle.But still I appreciate that my parcel got delivered safely a day after the promised window.                                                                                                                                                                                                                                                                                  | Negative           | Positive       |\n",
            "+-------------------------------------------------------------------------------------------------------------------------------------------------------------------------------------------------------------------------------------------------------------------------------------------------------------------------------------------------------------------------------------------------------------------------------------------------------------------------------------------------------------------------------------------------------------------------------------------------+--------------------+----------------+\n",
            "| ExpressWay Logistics has been my go-to courier service for years, primarily due to their extensive network coverage and competitive pricing. However, my recent experience has left me questioning their reliability. While their user-friendly website and efficient booking process remain commendable, the repeated delays in delivery and lack of proactive communication have been disappointing.Despite these setbacks, their customer service team has always been courteous and responsive, attempting to address my concerns promptly.                                                 | Negative           | Negative       |\n",
            "+-------------------------------------------------------------------------------------------------------------------------------------------------------------------------------------------------------------------------------------------------------------------------------------------------------------------------------------------------------------------------------------------------------------------------------------------------------------------------------------------------------------------------------------------------------------------------------------------------+--------------------+----------------+\n",
            "| ExpressWay Logistics' incompetence led to the loss of my parcel, and their lack of accountability only added to the frustration. Despite filing a claim and providing evidence of the missing items, I received no assistance or compensation for the lost package. Their negligence and disregard for customer satisfaction are unacceptable, and I will be exploring legal options to recoup the value of the lost items.                                                                                                                                                                     | Negative           | Negative       |\n",
            "+-------------------------------------------------------------------------------------------------------------------------------------------------------------------------------------------------------------------------------------------------------------------------------------------------------------------------------------------------------------------------------------------------------------------------------------------------------------------------------------------------------------------------------------------------------------------------------------------------+--------------------+----------------+\n",
            "| I was deeply disappointed by the behavior of the delivery executive from Expressway Logistics. They exhibited a complete disregard for customer satisfaction, arriving late and mishandling the package upon delivery. Despite raising my concerns with Expressway Logistics, there was no acknowledgment or resolution provided.                                                                                                                                                                                                                                                               | Negative           | Negative       |\n",
            "+-------------------------------------------------------------------------------------------------------------------------------------------------------------------------------------------------------------------------------------------------------------------------------------------------------------------------------------------------------------------------------------------------------------------------------------------------------------------------------------------------------------------------------------------------------------------------------------------------+--------------------+----------------+\n",
            "| As a frequent traveler, I often use ExpressWay Logistics to ship luggage and personal belongings ahead of time. Their door-to-door service and reliable tracking make traveling a breeze.                                                                                                                                                                                                                                                                                                                                                                                                       | Positive           | Positive       |\n",
            "+-------------------------------------------------------------------------------------------------------------------------------------------------------------------------------------------------------------------------------------------------------------------------------------------------------------------------------------------------------------------------------------------------------------------------------------------------------------------------------------------------------------------------------------------------------------------------------------------------+--------------------+----------------+\n",
            "| ExpressWay Logistics caught my attention with its promise of seamless shipping solutions and a comprehensive network. However, my recent experiences have revealed some significant shortcomings. Their online platform is disgusting and their tracking system is inaccurate.I've encountered repeated issues with inaccurate weight calculations that have led to unexpected charges. Moreover, the limited options for customizing shipment preferences have made it challenging to meet my requirements.I cannot rely upon it for my future requirements.It failed to meet my requirements. | Negative           | Negative       |\n",
            "+-------------------------------------------------------------------------------------------------------------------------------------------------------------------------------------------------------------------------------------------------------------------------------------------------------------------------------------------------------------------------------------------------------------------------------------------------------------------------------------------------------------------------------------------------------------------------------------------------+--------------------+----------------+\n",
            "| The packaging provided by ExpressWay Logistics is always secure and well-protected, and ensured that my items arrive in perfect condition.                                                                                                                                                                                                                                                                                                                                                                                                                                                      | Positive           | Positive       |\n",
            "+-------------------------------------------------------------------------------------------------------------------------------------------------------------------------------------------------------------------------------------------------------------------------------------------------------------------------------------------------------------------------------------------------------------------------------------------------------------------------------------------------------------------------------------------------------------------------------------------------+--------------------+----------------+\n",
            "| My recent experience with ExpressWay Logistics left me thoroughly impressed. I had a highly time-sensitive shipment that required delicate handling and precise coordination. Despite the challenges, ExpressWay rose to the occasion, demonstrating an unparalleled level of professionalism and efficiency. Their team meticulously planned every aspect of the shipment, from packaging to transportation, ensuring that no detail was overlooked.                                                                                                                                           | Positive           | Positive       |\n",
            "+-------------------------------------------------------------------------------------------------------------------------------------------------------------------------------------------------------------------------------------------------------------------------------------------------------------------------------------------------------------------------------------------------------------------------------------------------------------------------------------------------------------------------------------------------------------------------------------------------+--------------------+----------------+\n",
            "| I was initially impressed by ExpressWay Logistics' promise of reliability and affordability, but my recent encounters have been less than satisfactory. Their website is so irritating and their drivers are too harsh, the repeated delays in delivery have been frustrating. Additionally, the discovery of hidden fees within their pricing structure has left me feeling misled. In addition to these challenges, their customer service team has been inattentive and disrespectful, which has degraded the overall experience.Not at all recommend!                                       | Negative           | Negative       |\n",
            "+-------------------------------------------------------------------------------------------------------------------------------------------------------------------------------------------------------------------------------------------------------------------------------------------------------------------------------------------------------------------------------------------------------------------------------------------------------------------------------------------------------------------------------------------------------------------------------------------------+--------------------+----------------+\n",
            "| Thumbs up to ExpressWay for their prompt responses and reliable shipping solutions. Impressed!                                                                                                                                                                                                                                                                                                                                                                                                                                                                                                  | Positive           | Positive       |\n",
            "+-------------------------------------------------------------------------------------------------------------------------------------------------------------------------------------------------------------------------------------------------------------------------------------------------------------------------------------------------------------------------------------------------------------------------------------------------------------------------------------------------------------------------------------------------------------------------------------------------+--------------------+----------------+\n",
            "| I had a terrible experience with ExpressWay Logistics. Not only was my pickup delayed, but the packaging was not done intactly, and the customer support team was unresponsive when I tried to raise the issue.                                                                                                                                                                                                                                                                                                                                                                                 | Negative           | Negative       |\n",
            "+-------------------------------------------------------------------------------------------------------------------------------------------------------------------------------------------------------------------------------------------------------------------------------------------------------------------------------------------------------------------------------------------------------------------------------------------------------------------------------------------------------------------------------------------------------------------------------------------------+--------------------+----------------+\n"
          ]
        },
        {
          "output_type": "stream",
          "name": "stderr",
          "text": [
            "\r 80%|████████  | 4/5 [00:31<00:07,  7.62s/it]"
          ]
        },
        {
          "output_type": "stream",
          "name": "stdout",
          "text": [
            "+-------------------------------------------------------------------------------------------------------------------------------------------------------------------------------------------------------------------------------------------------------------------------------------------------------------------------------------------------------------------------------------------------------------------------------------------------------------------------------------------------------------------------------------------------------------------------------------------------+--------------------+----------------+\n",
            "| Review                                                                                                                                                                                                                                                                                                                                                                                                                                                                                                                                                                                          | Model Prediction   | Ground Truth   |\n",
            "+=================================================================================================================================================================================================================================================================================================================================================================================================================================================================================================================================================================================================+====================+================+\n",
            "| The delivery executive assigned by ExpressWay Logistics was courteous and professional during the delivery process. They tried their best to handle the package with care.Unfortunately, the package arrived with slight damage despite the delivery executive's efforts. The packaging seemed more than adequate to protect the contents during transit.                                                                                                                                                                                                                                       | Negative           | Positive       |\n",
            "+-------------------------------------------------------------------------------------------------------------------------------------------------------------------------------------------------------------------------------------------------------------------------------------------------------------------------------------------------------------------------------------------------------------------------------------------------------------------------------------------------------------------------------------------------------------------------------------------------+--------------------+----------------+\n",
            "| ExpressWay Logistics failed to meet my expectations. The delivery was delayed, and the customer support team was unresponsive and unhelpful when I tried to inquire about the status of my parcel.                                                                                                                                                                                                                                                                                                                                                                                              | Negative           | Negative       |\n",
            "+-------------------------------------------------------------------------------------------------------------------------------------------------------------------------------------------------------------------------------------------------------------------------------------------------------------------------------------------------------------------------------------------------------------------------------------------------------------------------------------------------------------------------------------------------------------------------------------------------+--------------------+----------------+\n",
            "| ExpressWay Logistics' incompetence resulted in a major inconvenience when my package was delivered to the wrong recipient. Despite providing accurate delivery information, the package ended up in the hands of someone else, and efforts to retrieve it were unsuccessful. When I contacted customer service for assistance, I was met with apathy and a lack of urgency. Their failure to rectify the situation in a timely manner is unacceptable, and I will be avoiding their services at all costs.                                                                                      | Negative           | Negative       |\n",
            "+-------------------------------------------------------------------------------------------------------------------------------------------------------------------------------------------------------------------------------------------------------------------------------------------------------------------------------------------------------------------------------------------------------------------------------------------------------------------------------------------------------------------------------------------------------------------------------------------------+--------------------+----------------+\n",
            "| Kudos to ExpressWay Logistics for their outstanding service! They've been an essential partner for my business, handling all our shipping needs with professionalism and efficiency. If you're looking for a reliable logistic service provider, look no further than ExpressWay Logistics.                                                                                                                                                                                                                                                                                                     | Positive           | Positive       |\n",
            "+-------------------------------------------------------------------------------------------------------------------------------------------------------------------------------------------------------------------------------------------------------------------------------------------------------------------------------------------------------------------------------------------------------------------------------------------------------------------------------------------------------------------------------------------------------------------------------------------------+--------------------+----------------+\n",
            "| ExpressWay Logistics offers a convenient online platform for booking shipments, and their competitive rates initially drew me in. However, the frequent delays in delivery and lack of transparency regarding additional fees have soured my experience. While their customer service representatives are polite, they often seem powerless to resolve issues effectively.This lack of care and responsibilites from the concerned teams have led me unsatisfied and irritated.I cannot trust and rely on this again.Will definitely not contact them ever for my courier deliveries!           | Negative           | Negative       |\n",
            "+-------------------------------------------------------------------------------------------------------------------------------------------------------------------------------------------------------------------------------------------------------------------------------------------------------------------------------------------------------------------------------------------------------------------------------------------------------------------------------------------------------------------------------------------------------------------------------------------------+--------------------+----------------+\n",
            "| Planning a destination wedding is undoubtedly a daunting task, especially when it comes to coordinating transportation for guests and wedding essentials. Fortunately, ExpressWay Logistics made this aspect of our wedding planning effortless. From the beginning, they were attentive to our needs and provided valuable insights to streamline the process.                                                                                                                                                                                                                                 | Positive           | Positive       |\n",
            "+-------------------------------------------------------------------------------------------------------------------------------------------------------------------------------------------------------------------------------------------------------------------------------------------------------------------------------------------------------------------------------------------------------------------------------------------------------------------------------------------------------------------------------------------------------------------------------------------------+--------------------+----------------+\n",
            "| ExpressWay Logistics consistently delivers on its promises, providing fast, efficient, and reliable courier services that exceeded my expectations.                                                                                                                                                                                                                                                                                                                                                                                                                                             | Positive           | Positive       |\n",
            "+-------------------------------------------------------------------------------------------------------------------------------------------------------------------------------------------------------------------------------------------------------------------------------------------------------------------------------------------------------------------------------------------------------------------------------------------------------------------------------------------------------------------------------------------------------------------------------------------------+--------------------+----------------+\n",
            "| I needed to ship perishable items internationally, and ExpressWay Logistics handled the process flawlessly. They ensured that the items were properly packaged and transported in temperature-controlled conditions.                                                                                                                                                                                                                                                                                                                                                                            | Positive           | Positive       |\n",
            "+-------------------------------------------------------------------------------------------------------------------------------------------------------------------------------------------------------------------------------------------------------------------------------------------------------------------------------------------------------------------------------------------------------------------------------------------------------------------------------------------------------------------------------------------------------------------------------------------------+--------------------+----------------+\n",
            "| I appreciated the flexibility offered by ExpressWay Logistics in terms of delivery options. Their range of delivery speeds and service levels allowed me to choose the option that best suited my needs and budget.However, I was slightly disappointed by the lack of transparency regarding few additional fees and surcharges. I selected a specific delivery option and paid minor charges at checkout, which undermined the initial affordability of the service..                                                                                                                         | Negative           | Negative       |\n",
            "+-------------------------------------------------------------------------------------------------------------------------------------------------------------------------------------------------------------------------------------------------------------------------------------------------------------------------------------------------------------------------------------------------------------------------------------------------------------------------------------------------------------------------------------------------------------------------------------------------+--------------------+----------------+\n",
            "| While ExpressWay Logistics' pricing is competitive, their lack of accountability for delays and damages is disappointing. It's frustrating to pay for a service that fails to deliver on its promises consistently.                                                                                                                                                                                                                                                                                                                                                                             | Negative           | Negative       |\n",
            "+-------------------------------------------------------------------------------------------------------------------------------------------------------------------------------------------------------------------------------------------------------------------------------------------------------------------------------------------------------------------------------------------------------------------------------------------------------------------------------------------------------------------------------------------------------------------------------------------------+--------------------+----------------+\n",
            "| ExpressWay Logistics' pricing may seem attractive at first glance, but beware of some internal hidden fees that may sometimes add up. Coupled with their reliable delivery times, it's simply not worth the hassle.But still I appreciate that my parcel got delivered safely a day after the promised window.                                                                                                                                                                                                                                                                                  | Negative           | Positive       |\n",
            "+-------------------------------------------------------------------------------------------------------------------------------------------------------------------------------------------------------------------------------------------------------------------------------------------------------------------------------------------------------------------------------------------------------------------------------------------------------------------------------------------------------------------------------------------------------------------------------------------------+--------------------+----------------+\n",
            "| ExpressWay Logistics has been my go-to courier service for years, primarily due to their extensive network coverage and competitive pricing. However, my recent experience has left me questioning their reliability. While their user-friendly website and efficient booking process remain commendable, the repeated delays in delivery and lack of proactive communication have been disappointing.Despite these setbacks, their customer service team has always been courteous and responsive, attempting to address my concerns promptly.                                                 | Negative           | Negative       |\n",
            "+-------------------------------------------------------------------------------------------------------------------------------------------------------------------------------------------------------------------------------------------------------------------------------------------------------------------------------------------------------------------------------------------------------------------------------------------------------------------------------------------------------------------------------------------------------------------------------------------------+--------------------+----------------+\n",
            "| ExpressWay Logistics' incompetence led to the loss of my parcel, and their lack of accountability only added to the frustration. Despite filing a claim and providing evidence of the missing items, I received no assistance or compensation for the lost package. Their negligence and disregard for customer satisfaction are unacceptable, and I will be exploring legal options to recoup the value of the lost items.                                                                                                                                                                     | Negative           | Negative       |\n",
            "+-------------------------------------------------------------------------------------------------------------------------------------------------------------------------------------------------------------------------------------------------------------------------------------------------------------------------------------------------------------------------------------------------------------------------------------------------------------------------------------------------------------------------------------------------------------------------------------------------+--------------------+----------------+\n",
            "| I was deeply disappointed by the behavior of the delivery executive from Expressway Logistics. They exhibited a complete disregard for customer satisfaction, arriving late and mishandling the package upon delivery. Despite raising my concerns with Expressway Logistics, there was no acknowledgment or resolution provided.                                                                                                                                                                                                                                                               | Negative           | Negative       |\n",
            "+-------------------------------------------------------------------------------------------------------------------------------------------------------------------------------------------------------------------------------------------------------------------------------------------------------------------------------------------------------------------------------------------------------------------------------------------------------------------------------------------------------------------------------------------------------------------------------------------------+--------------------+----------------+\n",
            "| As a frequent traveler, I often use ExpressWay Logistics to ship luggage and personal belongings ahead of time. Their door-to-door service and reliable tracking make traveling a breeze.                                                                                                                                                                                                                                                                                                                                                                                                       | Positive           | Positive       |\n",
            "+-------------------------------------------------------------------------------------------------------------------------------------------------------------------------------------------------------------------------------------------------------------------------------------------------------------------------------------------------------------------------------------------------------------------------------------------------------------------------------------------------------------------------------------------------------------------------------------------------+--------------------+----------------+\n",
            "| ExpressWay Logistics caught my attention with its promise of seamless shipping solutions and a comprehensive network. However, my recent experiences have revealed some significant shortcomings. Their online platform is disgusting and their tracking system is inaccurate.I've encountered repeated issues with inaccurate weight calculations that have led to unexpected charges. Moreover, the limited options for customizing shipment preferences have made it challenging to meet my requirements.I cannot rely upon it for my future requirements.It failed to meet my requirements. | Negative           | Negative       |\n",
            "+-------------------------------------------------------------------------------------------------------------------------------------------------------------------------------------------------------------------------------------------------------------------------------------------------------------------------------------------------------------------------------------------------------------------------------------------------------------------------------------------------------------------------------------------------------------------------------------------------+--------------------+----------------+\n",
            "| The packaging provided by ExpressWay Logistics is always secure and well-protected, and ensured that my items arrive in perfect condition.                                                                                                                                                                                                                                                                                                                                                                                                                                                      | Positive           | Positive       |\n",
            "+-------------------------------------------------------------------------------------------------------------------------------------------------------------------------------------------------------------------------------------------------------------------------------------------------------------------------------------------------------------------------------------------------------------------------------------------------------------------------------------------------------------------------------------------------------------------------------------------------+--------------------+----------------+\n",
            "| My recent experience with ExpressWay Logistics left me thoroughly impressed. I had a highly time-sensitive shipment that required delicate handling and precise coordination. Despite the challenges, ExpressWay rose to the occasion, demonstrating an unparalleled level of professionalism and efficiency. Their team meticulously planned every aspect of the shipment, from packaging to transportation, ensuring that no detail was overlooked.                                                                                                                                           | Positive           | Positive       |\n",
            "+-------------------------------------------------------------------------------------------------------------------------------------------------------------------------------------------------------------------------------------------------------------------------------------------------------------------------------------------------------------------------------------------------------------------------------------------------------------------------------------------------------------------------------------------------------------------------------------------------+--------------------+----------------+\n",
            "| I was initially impressed by ExpressWay Logistics' promise of reliability and affordability, but my recent encounters have been less than satisfactory. Their website is so irritating and their drivers are too harsh, the repeated delays in delivery have been frustrating. Additionally, the discovery of hidden fees within their pricing structure has left me feeling misled. In addition to these challenges, their customer service team has been inattentive and disrespectful, which has degraded the overall experience.Not at all recommend!                                       | Negative           | Negative       |\n",
            "+-------------------------------------------------------------------------------------------------------------------------------------------------------------------------------------------------------------------------------------------------------------------------------------------------------------------------------------------------------------------------------------------------------------------------------------------------------------------------------------------------------------------------------------------------------------------------------------------------+--------------------+----------------+\n",
            "| Thumbs up to ExpressWay for their prompt responses and reliable shipping solutions. Impressed!                                                                                                                                                                                                                                                                                                                                                                                                                                                                                                  | Positive           | Positive       |\n",
            "+-------------------------------------------------------------------------------------------------------------------------------------------------------------------------------------------------------------------------------------------------------------------------------------------------------------------------------------------------------------------------------------------------------------------------------------------------------------------------------------------------------------------------------------------------------------------------------------------------+--------------------+----------------+\n",
            "| I had a terrible experience with ExpressWay Logistics. Not only was my pickup delayed, but the packaging was not done intactly, and the customer support team was unresponsive when I tried to raise the issue.                                                                                                                                                                                                                                                                                                                                                                                 | Negative           | Negative       |\n",
            "+-------------------------------------------------------------------------------------------------------------------------------------------------------------------------------------------------------------------------------------------------------------------------------------------------------------------------------------------------------------------------------------------------------------------------------------------------------------------------------------------------------------------------------------------------------------------------------------------------+--------------------+----------------+\n",
            "+-------------------------------------------------------------------------------------------------------------------------------------------------------------------------------------------------------------------------------------------------------------------------------------------------------------------------------------------------------------------------------------------------------------------------------------------------------------------------------------------------------------------------------------------------------------------------------------------------+--------------------+----------------+\n",
            "| Review                                                                                                                                                                                                                                                                                                                                                                                                                                                                                                                                                                                          | Model Prediction   | Ground Truth   |\n",
            "+=================================================================================================================================================================================================================================================================================================================================================================================================================================================================================================================================================================================================+====================+================+\n",
            "| The delivery executive assigned by ExpressWay Logistics was courteous and professional during the delivery process. They tried their best to handle the package with care.Unfortunately, the package arrived with slight damage despite the delivery executive's efforts. The packaging seemed more than adequate to protect the contents during transit.                                                                                                                                                                                                                                       | Positive           | Positive       |\n",
            "+-------------------------------------------------------------------------------------------------------------------------------------------------------------------------------------------------------------------------------------------------------------------------------------------------------------------------------------------------------------------------------------------------------------------------------------------------------------------------------------------------------------------------------------------------------------------------------------------------+--------------------+----------------+\n",
            "| ExpressWay Logistics failed to meet my expectations. The delivery was delayed, and the customer support team was unresponsive and unhelpful when I tried to inquire about the status of my parcel.                                                                                                                                                                                                                                                                                                                                                                                              | Negative           | Negative       |\n",
            "+-------------------------------------------------------------------------------------------------------------------------------------------------------------------------------------------------------------------------------------------------------------------------------------------------------------------------------------------------------------------------------------------------------------------------------------------------------------------------------------------------------------------------------------------------------------------------------------------------+--------------------+----------------+\n",
            "| ExpressWay Logistics' incompetence resulted in a major inconvenience when my package was delivered to the wrong recipient. Despite providing accurate delivery information, the package ended up in the hands of someone else, and efforts to retrieve it were unsuccessful. When I contacted customer service for assistance, I was met with apathy and a lack of urgency. Their failure to rectify the situation in a timely manner is unacceptable, and I will be avoiding their services at all costs.                                                                                      | Negative           | Negative       |\n",
            "+-------------------------------------------------------------------------------------------------------------------------------------------------------------------------------------------------------------------------------------------------------------------------------------------------------------------------------------------------------------------------------------------------------------------------------------------------------------------------------------------------------------------------------------------------------------------------------------------------+--------------------+----------------+\n",
            "| Kudos to ExpressWay Logistics for their outstanding service! They've been an essential partner for my business, handling all our shipping needs with professionalism and efficiency. If you're looking for a reliable logistic service provider, look no further than ExpressWay Logistics.                                                                                                                                                                                                                                                                                                     | Positive           | Positive       |\n",
            "+-------------------------------------------------------------------------------------------------------------------------------------------------------------------------------------------------------------------------------------------------------------------------------------------------------------------------------------------------------------------------------------------------------------------------------------------------------------------------------------------------------------------------------------------------------------------------------------------------+--------------------+----------------+\n",
            "| ExpressWay Logistics offers a convenient online platform for booking shipments, and their competitive rates initially drew me in. However, the frequent delays in delivery and lack of transparency regarding additional fees have soured my experience. While their customer service representatives are polite, they often seem powerless to resolve issues effectively.This lack of care and responsibilites from the concerned teams have led me unsatisfied and irritated.I cannot trust and rely on this again.Will definitely not contact them ever for my courier deliveries!           | Negative           | Negative       |\n",
            "+-------------------------------------------------------------------------------------------------------------------------------------------------------------------------------------------------------------------------------------------------------------------------------------------------------------------------------------------------------------------------------------------------------------------------------------------------------------------------------------------------------------------------------------------------------------------------------------------------+--------------------+----------------+\n",
            "| Planning a destination wedding is undoubtedly a daunting task, especially when it comes to coordinating transportation for guests and wedding essentials. Fortunately, ExpressWay Logistics made this aspect of our wedding planning effortless. From the beginning, they were attentive to our needs and provided valuable insights to streamline the process.                                                                                                                                                                                                                                 | Positive           | Positive       |\n",
            "+-------------------------------------------------------------------------------------------------------------------------------------------------------------------------------------------------------------------------------------------------------------------------------------------------------------------------------------------------------------------------------------------------------------------------------------------------------------------------------------------------------------------------------------------------------------------------------------------------+--------------------+----------------+\n",
            "| ExpressWay Logistics consistently delivers on its promises, providing fast, efficient, and reliable courier services that exceeded my expectations.                                                                                                                                                                                                                                                                                                                                                                                                                                             | Positive           | Positive       |\n",
            "+-------------------------------------------------------------------------------------------------------------------------------------------------------------------------------------------------------------------------------------------------------------------------------------------------------------------------------------------------------------------------------------------------------------------------------------------------------------------------------------------------------------------------------------------------------------------------------------------------+--------------------+----------------+\n",
            "| I needed to ship perishable items internationally, and ExpressWay Logistics handled the process flawlessly. They ensured that the items were properly packaged and transported in temperature-controlled conditions.                                                                                                                                                                                                                                                                                                                                                                            | Positive           | Positive       |\n",
            "+-------------------------------------------------------------------------------------------------------------------------------------------------------------------------------------------------------------------------------------------------------------------------------------------------------------------------------------------------------------------------------------------------------------------------------------------------------------------------------------------------------------------------------------------------------------------------------------------------+--------------------+----------------+\n",
            "| I appreciated the flexibility offered by ExpressWay Logistics in terms of delivery options. Their range of delivery speeds and service levels allowed me to choose the option that best suited my needs and budget.However, I was slightly disappointed by the lack of transparency regarding few additional fees and surcharges. I selected a specific delivery option and paid minor charges at checkout, which undermined the initial affordability of the service..                                                                                                                         | Positive           | Negative       |\n",
            "+-------------------------------------------------------------------------------------------------------------------------------------------------------------------------------------------------------------------------------------------------------------------------------------------------------------------------------------------------------------------------------------------------------------------------------------------------------------------------------------------------------------------------------------------------------------------------------------------------+--------------------+----------------+\n",
            "| While ExpressWay Logistics' pricing is competitive, their lack of accountability for delays and damages is disappointing. It's frustrating to pay for a service that fails to deliver on its promises consistently.                                                                                                                                                                                                                                                                                                                                                                             | Negative           | Negative       |\n",
            "+-------------------------------------------------------------------------------------------------------------------------------------------------------------------------------------------------------------------------------------------------------------------------------------------------------------------------------------------------------------------------------------------------------------------------------------------------------------------------------------------------------------------------------------------------------------------------------------------------+--------------------+----------------+\n",
            "| ExpressWay Logistics' pricing may seem attractive at first glance, but beware of some internal hidden fees that may sometimes add up. Coupled with their reliable delivery times, it's simply not worth the hassle.But still I appreciate that my parcel got delivered safely a day after the promised window.                                                                                                                                                                                                                                                                                  | Negative           | Positive       |\n",
            "+-------------------------------------------------------------------------------------------------------------------------------------------------------------------------------------------------------------------------------------------------------------------------------------------------------------------------------------------------------------------------------------------------------------------------------------------------------------------------------------------------------------------------------------------------------------------------------------------------+--------------------+----------------+\n",
            "| ExpressWay Logistics has been my go-to courier service for years, primarily due to their extensive network coverage and competitive pricing. However, my recent experience has left me questioning their reliability. While their user-friendly website and efficient booking process remain commendable, the repeated delays in delivery and lack of proactive communication have been disappointing.Despite these setbacks, their customer service team has always been courteous and responsive, attempting to address my concerns promptly.                                                 | Negative           | Negative       |\n",
            "+-------------------------------------------------------------------------------------------------------------------------------------------------------------------------------------------------------------------------------------------------------------------------------------------------------------------------------------------------------------------------------------------------------------------------------------------------------------------------------------------------------------------------------------------------------------------------------------------------+--------------------+----------------+\n",
            "| ExpressWay Logistics' incompetence led to the loss of my parcel, and their lack of accountability only added to the frustration. Despite filing a claim and providing evidence of the missing items, I received no assistance or compensation for the lost package. Their negligence and disregard for customer satisfaction are unacceptable, and I will be exploring legal options to recoup the value of the lost items.                                                                                                                                                                     | Negative           | Negative       |\n",
            "+-------------------------------------------------------------------------------------------------------------------------------------------------------------------------------------------------------------------------------------------------------------------------------------------------------------------------------------------------------------------------------------------------------------------------------------------------------------------------------------------------------------------------------------------------------------------------------------------------+--------------------+----------------+\n",
            "| I was deeply disappointed by the behavior of the delivery executive from Expressway Logistics. They exhibited a complete disregard for customer satisfaction, arriving late and mishandling the package upon delivery. Despite raising my concerns with Expressway Logistics, there was no acknowledgment or resolution provided.                                                                                                                                                                                                                                                               | Negative           | Negative       |\n",
            "+-------------------------------------------------------------------------------------------------------------------------------------------------------------------------------------------------------------------------------------------------------------------------------------------------------------------------------------------------------------------------------------------------------------------------------------------------------------------------------------------------------------------------------------------------------------------------------------------------+--------------------+----------------+\n",
            "| As a frequent traveler, I often use ExpressWay Logistics to ship luggage and personal belongings ahead of time. Their door-to-door service and reliable tracking make traveling a breeze.                                                                                                                                                                                                                                                                                                                                                                                                       | Positive           | Positive       |\n",
            "+-------------------------------------------------------------------------------------------------------------------------------------------------------------------------------------------------------------------------------------------------------------------------------------------------------------------------------------------------------------------------------------------------------------------------------------------------------------------------------------------------------------------------------------------------------------------------------------------------+--------------------+----------------+\n",
            "| ExpressWay Logistics caught my attention with its promise of seamless shipping solutions and a comprehensive network. However, my recent experiences have revealed some significant shortcomings. Their online platform is disgusting and their tracking system is inaccurate.I've encountered repeated issues with inaccurate weight calculations that have led to unexpected charges. Moreover, the limited options for customizing shipment preferences have made it challenging to meet my requirements.I cannot rely upon it for my future requirements.It failed to meet my requirements. | Negative           | Negative       |\n",
            "+-------------------------------------------------------------------------------------------------------------------------------------------------------------------------------------------------------------------------------------------------------------------------------------------------------------------------------------------------------------------------------------------------------------------------------------------------------------------------------------------------------------------------------------------------------------------------------------------------+--------------------+----------------+\n",
            "| The packaging provided by ExpressWay Logistics is always secure and well-protected, and ensured that my items arrive in perfect condition.                                                                                                                                                                                                                                                                                                                                                                                                                                                      | Positive           | Positive       |\n",
            "+-------------------------------------------------------------------------------------------------------------------------------------------------------------------------------------------------------------------------------------------------------------------------------------------------------------------------------------------------------------------------------------------------------------------------------------------------------------------------------------------------------------------------------------------------------------------------------------------------+--------------------+----------------+\n",
            "| My recent experience with ExpressWay Logistics left me thoroughly impressed. I had a highly time-sensitive shipment that required delicate handling and precise coordination. Despite the challenges, ExpressWay rose to the occasion, demonstrating an unparalleled level of professionalism and efficiency. Their team meticulously planned every aspect of the shipment, from packaging to transportation, ensuring that no detail was overlooked.                                                                                                                                           | Positive           | Positive       |\n",
            "+-------------------------------------------------------------------------------------------------------------------------------------------------------------------------------------------------------------------------------------------------------------------------------------------------------------------------------------------------------------------------------------------------------------------------------------------------------------------------------------------------------------------------------------------------------------------------------------------------+--------------------+----------------+\n",
            "| I was initially impressed by ExpressWay Logistics' promise of reliability and affordability, but my recent encounters have been less than satisfactory. Their website is so irritating and their drivers are too harsh, the repeated delays in delivery have been frustrating. Additionally, the discovery of hidden fees within their pricing structure has left me feeling misled. In addition to these challenges, their customer service team has been inattentive and disrespectful, which has degraded the overall experience.Not at all recommend!                                       | Negative           | Negative       |\n",
            "+-------------------------------------------------------------------------------------------------------------------------------------------------------------------------------------------------------------------------------------------------------------------------------------------------------------------------------------------------------------------------------------------------------------------------------------------------------------------------------------------------------------------------------------------------------------------------------------------------+--------------------+----------------+\n",
            "| Thumbs up to ExpressWay for their prompt responses and reliable shipping solutions. Impressed!                                                                                                                                                                                                                                                                                                                                                                                                                                                                                                  | Positive           | Positive       |\n",
            "+-------------------------------------------------------------------------------------------------------------------------------------------------------------------------------------------------------------------------------------------------------------------------------------------------------------------------------------------------------------------------------------------------------------------------------------------------------------------------------------------------------------------------------------------------------------------------------------------------+--------------------+----------------+\n",
            "| I had a terrible experience with ExpressWay Logistics. Not only was my pickup delayed, but the packaging was not done intactly, and the customer support team was unresponsive when I tried to raise the issue.                                                                                                                                                                                                                                                                                                                                                                                 | Negative           | Negative       |\n",
            "+-------------------------------------------------------------------------------------------------------------------------------------------------------------------------------------------------------------------------------------------------------------------------------------------------------------------------------------------------------------------------------------------------------------------------------------------------------------------------------------------------------------------------------------------------------------------------------------------------+--------------------+----------------+\n"
          ]
        },
        {
          "output_type": "stream",
          "name": "stderr",
          "text": [
            "100%|██████████| 5/5 [00:38<00:00,  7.72s/it]"
          ]
        },
        {
          "output_type": "stream",
          "name": "stdout",
          "text": [
            "+-------------------------------------------------------------------------------------------------------------------------------------------------------------------------------------------------------------------------------------------------------------------------------------------------------------------------------------------------------------------------------------------------------------------------------------------------------------------------------------------------------------------------------------------------------------------------------------------------+--------------------+----------------+\n",
            "| Review                                                                                                                                                                                                                                                                                                                                                                                                                                                                                                                                                                                          | Model Prediction   | Ground Truth   |\n",
            "+=================================================================================================================================================================================================================================================================================================================================================================================================================================================================================================================================================================================================+====================+================+\n",
            "| The delivery executive assigned by ExpressWay Logistics was courteous and professional during the delivery process. They tried their best to handle the package with care.Unfortunately, the package arrived with slight damage despite the delivery executive's efforts. The packaging seemed more than adequate to protect the contents during transit.                                                                                                                                                                                                                                       | Negative           | Positive       |\n",
            "+-------------------------------------------------------------------------------------------------------------------------------------------------------------------------------------------------------------------------------------------------------------------------------------------------------------------------------------------------------------------------------------------------------------------------------------------------------------------------------------------------------------------------------------------------------------------------------------------------+--------------------+----------------+\n",
            "| ExpressWay Logistics failed to meet my expectations. The delivery was delayed, and the customer support team was unresponsive and unhelpful when I tried to inquire about the status of my parcel.                                                                                                                                                                                                                                                                                                                                                                                              | Negative           | Negative       |\n",
            "+-------------------------------------------------------------------------------------------------------------------------------------------------------------------------------------------------------------------------------------------------------------------------------------------------------------------------------------------------------------------------------------------------------------------------------------------------------------------------------------------------------------------------------------------------------------------------------------------------+--------------------+----------------+\n",
            "| ExpressWay Logistics' incompetence resulted in a major inconvenience when my package was delivered to the wrong recipient. Despite providing accurate delivery information, the package ended up in the hands of someone else, and efforts to retrieve it were unsuccessful. When I contacted customer service for assistance, I was met with apathy and a lack of urgency. Their failure to rectify the situation in a timely manner is unacceptable, and I will be avoiding their services at all costs.                                                                                      | Negative           | Negative       |\n",
            "+-------------------------------------------------------------------------------------------------------------------------------------------------------------------------------------------------------------------------------------------------------------------------------------------------------------------------------------------------------------------------------------------------------------------------------------------------------------------------------------------------------------------------------------------------------------------------------------------------+--------------------+----------------+\n",
            "| Kudos to ExpressWay Logistics for their outstanding service! They've been an essential partner for my business, handling all our shipping needs with professionalism and efficiency. If you're looking for a reliable logistic service provider, look no further than ExpressWay Logistics.                                                                                                                                                                                                                                                                                                     | Positive           | Positive       |\n",
            "+-------------------------------------------------------------------------------------------------------------------------------------------------------------------------------------------------------------------------------------------------------------------------------------------------------------------------------------------------------------------------------------------------------------------------------------------------------------------------------------------------------------------------------------------------------------------------------------------------+--------------------+----------------+\n",
            "| ExpressWay Logistics offers a convenient online platform for booking shipments, and their competitive rates initially drew me in. However, the frequent delays in delivery and lack of transparency regarding additional fees have soured my experience. While their customer service representatives are polite, they often seem powerless to resolve issues effectively.This lack of care and responsibilites from the concerned teams have led me unsatisfied and irritated.I cannot trust and rely on this again.Will definitely not contact them ever for my courier deliveries!           | Negative           | Negative       |\n",
            "+-------------------------------------------------------------------------------------------------------------------------------------------------------------------------------------------------------------------------------------------------------------------------------------------------------------------------------------------------------------------------------------------------------------------------------------------------------------------------------------------------------------------------------------------------------------------------------------------------+--------------------+----------------+\n",
            "| Planning a destination wedding is undoubtedly a daunting task, especially when it comes to coordinating transportation for guests and wedding essentials. Fortunately, ExpressWay Logistics made this aspect of our wedding planning effortless. From the beginning, they were attentive to our needs and provided valuable insights to streamline the process.                                                                                                                                                                                                                                 | Positive           | Positive       |\n",
            "+-------------------------------------------------------------------------------------------------------------------------------------------------------------------------------------------------------------------------------------------------------------------------------------------------------------------------------------------------------------------------------------------------------------------------------------------------------------------------------------------------------------------------------------------------------------------------------------------------+--------------------+----------------+\n",
            "| ExpressWay Logistics consistently delivers on its promises, providing fast, efficient, and reliable courier services that exceeded my expectations.                                                                                                                                                                                                                                                                                                                                                                                                                                             | Positive           | Positive       |\n",
            "+-------------------------------------------------------------------------------------------------------------------------------------------------------------------------------------------------------------------------------------------------------------------------------------------------------------------------------------------------------------------------------------------------------------------------------------------------------------------------------------------------------------------------------------------------------------------------------------------------+--------------------+----------------+\n",
            "| I needed to ship perishable items internationally, and ExpressWay Logistics handled the process flawlessly. They ensured that the items were properly packaged and transported in temperature-controlled conditions.                                                                                                                                                                                                                                                                                                                                                                            | Positive           | Positive       |\n",
            "+-------------------------------------------------------------------------------------------------------------------------------------------------------------------------------------------------------------------------------------------------------------------------------------------------------------------------------------------------------------------------------------------------------------------------------------------------------------------------------------------------------------------------------------------------------------------------------------------------+--------------------+----------------+\n",
            "| I appreciated the flexibility offered by ExpressWay Logistics in terms of delivery options. Their range of delivery speeds and service levels allowed me to choose the option that best suited my needs and budget.However, I was slightly disappointed by the lack of transparency regarding few additional fees and surcharges. I selected a specific delivery option and paid minor charges at checkout, which undermined the initial affordability of the service..                                                                                                                         | Negative           | Negative       |\n",
            "+-------------------------------------------------------------------------------------------------------------------------------------------------------------------------------------------------------------------------------------------------------------------------------------------------------------------------------------------------------------------------------------------------------------------------------------------------------------------------------------------------------------------------------------------------------------------------------------------------+--------------------+----------------+\n",
            "| While ExpressWay Logistics' pricing is competitive, their lack of accountability for delays and damages is disappointing. It's frustrating to pay for a service that fails to deliver on its promises consistently.                                                                                                                                                                                                                                                                                                                                                                             | Negative           | Negative       |\n",
            "+-------------------------------------------------------------------------------------------------------------------------------------------------------------------------------------------------------------------------------------------------------------------------------------------------------------------------------------------------------------------------------------------------------------------------------------------------------------------------------------------------------------------------------------------------------------------------------------------------+--------------------+----------------+\n",
            "| ExpressWay Logistics' pricing may seem attractive at first glance, but beware of some internal hidden fees that may sometimes add up. Coupled with their reliable delivery times, it's simply not worth the hassle.But still I appreciate that my parcel got delivered safely a day after the promised window.                                                                                                                                                                                                                                                                                  | Positive           | Positive       |\n",
            "+-------------------------------------------------------------------------------------------------------------------------------------------------------------------------------------------------------------------------------------------------------------------------------------------------------------------------------------------------------------------------------------------------------------------------------------------------------------------------------------------------------------------------------------------------------------------------------------------------+--------------------+----------------+\n",
            "| ExpressWay Logistics has been my go-to courier service for years, primarily due to their extensive network coverage and competitive pricing. However, my recent experience has left me questioning their reliability. While their user-friendly website and efficient booking process remain commendable, the repeated delays in delivery and lack of proactive communication have been disappointing.Despite these setbacks, their customer service team has always been courteous and responsive, attempting to address my concerns promptly.                                                 | Negative           | Negative       |\n",
            "+-------------------------------------------------------------------------------------------------------------------------------------------------------------------------------------------------------------------------------------------------------------------------------------------------------------------------------------------------------------------------------------------------------------------------------------------------------------------------------------------------------------------------------------------------------------------------------------------------+--------------------+----------------+\n",
            "| ExpressWay Logistics' incompetence led to the loss of my parcel, and their lack of accountability only added to the frustration. Despite filing a claim and providing evidence of the missing items, I received no assistance or compensation for the lost package. Their negligence and disregard for customer satisfaction are unacceptable, and I will be exploring legal options to recoup the value of the lost items.                                                                                                                                                                     | Negative           | Negative       |\n",
            "+-------------------------------------------------------------------------------------------------------------------------------------------------------------------------------------------------------------------------------------------------------------------------------------------------------------------------------------------------------------------------------------------------------------------------------------------------------------------------------------------------------------------------------------------------------------------------------------------------+--------------------+----------------+\n",
            "| I was deeply disappointed by the behavior of the delivery executive from Expressway Logistics. They exhibited a complete disregard for customer satisfaction, arriving late and mishandling the package upon delivery. Despite raising my concerns with Expressway Logistics, there was no acknowledgment or resolution provided.                                                                                                                                                                                                                                                               | Negative           | Negative       |\n",
            "+-------------------------------------------------------------------------------------------------------------------------------------------------------------------------------------------------------------------------------------------------------------------------------------------------------------------------------------------------------------------------------------------------------------------------------------------------------------------------------------------------------------------------------------------------------------------------------------------------+--------------------+----------------+\n",
            "| As a frequent traveler, I often use ExpressWay Logistics to ship luggage and personal belongings ahead of time. Their door-to-door service and reliable tracking make traveling a breeze.                                                                                                                                                                                                                                                                                                                                                                                                       | Positive           | Positive       |\n",
            "+-------------------------------------------------------------------------------------------------------------------------------------------------------------------------------------------------------------------------------------------------------------------------------------------------------------------------------------------------------------------------------------------------------------------------------------------------------------------------------------------------------------------------------------------------------------------------------------------------+--------------------+----------------+\n",
            "| ExpressWay Logistics caught my attention with its promise of seamless shipping solutions and a comprehensive network. However, my recent experiences have revealed some significant shortcomings. Their online platform is disgusting and their tracking system is inaccurate.I've encountered repeated issues with inaccurate weight calculations that have led to unexpected charges. Moreover, the limited options for customizing shipment preferences have made it challenging to meet my requirements.I cannot rely upon it for my future requirements.It failed to meet my requirements. | Negative           | Negative       |\n",
            "+-------------------------------------------------------------------------------------------------------------------------------------------------------------------------------------------------------------------------------------------------------------------------------------------------------------------------------------------------------------------------------------------------------------------------------------------------------------------------------------------------------------------------------------------------------------------------------------------------+--------------------+----------------+\n",
            "| The packaging provided by ExpressWay Logistics is always secure and well-protected, and ensured that my items arrive in perfect condition.                                                                                                                                                                                                                                                                                                                                                                                                                                                      | Positive           | Positive       |\n",
            "+-------------------------------------------------------------------------------------------------------------------------------------------------------------------------------------------------------------------------------------------------------------------------------------------------------------------------------------------------------------------------------------------------------------------------------------------------------------------------------------------------------------------------------------------------------------------------------------------------+--------------------+----------------+\n",
            "| My recent experience with ExpressWay Logistics left me thoroughly impressed. I had a highly time-sensitive shipment that required delicate handling and precise coordination. Despite the challenges, ExpressWay rose to the occasion, demonstrating an unparalleled level of professionalism and efficiency. Their team meticulously planned every aspect of the shipment, from packaging to transportation, ensuring that no detail was overlooked.                                                                                                                                           | Positive           | Positive       |\n",
            "+-------------------------------------------------------------------------------------------------------------------------------------------------------------------------------------------------------------------------------------------------------------------------------------------------------------------------------------------------------------------------------------------------------------------------------------------------------------------------------------------------------------------------------------------------------------------------------------------------+--------------------+----------------+\n",
            "| I was initially impressed by ExpressWay Logistics' promise of reliability and affordability, but my recent encounters have been less than satisfactory. Their website is so irritating and their drivers are too harsh, the repeated delays in delivery have been frustrating. Additionally, the discovery of hidden fees within their pricing structure has left me feeling misled. In addition to these challenges, their customer service team has been inattentive and disrespectful, which has degraded the overall experience.Not at all recommend!                                       | Negative           | Negative       |\n",
            "+-------------------------------------------------------------------------------------------------------------------------------------------------------------------------------------------------------------------------------------------------------------------------------------------------------------------------------------------------------------------------------------------------------------------------------------------------------------------------------------------------------------------------------------------------------------------------------------------------+--------------------+----------------+\n",
            "| Thumbs up to ExpressWay for their prompt responses and reliable shipping solutions. Impressed!                                                                                                                                                                                                                                                                                                                                                                                                                                                                                                  | Positive           | Positive       |\n",
            "+-------------------------------------------------------------------------------------------------------------------------------------------------------------------------------------------------------------------------------------------------------------------------------------------------------------------------------------------------------------------------------------------------------------------------------------------------------------------------------------------------------------------------------------------------------------------------------------------------+--------------------+----------------+\n",
            "| I had a terrible experience with ExpressWay Logistics. Not only was my pickup delayed, but the packaging was not done intactly, and the customer support team was unresponsive when I tried to raise the issue.                                                                                                                                                                                                                                                                                                                                                                                 | Negative           | Negative       |\n",
            "+-------------------------------------------------------------------------------------------------------------------------------------------------------------------------------------------------------------------------------------------------------------------------------------------------------------------------------------------------------------------------------------------------------------------------------------------------------------------------------------------------------------------------------------------------------------------------------------------------+--------------------+----------------+\n"
          ]
        },
        {
          "output_type": "stream",
          "name": "stderr",
          "text": [
            "\n"
          ]
        }
      ],
      "source": [
        "# run 5 iterations of zero shot evaluation and few shot evaluation.\n",
        "for _ in tqdm(range(num_eval_runs)):\n",
        "\n",
        "    # For each run create a new sample of examples\n",
        "    examples = create_examples(cs_examples_df)\n",
        "\n",
        "    # Assemble the zero shot prompt with these examples\n",
        "    zero_shot_prompt = [{'role':'system', 'content': zero_shot_system_message}]\n",
        "    # zero_shot_prompt = create_prompt(zero_shot_system_message, examples, user_message_template)\n",
        "\n",
        "    # Assemble the few shot prompt with these examples\n",
        "    few_shot_prompt = create_prompt(few_shot_system_message, examples, user_message_template)\n",
        "\n",
        "    # Evaluate zero shot prompt accuracy on gold examples\n",
        "    zero_shot_micro_f1 = evaluate_prompt(zero_shot_prompt, gold_examples, user_message_template)\n",
        "\n",
        "    # Evaluate few shot prompt accuracy on gold examples\n",
        "    few_shot_micro_f1 = evaluate_prompt(few_shot_prompt, gold_examples, user_message_template)\n",
        "\n",
        "    zero_shot_performance.append(zero_shot_micro_f1)\n",
        "    few_shot_performance.append(few_shot_micro_f1)"
      ]
    },
    {
      "cell_type": "markdown",
      "metadata": {
        "id": "4JSJzAeZZUBl"
      },
      "source": [
        "**(C) Calculate Mean and Standard Deviation for Zero Shot Prompt and Few Shot Prompt (4 Marks)**\n",
        "\n",
        "Compute the average (mean) and measure the variability (standard deviation) of the evaluation scores for both zero shot and few shot prompts."
      ]
    },
    {
      "cell_type": "code",
      "source": [
        "# print the iterative scores for zero shot prompt\n",
        "zero_shot_performance"
      ],
      "metadata": {
        "colab": {
          "base_uri": "https://localhost:8080/"
        },
        "id": "s-7YIH1GvTwY",
        "outputId": "cf159ad5-d1f6-4cf9-b096-d9bd435bc382"
      },
      "execution_count": 42,
      "outputs": [
        {
          "output_type": "execute_result",
          "data": {
            "text/plain": [
              "[0.9047619047619048,\n",
              " 0.9047619047619048,\n",
              " 0.9047619047619048,\n",
              " 0.9047619047619048,\n",
              " 0.9047619047619048]"
            ]
          },
          "metadata": {},
          "execution_count": 42
        }
      ]
    },
    {
      "cell_type": "code",
      "execution_count": 43,
      "metadata": {
        "id": "Wlx7hRekacH2",
        "colab": {
          "base_uri": "https://localhost:8080/"
        },
        "outputId": "c75ad687-8412-4dbc-bf24-420c8b44d63a"
      },
      "outputs": [
        {
          "output_type": "execute_result",
          "data": {
            "text/plain": [
              "(0.9047619047619048, 0.0)"
            ]
          },
          "metadata": {},
          "execution_count": 43
        }
      ],
      "source": [
        "# print the mean and standard deviation of the zero shot prompt\n",
        "np.array(zero_shot_performance).mean(), np.array(zero_shot_performance).std()\n",
        "# Calculate for Zero Shot"
      ]
    },
    {
      "cell_type": "code",
      "source": [
        "# print the iterative scores for few shot prompt\n",
        "few_shot_performance"
      ],
      "metadata": {
        "colab": {
          "base_uri": "https://localhost:8080/"
        },
        "id": "xrMFnkomvkLs",
        "outputId": "2edc98a1-c873-4de2-ac2d-e5dc0f0db6d0"
      },
      "execution_count": 44,
      "outputs": [
        {
          "output_type": "execute_result",
          "data": {
            "text/plain": [
              "[0.9523809523809523,\n",
              " 1.0,\n",
              " 0.9047619047619048,\n",
              " 0.9047619047619048,\n",
              " 0.9523809523809523]"
            ]
          },
          "metadata": {},
          "execution_count": 44
        }
      ]
    },
    {
      "cell_type": "code",
      "execution_count": 45,
      "metadata": {
        "id": "aUt85F--aehR",
        "colab": {
          "base_uri": "https://localhost:8080/"
        },
        "outputId": "8ca38db1-83b2-475c-d321-396433f928d3"
      },
      "outputs": [
        {
          "output_type": "execute_result",
          "data": {
            "text/plain": [
              "(0.9428571428571428, 0.03563483225498991)"
            ]
          },
          "metadata": {},
          "execution_count": 45
        }
      ],
      "source": [
        "# print the mean and standard deviation of the few shot prompt\n",
        "np.array(few_shot_performance).mean(), np.array(few_shot_performance).std()\n",
        "# Calculate for Few Shot"
      ]
    },
    {
      "cell_type": "markdown",
      "metadata": {
        "id": "P5bxwSR894YB"
      },
      "source": [
        "##**Step 5: Observation and Insights and Business perspective (3 Marks)**\n",
        "\n",
        "( Based on the projects, learner needs to share observations, learnings, insights and the business use case where these learnings can be beneficial.\n",
        "Provide a breakdown of the percentage of positive and negative reviews. Additionally, explain how this classification can assist ExpressWay Logistics in addressing the issues identified. )\n"
      ]
    },
    {
      "cell_type": "markdown",
      "metadata": {
        "id": "hJlhwUiT1kAn"
      },
      "source": [
        "<font color='pink'>As a logistic company Expressway Logistics has a focus on speed, precision and customer satification.\n",
        "\n",
        "<font color='pink'>Expressway logistics faces numerous challenges in ensuring seamless deliveries and cusotmer satification.\n",
        "   - Managing variosu customer demands\n",
        "   - Delays in deliveries\n",
        "   - Product arrival intact and safe\n",
        "   - Efficiently storing and handling large volume of packages\n",
        "   - Meeting customer expectation </font>\n",
        "\n",
        "<font color='pink'>Expressway understands that by identifying the sentiment of the customer reviews, they can improve service by:\n",
        "   - Handling different customer demands simultaneously\n",
        "   - dealing with late deliveries\n",
        "   - keeping packages secure and intact\n",
        "   - Finding areas of improvement </font>\n",
        "\n",
        "Based on the data set collected by Expressway logistics, below are the observations.\n",
        "1. Out of a total of <b><font color='red'>131</font></b> reviews, <b><font color='red'>52%</font></b> are positive and <b><font color='red'>48%</font></b> are negative.\n",
        "2. If this data set represents the total reviews received by Expressway, then they have hit their mark <font color='red'>50%</font></b>of their time and hence a sentiment analysis model can help them immensly in improving their service.\n",
        "3. It is a slightly skenewed data set and hence micro F1 seems like a good metrics to help find the effectiveness of the GenAI model.\n",
        "\n",
        "\n",
        "Project insights and observations:\n",
        "\n",
        "1. Using a OpenAI model is less labor intensive and low code maintenance for the Expressway Logistics data team.\n",
        "2. Using zero shot prompting and few shot prompting, it was observed that zero shot prompt consumed <font color='green'> <b>72 tokens</font></b>  while few shot consumed <font color='green'> <b>281 tokens</font></b>. Few shot prompt token count was almost 4 times the zero shot token count because of the few shot examples in the prompt.\n",
        "3. Based on the max token count which is <font color='green'> <b>4096</font></b> for GPT3.5 turbo, either prompting technique can be used, as we will not exceed the max token limit for the model. However, we need to find out which prompting technique is more efficient and also consider the budget of Expressway logistics.\n",
        "4. Based on the evaluation of both prompting technique, zero shot prompt has an<font color='green'> <b> average Micro F1 score of 0.90 </font></b> and the Few shot prompt has an <font color='green'> <b>average Micro F1 score of 0.94</font></b> with deviation of 0.035 between iterations.\n",
        "5. Based on #4, few shot prompting technique is a better method compared to zero shot prompting. Based on OpenAI pricing documentation <font color='green'> <b><u>($1.50 / 1M input tokens)</u></font></b> , the cost is very minuscal as we have only used 7% of the max token and hence Expressway should use the Few shot prompting technique.\n",
        "\n",
        "Conclusion:\n",
        "\n",
        "<font color='pink'>The few shot prompting method can be effectively used in this case by Expressway logistics to identify positive and negative sentiments. They can then continue to improve the areas based on the negative sentiment reviews.\n",
        "\n",
        "Furthermore, using the same technique, Expressway logistics can use multilabelling classification to label the negative sentiments into various areas of grievances and address those in a focused manner.\n",
        "</font>\n",
        "\n",
        "\n"
      ]
    }
  ],
  "metadata": {
    "colab": {
      "provenance": []
    },
    "kernelspec": {
      "display_name": "Python 3",
      "name": "python3"
    },
    "language_info": {
      "codemirror_mode": {
        "name": "ipython",
        "version": 3
      },
      "file_extension": ".py",
      "mimetype": "text/x-python",
      "name": "python",
      "nbconvert_exporter": "python",
      "pygments_lexer": "ipython3",
      "version": "3.12.2"
    }
  },
  "nbformat": 4,
  "nbformat_minor": 0
}